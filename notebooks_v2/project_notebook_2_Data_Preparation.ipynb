{
 "cells": [
  {
   "cell_type": "markdown",
   "id": "10fe3fa3-dd8d-4e4f-b7d4-e9b155e7ce2b",
   "metadata": {
    "tags": []
   },
   "source": [
    "### DSE-230 Final Project\n",
    "## Diabetes Risk Prediction from Personal Health Indicators\n",
    "### Notebook 2: Data Preparation\n",
    "***\n",
    "#### Chunxia Tong  \n",
    "#### Camm Perera\n",
    "#### Sergey Gurvich\n",
    "\n",
    "***\n",
    "## Table of Contents:\n",
    "\n",
    "* [1. Notebook Setup](#project_description)\n",
    "    * [1.1 Imports](#imports)\n",
    "    * [1.2 Start Spark Session](#start_spark_session)\n",
    "    * [1.3 Read Data](#read_data)\n",
    "* [2. Data Preparation](#data_preparation)\n",
    "    * [2.1 Features Removing](#data_preparation)\n",
    "    * [2.2 Dataset Cleaning](#cleaning)\n",
    "    * [2.3 Feature Selection and Transformation](#feature_selection)\n",
    "* [3. Stop Spark Session](#stop)\n",
    "***"
   ]
  },
  {
   "cell_type": "markdown",
   "id": "dbb88d72-6991-4b70-81e7-7a60353a96fb",
   "metadata": {
    "tags": []
   },
   "source": [
    "### 1. Notebook Setup <a class=\"anchor\" id=\"setup\"></a>\n",
    "Please read Readme file located in https://github.com/spring-camm-sergey/dse230/blob/main/README.txt\n",
    "\n",
    "_Note: for running locally, please place the CSV files into HDFS. Example:_\n",
    "```\n",
    "hadoop fs -copyFromLocal work/project/BRFSS_2020_main_dataset.csv /;\n",
    "hadoop fs -copyFromLocal work/project/Behavioral_Risk_Factor_Surveillance_System__BRFSS__Historical_Questions.csv /;\n",
    "hadoop fs -copyFromLocal work/project/BRFSS_feature_codes_map.csv /;\n",
    "```\n",
    "\n",
    "#### 1.1 Imports <a class=\"anchor\" id=\"imports\"></a>"
   ]
  },
  {
   "cell_type": "code",
   "execution_count": 1,
   "id": "72a1f27e-ffdb-4b23-8814-60b247579c23",
   "metadata": {},
   "outputs": [],
   "source": [
    "import pyspark\n",
    "from pyspark.sql import SparkSession\n",
    "from pyspark.sql.functions import col, isnan, when, count, abs"
   ]
  },
  {
   "cell_type": "markdown",
   "id": "2e0c8cbb-cf30-45fd-8623-69a9dcbb4f97",
   "metadata": {},
   "source": [
    "#### 1.2 Start Spark Session <a class=\"anchor\" id=\"start_spark_session\"></a>"
   ]
  },
  {
   "cell_type": "code",
   "execution_count": 2,
   "id": "205c3bb3-36a4-40b3-bd53-3f7149fd69d6",
   "metadata": {},
   "outputs": [
    {
     "name": "stderr",
     "output_type": "stream",
     "text": [
      "WARNING: An illegal reflective access operation has occurred\n",
      "WARNING: Illegal reflective access by org.apache.spark.unsafe.Platform (file:/usr/spark-3.2.1/jars/spark-unsafe_2.12-3.2.1.jar) to constructor java.nio.DirectByteBuffer(long,int)\n",
      "WARNING: Please consider reporting this to the maintainers of org.apache.spark.unsafe.Platform\n",
      "WARNING: Use --illegal-access=warn to enable warnings of further illegal reflective access operations\n",
      "WARNING: All illegal access operations will be denied in a future release\n",
      "Setting default log level to \"WARN\".\n",
      "To adjust logging level use sc.setLogLevel(newLevel). For SparkR, use setLogLevel(newLevel).\n",
      "2022-05-31 00:04:29,415 WARN util.NativeCodeLoader: Unable to load native-hadoop library for your platform... using builtin-java classes where applicable\n"
     ]
    },
    {
     "data": {
      "text/plain": [
       "'3.2.1'"
      ]
     },
     "execution_count": 2,
     "metadata": {},
     "output_type": "execute_result"
    }
   ],
   "source": [
    "conf = pyspark.SparkConf().setAll([('spark.master', 'local[*]'),\n",
    "                                   ('spark.app.name', 'Basic Setup'),\n",
    "                                    ('spark.memory.offHeap.enabled', True),\n",
    "                                    ('spark.memory.offHeap.size','8g'),\n",
    "                                    ('spark.executor.memory', '16g'), \n",
    "                                    ('spark.driver.memory','16g')\n",
    "                                  ]\n",
    "                                  )\n",
    "spark = SparkSession.builder.config(conf=conf).getOrCreate()\n",
    "spark.sparkContext.setLogLevel('OFF')\n",
    "spark.version"
   ]
  },
  {
   "cell_type": "markdown",
   "id": "7b47beaa-f334-4790-9402-28329dc6d489",
   "metadata": {},
   "source": [
    "#### 1.3 Read Data <a class=\"anchor\" id=\"read_data\"></a>"
   ]
  },
  {
   "cell_type": "code",
   "execution_count": 3,
   "id": "70ada890-62b2-4cbf-a801-2c87b94ec8a0",
   "metadata": {},
   "outputs": [
    {
     "name": "stderr",
     "output_type": "stream",
     "text": [
      "                                                                                \r"
     ]
    }
   ],
   "source": [
    "# main dataset\n",
    "orig_df = spark.read.option(\"header\", True).csv('hdfs:///BRFSS_2020_main_dataset.csv', inferSchema=True)\n",
    "\n",
    "# csv of questionaire with possible answers\n",
    "questions_df = spark.read.option(\"header\", True).csv('hdfs:///Behavioral_Risk_Factor_Surveillance_System__BRFSS__Historical_Questions.csv', inferSchema=True)\n",
    "\n",
    "# mapping of labels to actual questions\n",
    "labels_map = spark.read.option(\"header\", True).csv('hdfs:///BRFSS_feature_codes_map.csv', inferSchema=True)"
   ]
  },
  {
   "cell_type": "markdown",
   "id": "218e40e3-a985-430b-99e4-47c5861416b4",
   "metadata": {
    "tags": []
   },
   "source": [
    "## 2. Data Preparation <a class=\"anchor\" id=\"data_preparation\"></a>\n",
    "\n",
    "### 2.1 Features Removing\n",
    "_No additional action needed, because while the EDA we've already removed the features with too many NULLs._"
   ]
  },
  {
   "cell_type": "code",
   "execution_count": 4,
   "id": "58d5482a-d989-4f25-8622-84390f982821",
   "metadata": {},
   "outputs": [
    {
     "name": "stderr",
     "output_type": "stream",
     "text": [
      "                                                                                \r"
     ]
    },
    {
     "name": "stdout",
     "output_type": "stream",
     "text": [
      "Original number of samples: 401958, , number of columns: 279\n",
      "Cleaned number of samples: 401958, , number of columns: 112\n"
     ]
    }
   ],
   "source": [
    "# Note: this code was taken and modified per our needs from:\n",
    "# https://stackoverflow.com/questions/51322445/how-to-drop-all-columns-with-null-values-in-a-pyspark-dataframe\n",
    "\n",
    "def drop_null_columns(sdf, threshold=0):\n",
    "    \"\"\"\n",
    "    Drops all columns which contain null values. \n",
    "    Leave columns, where count(not nulls) > threshhold.\n",
    "    Note: Simulates pandas.DataFrame.dropna(axis=1, thresh=300000)\n",
    "    \n",
    "    :param Dataframe sdf: PySpark DataFrame to work with\n",
    "    :param int threshold: min numbers of not nulls in column in order not to drop it\n",
    "    :return: cleaned PySpark dataFrame\n",
    "    \"\"\"\n",
    "    null_counts = sdf.select([count(when(\n",
    "        col(c).isNull() | \n",
    "        col(c).contains('None') | \n",
    "        col(c).contains('NULL') | \n",
    "        col(c).contains('NA') | \n",
    "        (col(c)=='') | \n",
    "        (col(c)==99) | \n",
    "        isnan(c), \n",
    "        c)).alias(c) for c in sdf.columns]).collect()[0].asDict()\n",
    "    \n",
    "    to_drop = [k for k, v in null_counts.items() if v > sdf.count()-threshold]\n",
    "    sdf = sdf.drop(*to_drop)\n",
    "    return sdf\n",
    "\n",
    "\n",
    "\n",
    "cleaned_df = drop_null_columns(orig_df, threshold=300000)\n",
    "\n",
    "\n",
    "print(f'Original number of samples: {orig_df.count()}, , number of columns: {len(orig_df.columns)}')\n",
    "print(f'Cleaned number of samples: {cleaned_df.count()}, , number of columns: {len(cleaned_df.columns)}')"
   ]
  },
  {
   "cell_type": "markdown",
   "id": "f4a69d55-bd3c-4987-bf95-aec20fa9b91f",
   "metadata": {},
   "source": [
    "### 2.2 Dataset Cleaning <a class=\"anchor\" id=\"cleaning\"></a>\n",
    "_No additional action needed, because while the EDA we've already dropped all remaining rows with NULLs._"
   ]
  },
  {
   "cell_type": "code",
   "execution_count": 5,
   "id": "326de2e5-e9c8-4cb9-8ee5-0d54e5975d17",
   "metadata": {},
   "outputs": [
    {
     "name": "stderr",
     "output_type": "stream",
     "text": [
      "[Stage 852:>                                                        (0 + 4) / 4]\r"
     ]
    },
    {
     "name": "stdout",
     "output_type": "stream",
     "text": [
      "Cleaned number of samples: 326959, and number of features: 112\n"
     ]
    },
    {
     "name": "stderr",
     "output_type": "stream",
     "text": [
      "                                                                                \r"
     ]
    }
   ],
   "source": [
    "cleaned_df = cleaned_df.na.drop()\n",
    "print(f'Cleaned number of samples: {cleaned_df.count()}, and number of features: {len(cleaned_df.columns)}')"
   ]
  },
  {
   "cell_type": "markdown",
   "id": "728df675-f30b-4fb1-922f-13ae5b88252f",
   "metadata": {},
   "source": [
    "##### Create backup of the cleaned dataframe, so we can use it while re-runnning and debugging."
   ]
  },
  {
   "cell_type": "markdown",
   "id": "d4008034-222d-4a60-8c50-df2b33275957",
   "metadata": {
    "tags": []
   },
   "source": [
    "### 2.3 Feature Selection and Transformation  <a class=\"anchor\" id=\"feature_selection\"></a>\n",
    "\n",
    "- We picked fetures according to the absolute correlation coefficients' results >0.1 in the EDA section. Let's apply it here:"
   ]
  },
  {
   "cell_type": "code",
   "execution_count": 6,
   "id": "1ad401e3-8b0d-428b-a29a-3d837afbf8a0",
   "metadata": {},
   "outputs": [],
   "source": [
    "# Candidates from correlation coef. >= 0.1:\n",
    "\n",
    "# +--------+-------------------+\n",
    "# | feature|      corr_absolute|\n",
    "# +--------+-------------------+\n",
    "# | GENHLTH|0.24589367600251408|\n",
    "# |  _AGE_G|0.19092127239726459|\n",
    "# |  _AGE80|0.19072694276261376|\n",
    "# |_AGEG5YR|0.18723669342527285|\n",
    "# |   _BMI5|0.18616837031030695|\n",
    "# | EMPLOY1|0.16976771483478573|\n",
    "# |  _MICHD|0.16944105523216146|\n",
    "# |_BMI5CAT|0.16832290901401584|\n",
    "# | _RFHLTH|0.16507734173422267|\n",
    "# |DIFFWALK|0.15201125568861884|\n",
    "# |   WTKG3|0.15188968238715578|\n",
    "# |_DRDXAR2|0.14709958030515652|\n",
    "# |HAVARTH4|0.14709958030515652|\n",
    "# |_HCVU651|0.14388852597614002|\n",
    "# |_AGE65YR|0.14235057094120832|\n",
    "# |_DRNKDRV|0.13059650197464265|\n",
    "# | ALCDAY5|0.13001893982345375|\n",
    "# | _RFBMI5|0.12933584562653766|\n",
    "# |RMVTETH4|0.12854739562343914|\n",
    "# |EXERANY2|0.11950726230964258|\n",
    "# |CVDINFR4| 0.1161998615943308|\n",
    "# |_TOTINDA|0.11388422824979928|\n",
    "# |CHECKUP1|0.11007528748766457|\n",
    "# |PNEUVAC4|0.10258756884001767|\n",
    "# |_PHYS14D|0.10131009704045844|\n",
    "# +--------+-------------------+\n",
    "\n",
    "cols = [\n",
    "    'GENHLTH',\n",
    "    '_AGE_G',\n",
    "    '_BMI5',\n",
    "    '_AGE80',\n",
    "    '_AGEG5YR',\n",
    "    '_BMI5CAT',\n",
    "    '_MICHD',\n",
    "    'EMPLOY1',\n",
    "    '_RFHLTH',\n",
    "    'WTKG3',\n",
    "    'DIFFWALK',\n",
    "    '_DRDXAR2',\n",
    "    'HAVARTH4',\n",
    "    '_HCVU651',\n",
    "    '_AGE65YR',\n",
    "    '_RFBMI5',\n",
    "    '_DRNKDRV',\n",
    "    'ALCDAY5',\n",
    "    'RMVTETH4',\n",
    "    'EXERANY2',\n",
    "    'CVDINFR4',\n",
    "    '_TOTINDA',\n",
    "    'CHECKUP1',\n",
    "    'PNEUVAC4',\n",
    "    'DIABETE4',\n",
    "]\n",
    "\n",
    "# leave only selected columns\n",
    "df_selected_features = cleaned_df[cols]"
   ]
  },
  {
   "cell_type": "markdown",
   "id": "65363d91-63e4-4e82-ae54-608c8aa078b0",
   "metadata": {},
   "source": [
    "##### Take care of the label column:"
   ]
  },
  {
   "cell_type": "code",
   "execution_count": 7,
   "id": "c2932e50-097b-44d4-998b-3824a3e31d22",
   "metadata": {},
   "outputs": [
    {
     "name": "stderr",
     "output_type": "stream",
     "text": [
      "[Stage 855:>                                                        (0 + 4) / 4]\r"
     ]
    },
    {
     "name": "stdout",
     "output_type": "stream",
     "text": [
      "+-----+------+\n",
      "|label| count|\n",
      "+-----+------+\n",
      "|    1| 42359|\n",
      "|    0|274713|\n",
      "+-----+------+\n",
      "\n"
     ]
    },
    {
     "name": "stderr",
     "output_type": "stream",
     "text": [
      "                                                                                \r"
     ]
    }
   ],
   "source": [
    "# rename diabetes column to 'label'\n",
    "df_selected_features = df_selected_features.withColumnRenamed('DIABETE4', 'label')\n",
    "\n",
    "# # LEAVE ONLY YES AND NO ANSWERS FOR DIABETES QUESTION\n",
    "# Label Response Map:\n",
    "# 1 Yes\n",
    "# 2 Yes, but female told only during pregnancy\n",
    "# 3 No\n",
    "# 4 No, prediabetes or borderline diabetes\n",
    "# 7 Don’t know / Not sure\n",
    "# 9 Refused\n",
    "\n",
    "df_selected_features = df_selected_features.filter((df_selected_features['label']==1)|(df_selected_features['label']==3))  # leave only yes and no\n",
    "\n",
    "# replace 3s by 0s\n",
    "df_selected_features = df_selected_features.withColumn(\"label\", when(df_selected_features[\"label\"] == 3, 0).otherwise(df_selected_features[\"label\"]))\n",
    "\n",
    "# df_selected_features = df_selected_features.na.drop()\n",
    "df_selected_features.groupby('label').count().show()"
   ]
  },
  {
   "cell_type": "markdown",
   "id": "dbbb1561-06de-4649-a039-843452bf039e",
   "metadata": {},
   "source": [
    "##### Print questions and possible answers count:"
   ]
  },
  {
   "cell_type": "code",
   "execution_count": 8,
   "id": "731bba54-efbf-48f8-b41a-9e158ac8b78f",
   "metadata": {
    "tags": []
   },
   "outputs": [],
   "source": [
    "# we'll to feature fransformation in the separate DF\n",
    "df_features_transformation = df_selected_features\n",
    "\n",
    "def print_feature_details(columns, n, print_counts=True):\n",
    "    \"\"\"\n",
    "    The function prints info about the feature: question, code, possible responses, counts.\n",
    "    \n",
    "    :param list columns: - list of features we work with\n",
    "    :param int n - index of the feature we want to print info\n",
    "    :param bool print_counts - True if we wat to print the counts of different responses\n",
    "    :return: None\n",
    "    \"\"\"\n",
    "    print(columns[n])\n",
    "    print(labels_map.filter(labels_map['var']==columns[n])[['question']].first())\n",
    "    question = questions_df.filter((questions_df['VariableName']==columns[n]) & (questions_df['year']==2020))[['Question']].first()\n",
    "    responses = questions_df.filter((questions_df['VariableName']==columns[n]) & (questions_df['year']==2020))[['Responses']].first()\n",
    "    print(question)\n",
    "    print(responses)\n",
    "    \n",
    "    if print_counts:\n",
    "        df_features_transformation.groupBy(columns[n]).count().show()\n",
    "    else:\n",
    "        print('-'*20)"
   ]
  },
  {
   "cell_type": "code",
   "execution_count": 9,
   "id": "3c796067-3807-4569-bb4c-661fbf935dd4",
   "metadata": {},
   "outputs": [
    {
     "name": "stdout",
     "output_type": "stream",
     "text": [
      "GENHLTH\n",
      "Row(question='GENERAL HEALTH')\n",
      "Row(Question='Would you say that in general your health is:')\n",
      "Row(Responses='1=Excellent 2=Very good 3=Good 4=Fair 5=Poor 7=Don’t know/Not Sure 9=Refused')\n",
      "--------------------\n",
      "_AGE_G\n",
      "Row(question='IMPUTED AGE IN SIX GROUPS')\n",
      "None\n",
      "None\n",
      "--------------------\n",
      "_BMI5\n",
      "Row(question='COMPUTED BODY MASS INDEX')\n",
      "None\n",
      "None\n",
      "--------------------\n",
      "_AGE80\n",
      "Row(question='IMPUTED AGE VALUE COLLAPSED ABOVE 80')\n",
      "None\n",
      "None\n",
      "--------------------\n",
      "_AGEG5YR\n",
      "Row(question='REPORTED AGE IN FIVE-YEAR AGE CATEGORIES CALCULATED VARIABLE')\n",
      "None\n",
      "None\n",
      "--------------------\n",
      "_BMI5CAT\n",
      "Row(question='COMPUTED BODY MASS INDEX CATEGORIES')\n",
      "None\n",
      "None\n",
      "--------------------\n",
      "_MICHD\n",
      "Row(question='RESPONDENTS THAT HAVE EVER REPORTED HAVING CORONARY HEART DISEASE (CHD) OR MYOCARDIAL INFARCTION (MI)')\n",
      "None\n",
      "None\n",
      "--------------------\n",
      "EMPLOY1\n",
      "Row(question='EMPLOYMENT STATUS')\n",
      "Row(Question='Are you currently…?')\n",
      "Row(Responses='1=Employed for wages 2=Self-employed 3=Out of work for 1 year or more 4=Out of work for less than 1 year 5=A homemaker 6=A student 7=Retired 8=Unable to work 9=Refused')\n",
      "--------------------\n",
      "_RFHLTH\n",
      "Row(question='ADULTS WITH GOOD OR BETTER HEALTH')\n",
      "None\n",
      "None\n",
      "--------------------\n",
      "WTKG3\n",
      "Row(question='COMPUTED WEIGHT IN KILOGRAMS')\n",
      "None\n",
      "None\n",
      "--------------------\n",
      "DIFFWALK\n",
      "Row(question='DIFFICULTY WALKING OR CLIMBING STAIRS')\n",
      "Row(Question='Do you have serious difficulty walking or climbing stairs?')\n",
      "Row(Responses='1=Yes 2=No 7=Don’t know/Not Sure 9=Refused')\n",
      "--------------------\n",
      "_DRDXAR2\n",
      "Row(question='RESPONDENTS DIAGNOSED WITH ARTHRITIS')\n",
      "None\n",
      "None\n",
      "--------------------\n",
      "HAVARTH4\n",
      "Row(question='TOLD HAVE ARTHRITIS')\n",
      "Row(Question='(Ever told) (you had) some form of arthritis, rheumatoid arthritis, gout, lupus, or fibromyalgia?')\n",
      "Row(Responses='1=Yes 2=No 7=Don’t know/Not Sure 9=Refused')\n",
      "--------------------\n",
      "_HCVU651\n",
      "Row(question='RESPONDENTS AGED 18-64 WITH HEALTH CARE COVERAGE')\n",
      "None\n",
      "None\n",
      "--------------------\n",
      "_AGE65YR\n",
      "Row(question='REPORTED AGE IN TWO AGE GROUPS CALCULATED VARIABLE')\n",
      "None\n",
      "None\n",
      "--------------------\n",
      "_RFBMI5\n",
      "Row(question='OVERWEIGHT OR OBESE CALCULATED VARIABLE')\n",
      "None\n",
      "None\n",
      "--------------------\n",
      "_DRNKDRV\n",
      "Row(question='DRINKING AND DRIVING')\n",
      "None\n",
      "None\n",
      "--------------------\n",
      "ALCDAY5\n",
      "Row(question='DAYS IN PAST 30 HAD ALCOHOLIC BEVERAGE')\n",
      "Row(Question='During the past 30 days, how many days per week or per month did you have at least one drink of any alcoholic beverage such as beer, wine, a malt beverage or liquor?')\n",
      "Row(Responses='101-107=Days per week 201-230=Days in past 30 days 888=No drinks in past 30 days 777=Don’t know/Not sure 999=Refused')\n",
      "--------------------\n",
      "RMVTETH4\n",
      "Row(question='NUMBER OF PERMANENT TEETH REMOVED')\n",
      "Row(Question='Not including teeth lost for injury or orthodontics, how many of your permanent teeth have been removed because of tooth decay or gum disease?')\n",
      "Row(Responses='1=1 to 5 2=6 or more, but not all 3=All 8=None 7=Don’t know/Not sure 9=Refused')\n",
      "--------------------\n",
      "EXERANY2\n",
      "Row(question='EXERCISE IN PAST 30 DAYS')\n",
      "Row(Question='During the past month, other than your regular job, did you participate in any physical activities or exercises such as running, calisthenics, golf, gardening, or walking for exercise?')\n",
      "Row(Responses='1=Yes 2=No 7=Don’t know/Not Sure 9=Refused')\n",
      "--------------------\n",
      "CVDINFR4\n",
      "Row(question='EVER DIAGNOSED WITH HEART ATTACK')\n",
      "Row(Question='(Ever told) you had a heart attack, also called a myocardial infarction?')\n",
      "Row(Responses='1=Yes 2=No 7=Don’t know/Not sure 9=Refused')\n",
      "--------------------\n",
      "_TOTINDA\n",
      "Row(question='LEISURE TIME PHYSICAL ACTIVITY CALCULATED VARIABLE')\n",
      "None\n",
      "None\n",
      "--------------------\n",
      "CHECKUP1\n",
      "Row(question='LENGTH OF TIME SINCE LAST ROUTINE CHECKUP')\n",
      "Row(Question='About how long has it been since you last visited a doctor for a routine checkup?')\n",
      "Row(Responses='1=Within past year (anytime less than 12 months ago) 2=Within past 2 years (1 year but less than 2 years ago) 3=Within past 5 years (2 years but less than 5 years ago) 4=5 or more years ago 7=Don’t know/Not sure 8=Never 9=Refused')\n",
      "--------------------\n",
      "PNEUVAC4\n",
      "Row(question='PNEUMONIA SHOT EVER')\n",
      "Row(Question='Have you ever had a pneumonia shot also known as a pneumococcal vaccine?')\n",
      "Row(Responses='1=Yes 2=No 7=Don’t know/Not Sure 9=Refused')\n",
      "--------------------\n"
     ]
    }
   ],
   "source": [
    "for n in range(len(cols)-1):\n",
    "    print_feature_details(cols, n, print_counts=False)"
   ]
  },
  {
   "cell_type": "markdown",
   "id": "34b6deb1-760a-4723-bc7b-e62c41e25e1e",
   "metadata": {},
   "source": [
    "#### **After manually analyzing the variables and removing highly correlated variables (some variables are calculated from others and are linearly dependent), here is the list that we left with:**\n",
    "- 'GENHLTH' - GENERAL HEALTH\n",
    "- '_AGE80' - IMPUTED AGE VALUE COLLAPSED ABOVE 80\n",
    "- '_BMI5' - COMPUTED BODY MASS INDEX\n",
    "- '_MICHD' - RESPONDENTS THAT HAVE EVER REPORTED HAVING CORONARY HEART DISEASE (CHD) OR MYOCARDIAL INFARCTION (MI)\n",
    "- 'EMPLOY1' - EMPLOYMENT STATUS\n",
    "- 'DIFFWALK' - DIFFICULTY WALKING OR CLIMBING STAIRS\n",
    "- '_DRDXAR2' - RESPONDENTS DIAGNOSED WITH ARTHRITIS\n",
    "- 'ALCDAY5' - DAYS IN PAST 30 HAD ALCOHOLIC BEVERAGE\n",
    "- 'RMVTETH4' - NUMBER OF PERMANENT TEETH REMOVED\n",
    "- 'EXERANY2' - EXERCISE IN PAST 30 DAYS\n",
    "- 'CHECKUP1' - LENGTH OF TIME SINCE LAST ROUTINE CHECKUP\n",
    "- 'PNEUVAC4' - PNEUMONIA SHOT EVER\n",
    "- 'DIABETE4 (label)' - (EVER TOLD) YOU HAD DIABETES"
   ]
  },
  {
   "cell_type": "code",
   "execution_count": 10,
   "id": "afb7494a-a3f7-44e6-be1d-75526ffc9f8c",
   "metadata": {},
   "outputs": [],
   "source": [
    "cols_final = [\n",
    "    'GENHLTH',\n",
    "    '_AGE80',\n",
    "    '_BMI5',\n",
    "    '_MICHD',\n",
    "    'EMPLOY1',\n",
    "    'DIFFWALK',\n",
    "    '_DRDXAR2',\n",
    "    'ALCDAY5',\n",
    "    'RMVTETH4',\n",
    "    'EXERANY2',\n",
    "    'CHECKUP1',\n",
    "    'PNEUVAC4',\n",
    "    'label'\n",
    "]\n",
    "\n",
    "df_features_transformation = df_features_transformation[cols_final]"
   ]
  },
  {
   "cell_type": "markdown",
   "id": "1b709d08-f586-4410-9163-90844027fca2",
   "metadata": {},
   "source": [
    "##### Now, let's go through the features one-by-one and make any additional cleaning needed:"
   ]
  },
  {
   "cell_type": "code",
   "execution_count": 11,
   "id": "4edc5c8e-bcc4-4370-a388-ea79268065a7",
   "metadata": {},
   "outputs": [
    {
     "name": "stdout",
     "output_type": "stream",
     "text": [
      "GENHLTH\n",
      "Row(question='GENERAL HEALTH')\n",
      "Row(Question='Would you say that in general your health is:')\n",
      "Row(Responses='1=Excellent 2=Very good 3=Good 4=Fair 5=Poor 7=Don’t know/Not Sure 9=Refused')\n"
     ]
    },
    {
     "name": "stderr",
     "output_type": "stream",
     "text": [
      "[Stage 933:>                                                        (0 + 4) / 4]\r"
     ]
    },
    {
     "name": "stdout",
     "output_type": "stream",
     "text": [
      "+-------+------+\n",
      "|GENHLTH| count|\n",
      "+-------+------+\n",
      "|      1| 65113|\n",
      "|      3| 92038|\n",
      "|      5| 11933|\n",
      "|      9|   160|\n",
      "|      4| 34981|\n",
      "|      7|   407|\n",
      "|      2|112440|\n",
      "+-------+------+\n",
      "\n"
     ]
    },
    {
     "name": "stderr",
     "output_type": "stream",
     "text": [
      "                                                                                \r"
     ]
    }
   ],
   "source": [
    "n=0\n",
    "print_feature_details(cols_final, n)"
   ]
  },
  {
   "cell_type": "markdown",
   "id": "e6b9406c-9178-4961-a63c-9fb1831d76c1",
   "metadata": {},
   "source": [
    "**Transformation actions:**  \n",
    "_1. Remove answers 9_  \n",
    "_2. Apply one-hot encoding to this feature_"
   ]
  },
  {
   "cell_type": "code",
   "execution_count": 12,
   "id": "aeadac9e-3190-4763-8c28-d13653b94424",
   "metadata": {},
   "outputs": [],
   "source": [
    "df_features_transformation = df_features_transformation.filter(df_features_transformation['GENHLTH']!=9)"
   ]
  },
  {
   "cell_type": "markdown",
   "id": "a9c6f57d-dc35-4739-81fc-96940c3b6af6",
   "metadata": {},
   "source": [
    "***\n",
    "**Next Feature**\n",
    "***"
   ]
  },
  {
   "cell_type": "code",
   "execution_count": 13,
   "id": "dd40d120-fac7-4f2d-827b-fd748e703baf",
   "metadata": {},
   "outputs": [
    {
     "name": "stdout",
     "output_type": "stream",
     "text": [
      "_AGE80\n",
      "Row(question='IMPUTED AGE VALUE COLLAPSED ABOVE 80')\n",
      "None\n",
      "None\n"
     ]
    },
    {
     "name": "stderr",
     "output_type": "stream",
     "text": [
      "[Stage 939:==============>                                          (1 + 3) / 4]\r"
     ]
    },
    {
     "name": "stdout",
     "output_type": "stream",
     "text": [
      "+------+-----+\n",
      "|_AGE80|count|\n",
      "+------+-----+\n",
      "|    31| 3241|\n",
      "|    65| 7524|\n",
      "|    53| 4857|\n",
      "|    78| 4036|\n",
      "|    34| 3652|\n",
      "|    28| 3415|\n",
      "|    76| 4456|\n",
      "|    27| 3235|\n",
      "|    26| 3056|\n",
      "|    44| 3636|\n",
      "|    22| 3092|\n",
      "|    47| 4094|\n",
      "|    52| 5104|\n",
      "|    40| 4625|\n",
      "|    20| 2816|\n",
      "|    57| 5700|\n",
      "|    54| 4868|\n",
      "|    48| 4400|\n",
      "|    19| 2831|\n",
      "|    64| 6626|\n",
      "+------+-----+\n",
      "only showing top 20 rows\n",
      "\n"
     ]
    },
    {
     "name": "stderr",
     "output_type": "stream",
     "text": [
      "                                                                                \r"
     ]
    }
   ],
   "source": [
    "n+=1\n",
    "print_feature_details(cols_final, n)"
   ]
  },
  {
   "cell_type": "markdown",
   "id": "30a233e9-5ebb-4050-a1c5-09275ca595cb",
   "metadata": {},
   "source": [
    "**Transformation actions:**  \n",
    "_Try one hot encoding_"
   ]
  },
  {
   "cell_type": "markdown",
   "id": "3889d2f8-ff1b-4f15-ae4e-dd1ebff18445",
   "metadata": {},
   "source": [
    "***\n",
    "**Next Feature**\n",
    "***"
   ]
  },
  {
   "cell_type": "code",
   "execution_count": 14,
   "id": "2b76b612-efa6-4bdc-84fa-2d54b68b277a",
   "metadata": {},
   "outputs": [
    {
     "name": "stdout",
     "output_type": "stream",
     "text": [
      "_BMI5\n",
      "Row(question='COMPUTED BODY MASS INDEX')\n",
      "None\n",
      "None\n"
     ]
    },
    {
     "name": "stderr",
     "output_type": "stream",
     "text": [
      "[Stage 945:>                                                        (0 + 4) / 4]\r"
     ]
    },
    {
     "name": "stdout",
     "output_type": "stream",
     "text": [
      "+-----+-----+\n",
      "|_BMI5|count|\n",
      "+-----+-----+\n",
      "| 3175|  758|\n",
      "| 3918|    4|\n",
      "| 1829|  174|\n",
      "| 2366|   10|\n",
      "| 2866|   81|\n",
      "| 4101|   58|\n",
      "| 4519|  121|\n",
      "| 3749|   64|\n",
      "| 1645|   22|\n",
      "| 1959|   15|\n",
      "| 2122|   64|\n",
      "| 3794|   15|\n",
      "| 2142|    7|\n",
      "| 1591|    2|\n",
      "| 2659|    1|\n",
      "| 5300|    8|\n",
      "| 1580|    4|\n",
      "| 4818|    5|\n",
      "| 2387|  126|\n",
      "| 3475|  368|\n",
      "+-----+-----+\n",
      "only showing top 20 rows\n",
      "\n"
     ]
    },
    {
     "name": "stderr",
     "output_type": "stream",
     "text": [
      "                                                                                \r"
     ]
    }
   ],
   "source": [
    "n+=1\n",
    "print_feature_details(cols_final, n)"
   ]
  },
  {
   "cell_type": "markdown",
   "id": "60ac34c5-43ad-4901-8477-da91f865c7ce",
   "metadata": {},
   "source": [
    "**Transformation actions:**  \n",
    "_We'll just apply scaling_  \n",
    "_Look for outliers_"
   ]
  },
  {
   "cell_type": "code",
   "execution_count": 15,
   "id": "7f3dc339-1071-43e9-be7a-a53d83cafba5",
   "metadata": {},
   "outputs": [],
   "source": [
    "# remove outliers\n",
    "df_features_transformation = df_features_transformation.filter(df_features_transformation['_BMI5']<6000)"
   ]
  },
  {
   "cell_type": "markdown",
   "id": "3d6e93a8-02e4-4a9a-ab93-aa0c60af3552",
   "metadata": {},
   "source": [
    "***\n",
    "**Next Feature**\n",
    "***"
   ]
  },
  {
   "cell_type": "code",
   "execution_count": 16,
   "id": "b19dfdf3-a6b1-417d-8ee2-898ad6511a68",
   "metadata": {},
   "outputs": [
    {
     "name": "stdout",
     "output_type": "stream",
     "text": [
      "_MICHD\n",
      "Row(question='RESPONDENTS THAT HAVE EVER REPORTED HAVING CORONARY HEART DISEASE (CHD) OR MYOCARDIAL INFARCTION (MI)')\n",
      "None\n",
      "None\n"
     ]
    },
    {
     "name": "stderr",
     "output_type": "stream",
     "text": [
      "[Stage 951:>                                                        (0 + 4) / 4]\r"
     ]
    },
    {
     "name": "stdout",
     "output_type": "stream",
     "text": [
      "+------+------+\n",
      "|_MICHD| count|\n",
      "+------+------+\n",
      "|     1| 27941|\n",
      "|     2|288525|\n",
      "+------+------+\n",
      "\n"
     ]
    },
    {
     "name": "stderr",
     "output_type": "stream",
     "text": [
      "                                                                                \r"
     ]
    }
   ],
   "source": [
    "n+=1\n",
    "print_feature_details(cols_final, n)"
   ]
  },
  {
   "cell_type": "markdown",
   "id": "f196f24f-d208-41d5-9904-fbcbef588aa5",
   "metadata": {},
   "source": [
    "**Transformation actions:**  \n",
    "_1. Replace 2 by 0_"
   ]
  },
  {
   "cell_type": "code",
   "execution_count": 17,
   "id": "c3e03b82-1a02-4c87-a954-955d4eb58379",
   "metadata": {},
   "outputs": [],
   "source": [
    "df_features_transformation = df_features_transformation.withColumn(\"_MICHD\", when(df_features_transformation[\"_MICHD\"] == 2, 0).otherwise(df_features_transformation[\"_MICHD\"]))"
   ]
  },
  {
   "cell_type": "markdown",
   "id": "876dfa16-3fc5-43c1-9a7d-ad9888b1298a",
   "metadata": {},
   "source": [
    "***\n",
    "**Next Feature**\n",
    "***"
   ]
  },
  {
   "cell_type": "code",
   "execution_count": 18,
   "id": "f8df7543-5d77-46e5-8467-00cfd4439677",
   "metadata": {},
   "outputs": [
    {
     "name": "stdout",
     "output_type": "stream",
     "text": [
      "EMPLOY1\n",
      "Row(question='EMPLOYMENT STATUS')\n",
      "Row(Question='Are you currently…?')\n",
      "Row(Responses='1=Employed for wages 2=Self-employed 3=Out of work for 1 year or more 4=Out of work for less than 1 year 5=A homemaker 6=A student 7=Retired 8=Unable to work 9=Refused')\n"
     ]
    },
    {
     "name": "stderr",
     "output_type": "stream",
     "text": [
      "                                                                                \r"
     ]
    },
    {
     "name": "stdout",
     "output_type": "stream",
     "text": [
      "+-------+------+\n",
      "|EMPLOY1| count|\n",
      "+-------+------+\n",
      "|      1|132701|\n",
      "|      6|  8820|\n",
      "|      3|  5321|\n",
      "|      5| 12042|\n",
      "|      9|  1930|\n",
      "|      4| 12578|\n",
      "|      8| 19575|\n",
      "|      7| 95351|\n",
      "|      2| 28148|\n",
      "+-------+------+\n",
      "\n"
     ]
    }
   ],
   "source": [
    "n+=1\n",
    "print_feature_details(cols_final, n)"
   ]
  },
  {
   "cell_type": "markdown",
   "id": "37975b72-666a-466a-b3fe-70afc2dc6ffd",
   "metadata": {},
   "source": [
    "**Transformation actions:**   \n",
    "_1. Remove 9_"
   ]
  },
  {
   "cell_type": "code",
   "execution_count": 19,
   "id": "1d382bd3-a173-4cf8-a648-a7594a30fbd4",
   "metadata": {},
   "outputs": [],
   "source": [
    "df_features_transformation = df_features_transformation.filter(df_features_transformation['EMPLOY1']!=9)"
   ]
  },
  {
   "cell_type": "markdown",
   "id": "47bbc0b4-6b18-4e7b-8464-5fade2f5b184",
   "metadata": {},
   "source": [
    "***\n",
    "**Next Feature**\n",
    "***"
   ]
  },
  {
   "cell_type": "code",
   "execution_count": 20,
   "id": "7cb7bb16-5e1c-4fac-8f33-36e7e9789082",
   "metadata": {},
   "outputs": [
    {
     "name": "stdout",
     "output_type": "stream",
     "text": [
      "DIFFWALK\n",
      "Row(question='DIFFICULTY WALKING OR CLIMBING STAIRS')\n",
      "Row(Question='Do you have serious difficulty walking or climbing stairs?')\n",
      "Row(Responses='1=Yes 2=No 7=Don’t know/Not Sure 9=Refused')\n"
     ]
    },
    {
     "name": "stderr",
     "output_type": "stream",
     "text": [
      "[Stage 963:>                                                        (0 + 4) / 4]\r"
     ]
    },
    {
     "name": "stdout",
     "output_type": "stream",
     "text": [
      "+--------+------+\n",
      "|DIFFWALK| count|\n",
      "+--------+------+\n",
      "|       1| 45128|\n",
      "|       9|   112|\n",
      "|       7|   709|\n",
      "|       2|268587|\n",
      "+--------+------+\n",
      "\n"
     ]
    },
    {
     "name": "stderr",
     "output_type": "stream",
     "text": [
      "                                                                                \r"
     ]
    }
   ],
   "source": [
    "n+=1\n",
    "print_feature_details(cols_final, n)"
   ]
  },
  {
   "cell_type": "markdown",
   "id": "86a42836-fe82-4b1b-b40e-16cb3411516f",
   "metadata": {},
   "source": [
    "**Transformation actions:**   \n",
    "_1. Remove 9_"
   ]
  },
  {
   "cell_type": "code",
   "execution_count": 21,
   "id": "52da3f58-98cf-4d18-8994-00b76cbfdc20",
   "metadata": {},
   "outputs": [],
   "source": [
    "df_features_transformation = df_features_transformation.filter(df_features_transformation['DIFFWALK']!=9)"
   ]
  },
  {
   "cell_type": "markdown",
   "id": "6492a95b-98fd-4581-895d-92f00181649b",
   "metadata": {},
   "source": [
    "***\n",
    "**Next Feature**\n",
    "***"
   ]
  },
  {
   "cell_type": "code",
   "execution_count": 22,
   "id": "6a918036-5001-4467-bda1-a4e48d2c5652",
   "metadata": {},
   "outputs": [
    {
     "name": "stdout",
     "output_type": "stream",
     "text": [
      "_DRDXAR2\n",
      "Row(question='RESPONDENTS DIAGNOSED WITH ARTHRITIS')\n",
      "None\n",
      "None\n"
     ]
    },
    {
     "name": "stderr",
     "output_type": "stream",
     "text": [
      "[Stage 969:>                                                        (0 + 4) / 4]\r"
     ]
    },
    {
     "name": "stdout",
     "output_type": "stream",
     "text": [
      "+--------+------+\n",
      "|_DRDXAR2| count|\n",
      "+--------+------+\n",
      "|       1| 99442|\n",
      "|       2|214982|\n",
      "+--------+------+\n",
      "\n"
     ]
    },
    {
     "name": "stderr",
     "output_type": "stream",
     "text": [
      "                                                                                \r"
     ]
    }
   ],
   "source": [
    "n+=1\n",
    "print_feature_details(cols_final, n)"
   ]
  },
  {
   "cell_type": "markdown",
   "id": "de4abdd0-04e7-4039-9fd2-7743d196a046",
   "metadata": {},
   "source": [
    "**Transformation actions:**  \n",
    "_1. Replace 2 by 0_"
   ]
  },
  {
   "cell_type": "code",
   "execution_count": 23,
   "id": "c22b65b8-7e95-4df4-b594-2962626a5e27",
   "metadata": {},
   "outputs": [],
   "source": [
    "df_features_transformation = df_features_transformation.withColumn(\"_DRDXAR2\", when(df_features_transformation[\"_DRDXAR2\"] == 2, 0).otherwise(df_features_transformation[\"_DRDXAR2\"]))"
   ]
  },
  {
   "cell_type": "markdown",
   "id": "9ddac8fc-5246-4496-bf05-26d750bb68e9",
   "metadata": {},
   "source": [
    "***\n",
    "**Next Feature**\n",
    "***"
   ]
  },
  {
   "cell_type": "code",
   "execution_count": 24,
   "id": "cdc02042-2b8c-44f9-9a1d-cdd4dc9a37b5",
   "metadata": {},
   "outputs": [
    {
     "name": "stdout",
     "output_type": "stream",
     "text": [
      "ALCDAY5\n",
      "Row(question='DAYS IN PAST 30 HAD ALCOHOLIC BEVERAGE')\n",
      "Row(Question='During the past 30 days, how many days per week or per month did you have at least one drink of any alcoholic beverage such as beer, wine, a malt beverage or liquor?')\n",
      "Row(Responses='101-107=Days per week 201-230=Days in past 30 days 888=No drinks in past 30 days 777=Don’t know/Not sure 999=Refused')\n"
     ]
    },
    {
     "name": "stderr",
     "output_type": "stream",
     "text": [
      "[Stage 975:==============>                                          (1 + 3) / 4]\r"
     ]
    },
    {
     "name": "stdout",
     "output_type": "stream",
     "text": [
      "+-------+-----+\n",
      "|ALCDAY5|count|\n",
      "+-------+-----+\n",
      "|    211|   51|\n",
      "|    101|13408|\n",
      "|    210| 7054|\n",
      "|    103| 7988|\n",
      "|    223|   78|\n",
      "|    222|  150|\n",
      "|    209|  216|\n",
      "|    230|13733|\n",
      "|    225| 2747|\n",
      "|    224|  155|\n",
      "|    206| 3242|\n",
      "|    777| 2532|\n",
      "|    212| 1558|\n",
      "|    218|  213|\n",
      "|    205| 8656|\n",
      "|    227|  232|\n",
      "|    207| 2298|\n",
      "|    202|17826|\n",
      "|    107| 5981|\n",
      "|    217|   90|\n",
      "+-------+-----+\n",
      "only showing top 20 rows\n",
      "\n"
     ]
    },
    {
     "name": "stderr",
     "output_type": "stream",
     "text": [
      "                                                                                \r"
     ]
    }
   ],
   "source": [
    "n+=1\n",
    "print_feature_details(cols_final, n)"
   ]
  },
  {
   "cell_type": "markdown",
   "id": "831cbbda-6ca4-46c3-8962-2f2bbb8b3cf3",
   "metadata": {},
   "source": [
    "**Transformation actions:**   \n",
    "_1. Remove 999_  \n",
    "_2. Replace 888 by 0_"
   ]
  },
  {
   "cell_type": "code",
   "execution_count": 25,
   "id": "3468fdf7-5550-4723-97ff-f96fd9733ac1",
   "metadata": {},
   "outputs": [],
   "source": [
    "df_features_transformation = df_features_transformation.filter(df_features_transformation['ALCDAY5']!=999)\n",
    "df_features_transformation = df_features_transformation.withColumn(\"ALCDAY5\", when(df_features_transformation[\"ALCDAY5\"] == 888, 0).otherwise(df_features_transformation[\"ALCDAY5\"]))"
   ]
  },
  {
   "cell_type": "markdown",
   "id": "a399d141-9268-4e34-85e6-4a7c6961d5b4",
   "metadata": {},
   "source": [
    "***\n",
    "**Next Feature**\n",
    "***"
   ]
  },
  {
   "cell_type": "code",
   "execution_count": 26,
   "id": "821ff0eb-3937-4846-bafc-7420d325a0c3",
   "metadata": {},
   "outputs": [
    {
     "name": "stdout",
     "output_type": "stream",
     "text": [
      "RMVTETH4\n",
      "Row(question='NUMBER OF PERMANENT TEETH REMOVED')\n",
      "Row(Question='Not including teeth lost for injury or orthodontics, how many of your permanent teeth have been removed because of tooth decay or gum disease?')\n",
      "Row(Responses='1=1 to 5 2=6 or more, but not all 3=All 8=None 7=Don’t know/Not sure 9=Refused')\n"
     ]
    },
    {
     "name": "stderr",
     "output_type": "stream",
     "text": [
      "[Stage 981:==============>                                          (1 + 3) / 4]\r"
     ]
    },
    {
     "name": "stdout",
     "output_type": "stream",
     "text": [
      "+--------+------+\n",
      "|RMVTETH4| count|\n",
      "+--------+------+\n",
      "|       1| 90164|\n",
      "|       3| 19432|\n",
      "|       9|   364|\n",
      "|       8|164706|\n",
      "|       7|  5821|\n",
      "|       2| 32998|\n",
      "+--------+------+\n",
      "\n"
     ]
    },
    {
     "name": "stderr",
     "output_type": "stream",
     "text": [
      "                                                                                \r"
     ]
    }
   ],
   "source": [
    "n+=1\n",
    "print_feature_details(cols_final, n)"
   ]
  },
  {
   "cell_type": "markdown",
   "id": "82da2839-d81d-49a3-ad24-e6458679766a",
   "metadata": {},
   "source": [
    "**Transformation actions:**   \n",
    "_1. Remove 9_  \n",
    "_2. Replace 8 by 0_"
   ]
  },
  {
   "cell_type": "code",
   "execution_count": 27,
   "id": "596df2ce-ae01-42d7-a568-cd35a0d80b56",
   "metadata": {},
   "outputs": [],
   "source": [
    "df_features_transformation = df_features_transformation.filter(df_features_transformation['RMVTETH4']!=9)\n",
    "df_features_transformation = df_features_transformation.withColumn(\"RMVTETH4\", when(df_features_transformation[\"RMVTETH4\"] == 8, 0).otherwise(df_features_transformation[\"RMVTETH4\"]))"
   ]
  },
  {
   "cell_type": "markdown",
   "id": "0d6e83d0-6299-4810-9e74-5af5e548b6ca",
   "metadata": {},
   "source": [
    "***\n",
    "**Next Feature**\n",
    "***"
   ]
  },
  {
   "cell_type": "code",
   "execution_count": 28,
   "id": "d5d63013-7862-4fad-80be-223a64c2067e",
   "metadata": {},
   "outputs": [
    {
     "name": "stdout",
     "output_type": "stream",
     "text": [
      "EXERANY2\n",
      "Row(question='EXERCISE IN PAST 30 DAYS')\n",
      "Row(Question='During the past month, other than your regular job, did you participate in any physical activities or exercises such as running, calisthenics, golf, gardening, or walking for exercise?')\n",
      "Row(Responses='1=Yes 2=No 7=Don’t know/Not Sure 9=Refused')\n"
     ]
    },
    {
     "name": "stderr",
     "output_type": "stream",
     "text": [
      "[Stage 987:>                                                        (0 + 4) / 4]\r"
     ]
    },
    {
     "name": "stdout",
     "output_type": "stream",
     "text": [
      "+--------+------+\n",
      "|EXERANY2| count|\n",
      "+--------+------+\n",
      "|       1|242555|\n",
      "|       9|    87|\n",
      "|       7|   302|\n",
      "|       2| 70177|\n",
      "+--------+------+\n",
      "\n"
     ]
    },
    {
     "name": "stderr",
     "output_type": "stream",
     "text": [
      "                                                                                \r"
     ]
    }
   ],
   "source": [
    "n+=1\n",
    "print_feature_details(cols_final, n)"
   ]
  },
  {
   "cell_type": "markdown",
   "id": "5ab9dd7b-33fc-4c47-8cf7-6659a4324b5d",
   "metadata": {},
   "source": [
    "**Transformation actions:**   \n",
    "_1. Remove 9_ "
   ]
  },
  {
   "cell_type": "code",
   "execution_count": 29,
   "id": "2b28b999-acd0-4adb-b669-4e838d2bb291",
   "metadata": {},
   "outputs": [],
   "source": [
    "df_features_transformation = df_features_transformation.filter(df_features_transformation['EXERANY2']!=9)"
   ]
  },
  {
   "cell_type": "markdown",
   "id": "21d3baee-a71b-4fc8-8f3d-dba3c3d37079",
   "metadata": {},
   "source": [
    "***\n",
    "**Next Feature**\n",
    "***"
   ]
  },
  {
   "cell_type": "code",
   "execution_count": 30,
   "id": "bac38d57-888e-4e18-95c6-a93086012113",
   "metadata": {},
   "outputs": [
    {
     "name": "stdout",
     "output_type": "stream",
     "text": [
      "CHECKUP1\n",
      "Row(question='LENGTH OF TIME SINCE LAST ROUTINE CHECKUP')\n",
      "Row(Question='About how long has it been since you last visited a doctor for a routine checkup?')\n",
      "Row(Responses='1=Within past year (anytime less than 12 months ago) 2=Within past 2 years (1 year but less than 2 years ago) 3=Within past 5 years (2 years but less than 5 years ago) 4=5 or more years ago 7=Don’t know/Not sure 8=Never 9=Refused')\n"
     ]
    },
    {
     "name": "stderr",
     "output_type": "stream",
     "text": [
      "[Stage 993:==============>                                          (1 + 3) / 4]\r"
     ]
    },
    {
     "name": "stdout",
     "output_type": "stream",
     "text": [
      "+--------+------+\n",
      "|CHECKUP1| count|\n",
      "+--------+------+\n",
      "|       1|242338|\n",
      "|       3| 16221|\n",
      "|       9|   228|\n",
      "|       4| 14400|\n",
      "|       8|  1421|\n",
      "|       7|  2925|\n",
      "|       2| 35501|\n",
      "+--------+------+\n",
      "\n"
     ]
    },
    {
     "name": "stderr",
     "output_type": "stream",
     "text": [
      "                                                                                \r"
     ]
    }
   ],
   "source": [
    "n+=1\n",
    "print_feature_details(cols_final, n)"
   ]
  },
  {
   "cell_type": "markdown",
   "id": "1406fbb7-cfcc-46ef-8db2-8c8aa9e6f8e2",
   "metadata": {},
   "source": [
    "**Transformation actions:**   \n",
    "_1. Remove 9_  \n",
    "_2. Replace 8 by 0_"
   ]
  },
  {
   "cell_type": "code",
   "execution_count": 31,
   "id": "4fd38ccf-8791-4b93-867e-36b315176716",
   "metadata": {},
   "outputs": [],
   "source": [
    "df_features_transformation = df_features_transformation.filter(df_features_transformation['CHECKUP1']!=9)\n",
    "df_features_transformation = df_features_transformation.withColumn(\"CHECKUP1\", when(df_features_transformation[\"CHECKUP1\"] == 8, 0).otherwise(df_features_transformation[\"CHECKUP1\"]))"
   ]
  },
  {
   "cell_type": "markdown",
   "id": "cb11f963-0846-42b8-92c4-b427b6b419c2",
   "metadata": {},
   "source": [
    "***\n",
    "**Next Feature**\n",
    "***"
   ]
  },
  {
   "cell_type": "code",
   "execution_count": 32,
   "id": "dede5589-03e5-469e-b039-f6a6bcca5470",
   "metadata": {},
   "outputs": [
    {
     "name": "stdout",
     "output_type": "stream",
     "text": [
      "PNEUVAC4\n",
      "Row(question='PNEUMONIA SHOT EVER')\n",
      "Row(Question='Have you ever had a pneumonia shot also known as a pneumococcal vaccine?')\n",
      "Row(Responses='1=Yes 2=No 7=Don’t know/Not Sure 9=Refused')\n"
     ]
    },
    {
     "name": "stderr",
     "output_type": "stream",
     "text": [
      "[Stage 999:>                                                        (0 + 4) / 4]\r"
     ]
    },
    {
     "name": "stdout",
     "output_type": "stream",
     "text": [
      "+--------+------+\n",
      "|PNEUVAC4| count|\n",
      "+--------+------+\n",
      "|       1|118534|\n",
      "|       9|   103|\n",
      "|       7| 25760|\n",
      "|       2|168409|\n",
      "+--------+------+\n",
      "\n"
     ]
    },
    {
     "name": "stderr",
     "output_type": "stream",
     "text": [
      "                                                                                \r"
     ]
    }
   ],
   "source": [
    "n+=1\n",
    "print_feature_details(cols_final, n)"
   ]
  },
  {
   "cell_type": "markdown",
   "id": "49ccee32-c20e-4248-b5ff-6394de098b72",
   "metadata": {},
   "source": [
    "**Transformation actions:**   \n",
    "_1. Remove 9_  "
   ]
  },
  {
   "cell_type": "code",
   "execution_count": 33,
   "id": "e3b0e964-81c9-40ee-aa26-8af2da6f8842",
   "metadata": {},
   "outputs": [],
   "source": [
    "df_features_transformation = df_features_transformation.filter(df_features_transformation['PNEUVAC4']!=9)"
   ]
  },
  {
   "cell_type": "markdown",
   "id": "c2f56b75-35b9-4e25-9b46-965df8b01807",
   "metadata": {},
   "source": [
    "***\n",
    "##### Take a final look on the dataset:"
   ]
  },
  {
   "cell_type": "code",
   "execution_count": 34,
   "id": "dc28bcad-edb0-49b0-9d73-14bdf18e5abf",
   "metadata": {},
   "outputs": [
    {
     "name": "stderr",
     "output_type": "stream",
     "text": [
      "[Stage 1002:==============>                                         (1 + 3) / 4]\r"
     ]
    },
    {
     "name": "stdout",
     "output_type": "stream",
     "text": [
      "+-----+------+\n",
      "|label| count|\n",
      "+-----+------+\n",
      "|    1| 41786|\n",
      "|    0|270917|\n",
      "+-----+------+\n",
      "\n"
     ]
    },
    {
     "name": "stderr",
     "output_type": "stream",
     "text": [
      "                                                                                \r"
     ]
    }
   ],
   "source": [
    "df_features_transformation.groupby('label').count().show()"
   ]
  },
  {
   "cell_type": "markdown",
   "id": "0d313353-ce7e-44b5-8281-262f1467c271",
   "metadata": {},
   "source": [
    "##### We have highly imbalanced dataset. Let's balance it:"
   ]
  },
  {
   "cell_type": "code",
   "execution_count": 35,
   "id": "f3f85bad-1af7-45c5-90c4-68180a653488",
   "metadata": {},
   "outputs": [
    {
     "name": "stderr",
     "output_type": "stream",
     "text": [
      "[Stage 1008:>                                                       (0 + 4) / 4]\r"
     ]
    },
    {
     "name": "stdout",
     "output_type": "stream",
     "text": [
      "+-----+-----+\n",
      "|label|count|\n",
      "+-----+-----+\n",
      "|    1|41786|\n",
      "|    0|41769|\n",
      "+-----+-----+\n",
      "\n"
     ]
    },
    {
     "name": "stderr",
     "output_type": "stream",
     "text": [
      "                                                                                \r"
     ]
    }
   ],
   "source": [
    "temp = df_features_transformation.sampleBy('label', fractions={1: 1, 0: 0.1541}, seed=42)\n",
    "temp.count()\n",
    "temp.groupby('label').count().show()\n",
    "df_features_transformation = temp"
   ]
  },
  {
   "cell_type": "code",
   "execution_count": 36,
   "id": "f1f6f9a4-c6a3-4b07-b2ef-888ba00c1a0e",
   "metadata": {},
   "outputs": [
    {
     "name": "stderr",
     "output_type": "stream",
     "text": [
      "[Stage 1011:>                                                       (0 + 4) / 4]\r"
     ]
    },
    {
     "name": "stdout",
     "output_type": "stream",
     "text": [
      "Final number of rows: 83555\n",
      "Final number of columns: 13\n"
     ]
    },
    {
     "name": "stderr",
     "output_type": "stream",
     "text": [
      "                                                                                \r"
     ]
    }
   ],
   "source": [
    "print('Final number of rows:',df_features_transformation.count())\n",
    "print('Final number of columns:',len(df_features_transformation.columns))"
   ]
  },
  {
   "cell_type": "markdown",
   "id": "fb333a8d-79e1-46fe-a488-42f1bfb87747",
   "metadata": {},
   "source": [
    "## 3. Stop Spark Session: <a class=\"anchor\" id=\"stop\"></a>"
   ]
  },
  {
   "cell_type": "markdown",
   "id": "235c47c1-e4f5-4749-852b-6b7c9af6c28c",
   "metadata": {},
   "source": [
    "##### Save to HDFS for using in the next Notebook.\n",
    "**Note: this should produce the file 'df_features_transformation.csv' in HDFS root directory, needed for Notebook # 3.**"
   ]
  },
  {
   "cell_type": "code",
   "execution_count": null,
   "id": "5a8463a6-6d4e-47ff-85da-f021dea3db40",
   "metadata": {},
   "outputs": [],
   "source": [
    "df_features_transformation = df_features_transformation.coalesce(1)\n",
    "df_features_transformation.write.csv('hdfs:///df_features_transformation.csv', mode='overwrite',header=True)"
   ]
  },
  {
   "cell_type": "code",
   "execution_count": 38,
   "id": "4ee118c4-f8cd-4423-a577-19e15c4b8e59",
   "metadata": {},
   "outputs": [],
   "source": [
    "spark.stop()"
   ]
  },
  {
   "cell_type": "code",
   "execution_count": null,
   "id": "95ec1e80-87c6-492c-b00a-6516d3a8b471",
   "metadata": {},
   "outputs": [],
   "source": []
  }
 ],
 "metadata": {
  "kernelspec": {
   "display_name": "Python 3 (ipykernel)",
   "language": "python",
   "name": "python3"
  },
  "language_info": {
   "codemirror_mode": {
    "name": "ipython",
    "version": 3
   },
   "file_extension": ".py",
   "mimetype": "text/x-python",
   "name": "python",
   "nbconvert_exporter": "python",
   "pygments_lexer": "ipython3",
   "version": "3.8.10"
  }
 },
 "nbformat": 4,
 "nbformat_minor": 5
}
