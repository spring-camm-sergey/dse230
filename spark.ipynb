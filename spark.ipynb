{
 "cells": [
  {
   "cell_type": "markdown",
   "id": "a6f076a9-1825-409f-907a-5dc36dbcbb1d",
   "metadata": {},
   "source": [
    "#### Notes:\n",
    "\n",
    "- Preparation\n",
    "    - Look at 99s 888  (double check for other non-relevevant data)  (Sergey)\n",
    "    - BMI/100 (Sergey)\n",
    "    \n",
    "    - Scale / Normalize / Standartize data? (research)  (Spring)\n",
    "    - One hot encoding ? (research)  (Spring)\n",
    "    \n",
    "- Need to choose appropriate features\n",
    "    - Correlation coefficient (13)\n",
    "    - Lasso ? (research if need to)\n",
    "***\n",
    "- Need to choose the best model for classification:\n",
    "    - Calc. cross validation score:\n",
    "        - Select training : test sets 80:20\n",
    "        - Select KFold validation (10 folds) on training set \n",
    "            - Logistic Regression (Camm)\n",
    "            - SVM (resarch) (Sergey)\n",
    "            \n",
    "            \n",
    "            \n",
    "            \n",
    "- We'll compile presentation based on analysis results\n",
    "\n",
    "\n",
    "#### Rubric:\n",
    "- Point breakdown for presentation - 15 points\n",
    "    - Review of problem definition and data description\n",
    "    - Data preparation process\n",
    "    - Analysis approaches\n",
    "    - Analysis results\n",
    "    - Challenges & solutions\n",
    "    - Insights gained\n",
    "    - Future work\n",
    "    - All team members present\n"
   ]
  },
  {
   "cell_type": "markdown",
   "id": "10fe3fa3-dd8d-4e4f-b7d4-e9b155e7ce2b",
   "metadata": {},
   "source": [
    "# DSE-230 Final Project\n",
    "## Diabetes Risk Prediction from Personal Health Indicators\n",
    "### Team 3\n",
    "#### Chunxia Tong  \n",
    "#### Camm Perera\n",
    "#### Sergey Gurvich\n",
    "\n",
    "***\n",
    "##### Table of Contents:\n",
    "\n",
    "* [1. Problem Definition](#1_problem_definition)\n",
    "* [2. Project Setup](#2_project_setup)\n",
    "    * [2.1 Imports](#2_1_imports)\n",
    "    * [2.2 Start Spark Session](#2_2_start_spark_session)\n",
    "    * [2.3 Read Data](#2_3_read_data)\n",
    "        * [](#)\n",
    "        * [](#)\n",
    "        * [](#)\n",
    "***"
   ]
  },
  {
   "cell_type": "markdown",
   "id": "dbb88d72-6991-4b70-81e7-7a60353a96fb",
   "metadata": {
    "tags": []
   },
   "source": [
    "### 1. Problem Definition <a class=\"anchor\" id=\"1_problem_definition\"></a>\n",
    "_bla bla bla..._  \n",
    "git: https://github.com/spring-camm-sergey/dse230  \n",
    "dataset: https://www.cdc.gov/brfss/annual_data/annual_2020.html  \n",
    "_bla bla bla..._  "
   ]
  },
  {
   "cell_type": "markdown",
   "id": "a94baa22-e0d4-45e0-ba8a-3e6972fe14ae",
   "metadata": {},
   "source": [
    "### 2. Project Setup <a class=\"anchor\" id=\"2_project_setup\"></a>\n",
    "#### 2.1 Imports <a class=\"anchor\" id=\"2_1_imports\"></a>"
   ]
  },
  {
   "cell_type": "code",
   "execution_count": 1,
   "id": "72a1f27e-ffdb-4b23-8814-60b247579c23",
   "metadata": {},
   "outputs": [],
   "source": [
    "# import numpy as np\n",
    "# import pandas as pd\n",
    "# import seaborn as sns\n",
    "# import matplaslotlib.pyplot as plt\n",
    "\n",
    "import pyspark\n",
    "from pyspark.sql import SparkSession\n",
    "from pyspark.sql.functions import col,isnan,when,count"
   ]
  },
  {
   "cell_type": "markdown",
   "id": "2e0c8cbb-cf30-45fd-8623-69a9dcbb4f97",
   "metadata": {},
   "source": [
    "#### 2.2 Start Spark Session <a class=\"anchor\" id=\"2_2_start_spark_session\"></a>"
   ]
  },
  {
   "cell_type": "code",
   "execution_count": 2,
   "id": "205c3bb3-36a4-40b3-bd53-3f7149fd69d6",
   "metadata": {},
   "outputs": [
    {
     "name": "stderr",
     "output_type": "stream",
     "text": [
      "WARNING: An illegal reflective access operation has occurred\n",
      "WARNING: Illegal reflective access by org.apache.spark.unsafe.Platform (file:/usr/spark-3.2.1/jars/spark-unsafe_2.12-3.2.1.jar) to constructor java.nio.DirectByteBuffer(long,int)\n",
      "WARNING: Please consider reporting this to the maintainers of org.apache.spark.unsafe.Platform\n",
      "WARNING: Use --illegal-access=warn to enable warnings of further illegal reflective access operations\n",
      "WARNING: All illegal access operations will be denied in a future release\n",
      "Setting default log level to \"WARN\".\n",
      "To adjust logging level use sc.setLogLevel(newLevel). For SparkR, use setLogLevel(newLevel).\n",
      "2022-05-16 04:01:27,114 WARN util.NativeCodeLoader: Unable to load native-hadoop library for your platform... using builtin-java classes where applicable\n"
     ]
    },
    {
     "data": {
      "text/plain": [
       "'3.2.1'"
      ]
     },
     "execution_count": 2,
     "metadata": {},
     "output_type": "execute_result"
    }
   ],
   "source": [
    "conf = pyspark.SparkConf().setAll([('spark.master', 'local[*]'),\n",
    "                                   ('spark.app.name', 'Basic Setup')])\n",
    "spark = SparkSession.builder.config(conf=conf).getOrCreate()\n",
    "spark.version"
   ]
  },
  {
   "cell_type": "markdown",
   "id": "7b47beaa-f334-4790-9402-28329dc6d489",
   "metadata": {},
   "source": [
    "#### 2.3 Read Data <a class=\"anchor\" id=\"2_3_read_data\"></a>"
   ]
  },
  {
   "cell_type": "markdown",
   "id": "3e9fd3b9-1d0c-46cd-850e-41c2cd4d4060",
   "metadata": {
    "tags": []
   },
   "source": [
    "_Place the main CSV file into HDFS:_\n",
    "\n",
    "_hadoop fs -copyFromLocal work/Project/dse230/original_dataset/BRFSS_2020_DATA_NAMES.csv /_"
   ]
  },
  {
   "cell_type": "code",
   "execution_count": 3,
   "id": "70ada890-62b2-4cbf-a801-2c87b94ec8a0",
   "metadata": {},
   "outputs": [
    {
     "name": "stderr",
     "output_type": "stream",
     "text": [
      "                                                                                \r"
     ]
    }
   ],
   "source": [
    "# %%time\n",
    "orig_df = spark.read.option(\"header\", True).csv('hdfs:///BRFSS_2020_DATA_NAMES.csv', inferSchema=True)"
   ]
  },
  {
   "cell_type": "code",
   "execution_count": null,
   "id": "1585c3e8-2ab9-489a-8e3c-a54691ffa9c2",
   "metadata": {
    "tags": []
   },
   "outputs": [],
   "source": []
  },
  {
   "cell_type": "code",
   "execution_count": 4,
   "id": "fdfa3874-57a8-4a25-a4b7-ed2126cb9f8d",
   "metadata": {
    "jupyter": {
     "source_hidden": true
    },
    "tags": []
   },
   "outputs": [],
   "source": [
    "labels_map = {\n",
    "'ACEDEPRS' : 'LIVE WITH ANYONE DEPRESSED, MENTALLY ILL, OR SUICIDAL?',\n",
    "'ACEDIVRC' : 'WERE YOUR PARENTS DIVORCED/SEPERATED?',\n",
    "'ACEDRINK' : 'LIVE WITH A PROBLEM DRINKER/ALCOHOLIC?',\n",
    "'ACEDRUGS' : 'LIVE WITH ANYONE WHO USED ILLEGAL DRUGS OR ABUSED PRESCRIPTIONS?',\n",
    "'ACEHURT1' : 'HOW OFTEN DID A PARENT PHYSICALLY HURT YOU IN ANY WAY?',\n",
    "'ACEHVSEX' : 'HOW OFTEN DID ANYONE EVER FORCE YOU TO HAVE SEX?',\n",
    "'ACEPRISN' : 'LIVE WITH ANYONE WHO SERVED TIME IN PRISON OR JAIL?',\n",
    "'ACEPUNCH' : 'HOW OFTEN DID YOUR PARENTS BEAT EACH OTHER UP?',\n",
    "'ACESWEAR' : 'HOW OFTEN DID A PARENT SWEAR AT YOU?',\n",
    "'ACETOUCH' : 'HOW OFTEN DID ANYONE EVER TOUCH YOU SEXUALLY?',\n",
    "'ACETTHEM' : 'HOW OFTEN DID ANYONE MAKE YOU TOUCH THEM SEXUALLY?',\n",
    "'ADDEPEV3' : '(EVER TOLD) YOU HAD A DEPRESSIVE DISORDER',\n",
    "'ALCDAY5' : 'DAYS IN PAST 30 HAD ALCOHOLIC BEVERAGE',\n",
    "'ASTHMA3' : 'EVER TOLD HAD ASTHMA',\n",
    "'ASTHNOW' : 'STILL HAVE ASTHMA',\n",
    "'AVEDRNK3' : 'AVG ALCOHOLIC DRINKS PER DAY IN PAST 30',\n",
    "'BIRTHSEX' : 'ARE YOU MALE OR FEMALE?',\n",
    "'BLDSTOL1' : 'EVER HAD BLOOD STOOL TEST USING HOME KIT',\n",
    "'BLDSUGAR' : 'HOW OFTEN CHECK BLOOD FOR GLUCOSE',\n",
    "'BLIND' : 'BLIND OR DIFFICULTY SEEING',\n",
    "'CADULT1' : 'ARE YOU 18 YEARS OF AGE OR OLDER?',\n",
    "'CAREGIV1' : 'PROVIDED REGULAR CARE FOR FAMILY OR FRIEND',\n",
    "'CASTHDX2' : 'HLTH PRO EVER SAID CHILD HAS ASTHMA',\n",
    "'CASTHNO2' : 'CHILD STILL HAVE ASTHMA?',\n",
    "'CCLGHOUS' : 'DO YOU LIVE IN COLLEGE HOUSING?',\n",
    "'CDASSIST' : 'NEED ASSISTANCE WITH DAY-TO_DAY ACTIVITIES DUE TO CONFUSION OR MEMORY LOSS',\n",
    "'CDDISCUS' : 'HAVE YOU DISCUSSED YOUR CONFUSION OR MEMORY LOSS WITH A HEALTH CARE PROFESSIONAL?',\n",
    "'CDHELP' : 'WHEN YOU NEED HELP WITH DAY-TO-DAY ACTIVITIES ARE YOU ABLE TO GET IT',\n",
    "'CDHOUSE' : 'GIVEN UP DAY-TO-DAY CHORES DUE TO CONFUSION OR MEMORY LOSS',\n",
    "'CDSOCIAL' : 'DOES CONFUSION OR MEMORY LOSS INTERFERE WITH WORK OR SOCIAL ACTIVITIES',\n",
    "'CELLFON5' : 'IS THIS A CELL PHONE?',\n",
    "'CELLSEX' : 'ARE YOU MALE OR FEMALE?',\n",
    "'CELPHONE' : 'CELLULAR TELEPHONE',\n",
    "'CHCCOPD2' : '(EVER TOLD) YOU HAD (COPD) CHRONIC OBSTRUCTIVE PULMONARY DISEASE, EMPHYSEMA OR CHRONIC BRONCHITIS?',\n",
    "'CHCKDNY2' : 'EVER TOLD YOU HAVE KIDNEY DISEASE?',\n",
    "'CHCOCNCR' : '(EVER TOLD) YOU HAD ANY OTHER TYPES OF CANCER?',\n",
    "'CHCSCNCR' : '(EVER TOLD) YOU HAD SKIN CANCER?',\n",
    "'CHECKUP1' : 'LENGTH OF TIME SINCE LAST ROUTINE CHECKUP',\n",
    "'CHILDREN' : 'NUMBER OF CHILDREN IN HOUSEHOLD',\n",
    "'CHKHEMO3' : 'TIMES CHECKED FOR GLYCOSYLATED HEMOGLOBIN',\n",
    "'CIMEMLOS' : 'HAVE YOU EXPERIENCED CONFUSION OR MEMORY LOSS THAT IS HAPPENING MORE OFTEN OR IS GETTING WORSE?',\n",
    "'CNCRAGE' : 'AGE TOLD HAD CANCER',\n",
    "'CNCRDIFF' : 'HOW MANY TYPES OF CANCER?',\n",
    "'CNCRTYP1' : 'TYPE OF CANCER',\n",
    "'COLGHOUS' : 'DO YOU LIVE IN COLLEGE HOUSING?',\n",
    "'COLGSEX' : 'ARE YOU MALE OR FEMALE?',\n",
    "'COLNSCPY' : 'HAVE YOU EVER HAD A COLONOSCOPY?',\n",
    "'COLNTEST' : 'HOW LONG HAS IT BEEN SINCE YOU HAD COLONOSCOPY?',\n",
    "'CPDEMO1B' : 'DO YOU HAVE A CELL PHONE FOR PERSONAL USE?',\n",
    "'CRGVALZD' : 'DOES PERSON BEING CARED FOR HAVE ALZHEIMER¥S DISEASE?',\n",
    "'CRGVEXPT' : 'DO YOU EXPECT TO HAVE A RELATIVE YOU WILL NEED TO PROVIDE CARE FOR?',\n",
    "'CRGVHOU1' : 'MANAGED HOUSEHOLD TASKS',\n",
    "'CRGVHRS1' : 'HOW MANY HOURS DO YOU PROVIDE CARE FOR PERSON?',\n",
    "'CRGVLNG1' : 'HOW LONG PROVIDED CARE FOR PERSON.',\n",
    "'CRGVPER1' : 'MANAGED PERSONAL CARE',\n",
    "'CRGVPRB3' : 'WHAT IS THE MAJOR HEALTH PROBLEM, ILLNESS, DISABILITY FOR CARE FOR PERSON?',\n",
    "'CRGVREL4' : 'RELATIONSHIP OF PERSON TO WHOM YOU ARE GIVING CARE?',\n",
    "'CSRVCLIN' : 'PARTICIPATE IN CLINICAL TRIAL AS PART OF CANCER TREATMENT?',\n",
    "'CSRVCTL2' : 'IS PAIN UNDER CONTROL?',\n",
    "'CSRVDEIN' : 'EVER DENIED INSURANCE COVERAGE BECAUSE OF YOUR CANCER?',\n",
    "'CSRVDOC1' : 'WHAT TYPE OF DOCTOR PROVIDES MAJORITY OF YOUR CARE',\n",
    "'CSRVINSR' : 'DID HEALTH INSURANCE PAY FOR ALL OF YOUR CANCER TREATMENT',\n",
    "'CSRVINST' : 'INSTRUCTIONS WRITTEN OR PRINTED',\n",
    "'CSRVPAIN' : 'CURRENTLY HAVE PHYSICAL PAIN FROM CANCER OR TREATMENT?',\n",
    "'CSRVRTRN' : 'EVER RECEIVE INSTRUCTIONS FROM A DOCTOR FOR FOLLOW-UP CHECK-UPS',\n",
    "'CSRVSUM' : 'DID YOU RECEIVE A SUMMARY OF CANCER TREATMENTS RECEIVED',\n",
    "'CSRVTRT3' : 'CURRENTLY RECEIVING TREATMENT FOR CANCER',\n",
    "'CSTATE1' : 'DO YOU CURRENTLY LIVE IN  ____(STATE)____?',\n",
    "'CTELENM1' : 'CORRECT TELEPHONE NUMBER?',\n",
    "'CTELNUM1' : 'CORRECT PHONE NUMBER?',\n",
    "'CVDCRHD4' : 'EVER DIAGNOSED WITH ANGINA OR CORONARY HEART DISEASE',\n",
    "'CVDINFR4' : 'EVER DIAGNOSED WITH HEART ATTACK',\n",
    "'CVDSTRK3' : 'EVER DIAGNOSED WITH A STROKE',\n",
    "'DEAF' : 'ARE YOU DEAF OR DO YOU HAVE SERIOUS DIFFICULTY HEARING?',\n",
    "'DECIDE' : 'DIFFICULTY CONCENTRATING OR REMEMBERING',\n",
    "'DIABAGE3' : 'AGE WHEN TOLD DIABETES',\n",
    "'DIABEDU' : 'EVER TAKEN CLASS IN MANAGING DIABETES',\n",
    "'DIABETE4' : '(EVER TOLD) YOU HAD DIABETES',\n",
    "'DIABEYE' : 'EVER TOLD DIABETES HAS AFFECTED EYES',\n",
    "'DIFFALON' : 'DIFFICULTY DOING ERRANDS ALONE',\n",
    "'DIFFDRES' : 'DIFFICULTY DRESSING OR BATHING',\n",
    "'DIFFWALK' : 'DIFFICULTY WALKING OR CLIMBING STAIRS',\n",
    "'DISPCODE' : 'FINAL DISPOSITION',\n",
    "'DOCTDIAB' : 'TIMES SEEN HEALTH PROFESSIONAL FOR DIABETES',\n",
    "'DRNK3GE5' : 'BINGE DRINKING',\n",
    "'DRNKANY5' : 'DRINK ANY ALCOHOLIC BEVERAGES IN PAST 30 DAYS',\n",
    "'DRNKDRI2' : 'DID YOU DRIVE AFTER HAVING TOO MUCH TO DRINK IN THE PAST 30 DAYS?',\n",
    "'DROCDY3_' : 'COMPUTED DRINK-OCCASIONS-PER-DAY',\n",
    "'ECIGARET' : 'HAVE YOU EVER USED AN E-CIGARETTE OR OTHER ELECTRONIC ìVAPINGî PRODUCT?',\n",
    "'ECIGNOW' : 'DO YOU NOW USE E-CIGARETTES, EVERY DAY, SOME DAYS, OR NOT AT ALL?',\n",
    "'EDUCA' : 'EDUCATION LEVEL',\n",
    "'EMPLOY1' : 'EMPLOYMENT STATUS',\n",
    "'EXERANY2' : 'EXERCISE IN PAST 30 DAYS',\n",
    "'EYEEXAM1' : 'LAST EYE EXAM WHERE PUPILS WERE DILATED',\n",
    "'FALL12MN' : 'HAD FALL PAST TWELVE MONTHS',\n",
    "'FALLINJ4' : 'INJURED IN FALL',\n",
    "'FEETCHK' : 'TIMES FEET CHECK FOR SORES/IRRITATIONS',\n",
    "'FEETCHK3' : 'HOW OFTEN CHECK FEET FOR SORES OR IRRITATIONS',\n",
    "'FLSHTMY3' : 'WHEN RECEIVED MOST RECENT SEASONAL FLU SHOT/SPRAY',\n",
    "'FLUSHOT7' : 'ADULT FLU SHOT/SPRAY PAST 12 MOS',\n",
    "'FMONTH' : 'FILE MONTH',\n",
    "'GENHLTH' : 'GENERAL HEALTH',\n",
    "'HADHYST2' : 'HAD HYSTERECTOMY',\n",
    "'HADMAM' : 'HAVE YOU EVER HAD A MAMMOGRAM',\n",
    "'HADPAP2' : 'EVER HAD A PAP TEST',\n",
    "'HAVARTH4' : 'TOLD HAVE ARTHRITIS',\n",
    "'HAVECFS' : 'STILL HAVE CHRONIC FATIGUE SYNDROME OR MYALGIC ENCEPHALOMYELITIS',\n",
    "'HAVEHEPB' : 'TOLD  HAD HEPATITIS B',\n",
    "'HAVEHEPC' : 'STILL HAVE HEPATITIS C',\n",
    "'HEIGHT3' : 'REPORTED HEIGHT IN FEET AND INCHES',\n",
    "'HHADULT' : 'NUMBER OF ADULTS IN HOUSEHOLD',\n",
    "'HIVRISK5' : 'DO ANY HIGH RISK SITUATIONS APPLY',\n",
    "'HIVTST7' : 'EVER TESTED H.I.V.',\n",
    "'HIVTSTD3' : 'MONTH AND YEAR OF LAST HIV TEST',\n",
    "'HLTHCVR1' : 'PRIMARY HEALTH INSURANCE COVERAGE',\n",
    "'HLTHPLN1' : 'HAVE ANY HEALTH CARE COVERAGE',\n",
    "'HOWLONG' : 'HOW LONG SINCE LAST MAMMOGRAM',\n",
    "'HPLSTTST' : 'HOW LONG SINCE YOUR LAST HPV TEST?',\n",
    "'HPVADSHT' : 'NUMBER OF HPV SHOTS RECEIVED',\n",
    "'HPVADVC4' : 'EVER HAD AN H.P.V. VACCINATION?',\n",
    "'HPVTEST' : 'HAVE YOU EVER HAD AN HPV TEST?',\n",
    "'HTIN4' : 'COMPUTED HEIGHT IN INCHES',\n",
    "'HTM4' : 'COMPUTED HEIGHT IN METERS',\n",
    "'IDATE' : 'INTERVIEW DATE',\n",
    "'IDAY' : 'INTERVIEW DAY',\n",
    "'IMFVPLA1' : 'WHERE DID YOU GET YOUR LAST FLU SHOT/VACCINE?',\n",
    "'IMONTH' : 'INTERVIEW MONTH',\n",
    "'INCOME2' : 'INCOME LEVEL',\n",
    "'INSULIN1' : 'NOW TAKING INSULIN',\n",
    "'IYEAR' : 'INTERVIEW YEAR',\n",
    "'LADULT1' : 'ARE YOU 18 YEARS OF AGE OR OLDER?',\n",
    "'LANDLINE' : 'DO YOU ALSO HAVE A LANDLINE TELEPHONE?',\n",
    "'LANDSEX' : 'ARE YOU MALE OR FEMALE?',\n",
    "'LASTDEN4' : 'LAST VISITED DENTIST OR DENTAL CLINIC',\n",
    "'LASTPAP2' : 'HOW LONG SINCE LAST PAP TEST',\n",
    "'LASTSMK2' : 'INTERVAL SINCE LAST SMOKED',\n",
    "'LCSCTSCN' : 'DID YOU HAVE A CT OR CAT SCAN?',\n",
    "'LCSFIRST' : 'HOW OLD WHEN YOU FIRST STARTED SMOKING?',\n",
    "'LCSLAST' : 'HOW OLD WHEN YOU LAST SMOKED?',\n",
    "'LCSNUMCG' : 'ON AVERAGE, HOW MANY CIGARETTES DO YOU SMOKE EACH DAY?',\n",
    "'LSTBLDS4' : 'HOW LONG SINCE YOU HAD BLOOD STOOL TEST?',\n",
    "'MARIJAN1' : 'DURING THE PAST 30 DAYS, ON HOW MANY DAYS DID YOU USE MARIJUANA OR HASHISH?',\n",
    "'MARITAL' : 'MARITAL STATUS',\n",
    "'MAXDRNKS' : 'MOST DRINKS ON SINGLE OCCASION PAST 30 DAYS',\n",
    "'MEDCOST' : 'COULD NOT SEE DR. BECAUSE OF COST',\n",
    "'MEDSHEPB' : 'CURRENTLY TAKING MEDICINE FOR HEPATITIS B',\n",
    "'MENTHLTH' : 'NUMBER OF DAYS MENTAL HEALTH NOT GOOD',\n",
    "'MSCODE' : 'METROPOLITAN STATUS CODE',\n",
    "'NUMADULT' : 'NUMBER OF ADULTS IN HOUSEHOLD',\n",
    "'NUMHHOL3' : 'HOUSEHOLD TELEPHONES',\n",
    "'NUMMEN' : 'NUMBER OF ADULT MEN IN HOUSEHOLD',\n",
    "'NUMPHON3' : 'RESIDENTIAL PHONES',\n",
    "'NUMWOMEN' : 'NUMBER OF ADULT WOMEN IN HOUSEHOLD',\n",
    "'PCDMDEC1' : 'WHO MADE THE DECISION WITH YOU TO HAVE PSA TEST?',\n",
    "'PCPSAAD3' : 'HAS A HEALTH PROFESSIONAL EVER TALKED WITH YOU ABOUT THE ADVANTAGES OF THE PSA TEST?',\n",
    "'PCPSADE1' : 'WHY WAS PSA TEST DONE?',\n",
    "'PCPSADI1' : 'HAS A HEALTH PROFESSIONAL EVER TALKED WITH YOU ABOUT THE DISADVANTAGES OF THE PSA TEST?',\n",
    "'PCPSARE1' : 'HAS A DOCTOR EVER RECOMMENDED THAT YOU HAVE A PSA TEST?',\n",
    "'PCPSARS1' : 'WHAT WAS THE MAIN REASON YOU HAD THIS PSA TEST?',\n",
    "'PDIABTST' : 'HAD A TEST FOR HIGH BLOOD SUGAR IN PAST THREE YEARS',\n",
    "'PERSDOC2' : 'MULTIPLE HEALTH CARE PROFESSIONALS',\n",
    "'PHYSHLTH' : 'NUMBER OF DAYS PHYSICAL HEALTH NOT GOOD',\n",
    "'PNEUVAC4' : 'PNEUMONIA SHOT EVER',\n",
    "'POORHLTH' : 'POOR PHYSICAL OR MENTAL HEALTH',\n",
    "'PREDIAB1' : 'EVER BEEN TOLD YOU HAVE PRE-DIABETES OR BORDERLINE DIABETES',\n",
    "'PREGNANT' : 'PREGNANCY STATUS',\n",
    "'PRIRHEPC' : 'WERE YOU TREATED FOR HEPATITIS C PRIOR TO 2015',\n",
    "'PSATEST1' : 'EVER HAD PSA TEST',\n",
    "'PSATIME' : 'TIME SINCE LAST PSA TEST',\n",
    "'PVTRESD1' : 'PRIVATE RESIDENCE?',\n",
    "'PVTRESD3' : 'DO YOU LIVE IN A PRIVATE RESIDENCE?',\n",
    "'QSTLANG' : 'LANGUAGE IDENTIFIER',\n",
    "'QSTVER' : 'QUESTIONNAIRE VERSION IDENTIFIER',\n",
    "'RCSGENDR' : 'GENDER OF CHILD',\n",
    "'RCSRLTN2' : 'RELATIONSHIP TO CHILD',\n",
    "'RENTHOM1' : 'OWN OR RENT HOME',\n",
    "'RESPSLCT' : 'RESPONDENT SELECTION',\n",
    "'RMVTETH4' : 'NUMBER OF PERMANENT TEETH REMOVED',\n",
    "'RSNMRJN1' : 'WHAT WAS THE REASON YOU USED MARIJUANA?',\n",
    "'SAFETIME' : 'SAFE TIME TO TALK?',\n",
    "'SDNATEST' : 'HOW LONG SINCE YOU HAD STOOL DNA?',\n",
    "'SEATBELT' : 'HOW OFTEN USE SEATBELTS IN CAR?',\n",
    "'SEQNO' : 'ANNUAL SEQUENCE NUMBER',\n",
    "'SEXVAR' : 'SEX OF RESPONDENT',\n",
    "'SHINGLE2' : 'HAVE YOU EVER HAD THE SHINGLES OR ZOSTER VACCINE?',\n",
    "'SIGMSCPY' : 'HAVE YOU EVER HAD A SIGMOIDOSCOPY?',\n",
    "'SIGMTEST' : 'HOW LONG HAS IT BEEN SINCE YOU HAD SIGMOIDOSCOPY?',\n",
    "'SLEPTIM1' : 'HOW MUCH TIME DO YOU SLEEP',\n",
    "'SMOKDAY2' : 'FREQUENCY OF DAYS NOW SMOKING',\n",
    "'SMOKE100' : 'SMOKED AT LEAST 100 CIGARETTES',\n",
    "'SOFEMALE' : 'SEXUAL ORIENTATION',\n",
    "'SOMALE' : 'SEXUAL ORIENTATION',\n",
    "'STATERE1' : 'RESIDENT OF STATE',\n",
    "'STOOLDNA' : 'EVER HAD STOOL DNA TEST?',\n",
    "'STOPSMK2' : 'STOPPED SMOKING IN PAST 12 MONTHS',\n",
    "'TETANUS1' : 'RECEIVED TETANUS SHOT SINCE 2005?',\n",
    "'TOLDCFS' : 'TOLD HAD CHRONIC FATIGUE SYNDROME OR MYALGIC ENCEPHALOMYELITIS',\n",
    "'TOLDHEPC' : 'TOLD HAD HEPATITIS C',\n",
    "'TRETHEPC' : 'TREATED FOR HEPATITIS C',\n",
    "'TRNSGNDR' : 'DO YOU CONSIDER YOURSELF TO BE TRANSGENDER?',\n",
    "'USEMRJN2' : 'DURING THE PAST 30 DAYS, HOW DID YOU PRIMARILY USE MARIJUANA?',\n",
    "'USENOW3' : 'USE OF SMOKELESS TOBACCO PRODUCTS',\n",
    "'VCLNTEST' : 'HOW LONG HAS IT BEEN SINCE YOU HAD VIRTUAL COLONOSCOPY?',\n",
    "'VETERAN3' : 'ARE YOU A VETERAN',\n",
    "'VIRCOLON' : 'HAVE YOU EVER HAD A VIRTUAL COLONOSCOPY?',\n",
    "'WEIGHT2' : 'REPORTED WEIGHT IN POUNDS',\n",
    "'WORKCFS' : 'HOW MANY HOURS A WEEK ARE YOU BEEN ABLE TO WORK',\n",
    "'WTKG3' : 'COMPUTED WEIGHT IN KILOGRAMS',\n",
    "'_AGE65YR' : 'REPORTED AGE IN TWO AGE GROUPS CALCULATED VARIABLE',\n",
    "'_AGE80' : 'IMPUTED AGE VALUE COLLAPSED ABOVE 80',\n",
    "'_AGEG5YR' : 'REPORTED AGE IN FIVE-YEAR AGE CATEGORIES CALCULATED VARIABLE',\n",
    "'_AGE_G' : 'IMPUTED AGE IN SIX GROUPS',\n",
    "'_AIDTST4' : 'EVER BEEN TESTED FOR HIV CALCULATED VARIABLE',\n",
    "'_ALTETH3' : 'ADULTS AGED 65+ WHO HAVE HAD ALL THEIR NATURAL TEETH EXTRACTED',\n",
    "'_ASTHMS1' : 'COMPUTED ASTHMA STATUS',\n",
    "'_BMI5' : 'COMPUTED BODY MASS INDEX',\n",
    "'_BMI5CAT' : 'COMPUTED BODY MASS INDEX CATEGORIES',\n",
    "'_CASTHM1' : 'CURRENT ASTHMA CALCULATED VARIABLE',\n",
    "'_CHISPNC' : 'CHILD HISPANIC, LATINO/A, OR SPANISH ORIGIN CALCULATED VARIABLE',\n",
    "'_CHLDCNT' : 'COMPUTED NUMBER OF CHILDREN IN HOUSEHOLD',\n",
    "'_CLLCPWT' : 'FINAL CHILD WEIGHT: LAND-LINE AND CELL-PHONE DATA',\n",
    "'_CLNSCPY' : 'RESPONDENTS AGED 50-75 WHO HAVE HAD A COLONOSCOPY WITHIN THE PAST TEN YEARS',\n",
    "'_CPRACE' : 'PREFERRED CHILD RACE CATEGORIES',\n",
    "'_CRACE1' : 'CHILD NON-HISPANIC RACE INCLUDING MULTIRACIAL',\n",
    "'_CRCREC1' : 'RESPONDENTS AGED 50-75 WHO HAVE FULLY MET THE USPSTF RECOMMENDATIONS',\n",
    "'_DENVST3' : 'ADULTS WHO HAVE VISITED A DENTIST, DENTAL HYGENIST OR DENTAL CLINIC WITHIN THE PAST YEAR',\n",
    "'_DRDXAR2' : 'RESPONDENTS DIAGNOSED WITH ARTHRITIS',\n",
    "'_DRNKDRV' : 'DRINKING AND DRIVING',\n",
    "'_DRNKWK1' : 'COMPUTED NUMBER OF DRINKS OF ALCOHOL BEVERAGES PER WEEK',\n",
    "'_DUALCOR' : 'DUAL PHONE USE CORRECTION FACTOR',\n",
    "'_DUALUSE' : 'DUAL PHONE USE CATEGORIES',\n",
    "'_EDUCAG' : 'COMPUTED LEVEL OF EDUCATION COMPLETED CATEGORIES',\n",
    "'_EXTETH3' : 'RISK FACTOR FOR HAVING HAD PERMANENT TEETH EXTRACTED',\n",
    "'_FLSHOT7' : 'FLU SHOT CALCULATED VARIABLE',\n",
    "'_HCVU651' : 'RESPONDENTS AGED 18-64 WITH HEALTH CARE COVERAGE',\n",
    "'_HISPANC' : 'HISPANIC, LATINO/A, OR SPANISH ORIGIN CALCULATED VARIABLE',\n",
    "'_IMPRACE' : 'IMPUTED RACE/ETHNICITY VALUE',\n",
    "'_INCOMG' : 'COMPUTED INCOME CATEGORIES',\n",
    "'_LLCPWT' : 'FINAL WEIGHT: LAND-LINE AND CELL-PHONE DATA',\n",
    "'_LLCPWT2' : 'TRUNCATED DESIGN WEIGHT USED IN ADULT COMBINED LAN  LINE AND CELL PHONE RAKING',\n",
    "'_LTASTH1' : 'LIFETIME ASTHMA CALCULATED VARIABLE',\n",
    "'_MAM5023' : 'WOMEN RESPONDENTS AGED 50-74 WHO HAVE HAD A MAMMOGRAM IN THE PAST TWO YEARS',\n",
    "'_MENT14D' : 'COMPUTED MENTAL HEALTH STATUS',\n",
    "'_METSTAT' : 'METROPOLITAN STATUS',\n",
    "'_MICHD' : 'RESPONDENTS THAT HAVE EVER REPORTED HAVING CORONARY HEART DISEASE (CHD) OR MYOCARDIAL INFARCTION (MI)',\n",
    "'_MRACE1' : 'CALCULATED NON-HISPANIC RACE INCLUDING MULTIRACIAL',\n",
    "'_PHYS14D' : 'COMPUTED PHYSICAL HEALTH STATUS',\n",
    "'_PNEUMO3' : 'PNEUMONIA VACCINATION CALCULATED VARIABLE',\n",
    "'_PRACE1' : 'COMPUTED PREFERRED RACE',\n",
    "'_PSU' : 'PRIMARY SAMPLING UNIT',\n",
    "'_RACE' : 'COMPUTED RACE-ETHNICITY GROUPING',\n",
    "'_RACEG21' : 'COMPUTED NON-HISPANIC WHITES/ALL OTHERS RACE CATEGORIES RACE/ETHNIC GROUP CODES USED IN POST-STRATIFICATION.',\n",
    "'_RACEGR3' : 'COMPUTED FIVE LEVEL RACE/ETHNICITY CATEGORY.',\n",
    "'_RACEPRV' : 'COMPUTED RACE GROUPS USED FOR INTERNET PREVALENCE TABLES',\n",
    "'_RAWRAKE' : 'RAW WEIGHTING FACTOR USED IN RAKING',\n",
    "'_RFBING5' : 'BINGE DRINKING CALCULATED VARIABLE',\n",
    "'_RFBLDS4' : 'RESPONDENTS AGED 50-75 WHO HAVE HAD A BLOOD STOOL TEST WITHIN THE PAST YEAR',\n",
    "'_RFBMI5' : 'OVERWEIGHT OR OBESE CALCULATED VARIABLE',\n",
    "'_RFDRHV7' : 'HEAVY ALCOHOL CONSUMPTION  CALCULATED VARIABLE',\n",
    "'_RFHLTH' : 'ADULTS WITH GOOD OR BETTER HEALTH',\n",
    "'_RFMAM22' : 'WOMEN RESPONDENTS AGED 40+ WHO HAVE HAD A MAMMOGRAM IN THE PAST TWO YEARS',\n",
    "'_RFPAP35' : 'WOMEN RESPONDENTS AGED 21-65 WHO HAVE HAD A PAP TEST IN THE PAST THREE YEARS',\n",
    "'_RFPSA23' : 'MALE RESPONDENTS AGED 40+ WHO HAVE HAD A PSA TEST IN THE PAST 2 YEARS',\n",
    "'_RFSEAT2' : 'ALWAYS OR NEARLY ALWAYS WEAR SEAT BELTS',\n",
    "'_RFSEAT3' : 'ALWAYS WEAR SEAT BELTS',\n",
    "'_RFSMOK3' : 'CURRENT SMOKING CALCULATED VARIABLE',\n",
    "'_SBONTIM' : 'RESPONDENTS AGED 50-75 WHO HAVE HAD A SIGMOIDOSCOPY WITHIN THE PAST TEN YEARS AND A BLOOD STOOL TEST IN THE PAST YEAR',\n",
    "'_SEX' : 'CALCULATED SEX VARIABLE',\n",
    "'_SGMS10Y' : 'RESPONDENTS AGED 50-75 WHO HAVE HAD A SIGMOIDOSCOPY WITHIN THE PAST TEN YEARS',\n",
    "'_SGMSCPY' : 'RESPONDENTS AGED 50-75 WHO HAVE HAD A SIGMOIDOSCOPY WITHIN THE PAST FIVE YEARS',\n",
    "'_SMOKER3' : 'COMPUTED SMOKING STATUS',\n",
    "'_STATE' : 'STATE FIPS CODE',\n",
    "'_STOLDNA' : 'RESPONDENTS AGED 50-75 WHO HAVE HAD A STOOL DNA TEST WITHIN THE PAST THREE YEARS',\n",
    "'_STRWT' : 'STRATUM WEIGHT',\n",
    "'_STSTR' : 'SAMPLE DESIGN STRATIFICATION VARIABLE',\n",
    "'_TOTINDA' : 'LEISURE TIME PHYSICAL ACTIVITY CALCULATED VARIABLE',\n",
    "'_URBSTAT' : 'URBAN/RURAL STATUS',\n",
    "'_VIRCOLN' : 'RESPONDENTS AGED 50-75 WHO HAVE HAD A VIRTUAL COLONOSCOPY WITHIN THE PAST FIVE YEARS',\n",
    "'_WT2RAKE' : 'DESIGN WEIGHT USED IN RAKING',\n",
    "}"
   ]
  },
  {
   "cell_type": "markdown",
   "id": "58785433",
   "metadata": {},
   "source": [
    "# Cleaning:"
   ]
  },
  {
   "cell_type": "markdown",
   "id": "a663f30a",
   "metadata": {},
   "source": [
    "#### To preserve most of the rows, we'll remove all columns with threshhold(must have at least 300k not nulls): "
   ]
  },
  {
   "cell_type": "code",
   "execution_count": 5,
   "id": "5ec0a226-b146-4a22-94ed-fd947b1668cc",
   "metadata": {},
   "outputs": [
    {
     "name": "stderr",
     "output_type": "stream",
     "text": [
      "2022-05-16 04:01:36,845 WARN util.package: Truncated the string representation of a plan since it was too large. This behavior can be adjusted by setting 'spark.sql.debug.maxToStringFields'.\n",
      "                                                                                \r"
     ]
    },
    {
     "name": "stdout",
     "output_type": "stream",
     "text": [
      "Original number of rows: 401958, , number of columns: 279\n",
      "Cleaned number of rows: 401958, , number of columns: 112\n"
     ]
    }
   ],
   "source": [
    "def drop_null_columns(df, threshold=0):\n",
    "    \"\"\"\n",
    "    Drops all columns which contain null values. \n",
    "    Leave columns, where count(not nulls) > threshhold.\n",
    "    Note: Simulates pandas.DataFrame.dropna(axis=1, thresh=300000)\n",
    "    \n",
    "    :param df: A PySpark DataFrame\n",
    "    :param threshold: int: min numbers of not nulls in column in order not to drop it\n",
    "    \"\"\"\n",
    "    null_counts = df.select([count(when(\n",
    "        col(c).isNull() | \n",
    "        col(c).contains('None') | \n",
    "        col(c).contains('NULL') | \n",
    "        col(c).contains('NA') | \n",
    "        (col(c)=='') | \n",
    "        (col(c)==99) | \n",
    "        isnan(c), \n",
    "        c)).alias(c) for c in df.columns]).collect()[0].asDict()\n",
    "    \n",
    "    to_drop = [k for k, v in null_counts.items() if v > df.count()-threshold]\n",
    "    df = df.drop(*to_drop)\n",
    "    return df\n",
    "\n",
    "\n",
    "\n",
    "cleaned_df = drop_null_columns(orig_df, threshold=300000)\n",
    "\n",
    "\n",
    "print(f'Original number of rows: {orig_df.count()}, , number of columns: {len(orig_df.columns)}')\n",
    "print(f'Cleaned number of rows: {cleaned_df.count()}, , number of columns: {len(cleaned_df.columns)}')"
   ]
  },
  {
   "cell_type": "markdown",
   "id": "8564d7aa",
   "metadata": {},
   "source": [
    "#### Remove rows with nulls:"
   ]
  },
  {
   "cell_type": "code",
   "execution_count": 6,
   "id": "bd21dd55",
   "metadata": {},
   "outputs": [
    {
     "name": "stderr",
     "output_type": "stream",
     "text": [
      "[Stage 848:>                                                        (0 + 4) / 4]\r"
     ]
    },
    {
     "name": "stdout",
     "output_type": "stream",
     "text": [
      "Cleaned number of rows: 326959, , number of columns: 112\n"
     ]
    },
    {
     "name": "stderr",
     "output_type": "stream",
     "text": [
      "                                                                                \r"
     ]
    }
   ],
   "source": [
    "cleaned_df = cleaned_df.na.drop()\n",
    "print(f'Cleaned number of rows: {cleaned_df.count()}, , number of columns: {len(cleaned_df.columns)}')\n",
    "\n"
   ]
  },
  {
   "cell_type": "code",
   "execution_count": 7,
   "id": "3affa33d-6d44-422e-b412-909f98c8a073",
   "metadata": {},
   "outputs": [],
   "source": [
    "_df = cleaned_df\n",
    "for col in cleaned_df.columns:\n",
    "    _df = _df.filter(cleaned_df[col]!=99)"
   ]
  },
  {
   "cell_type": "code",
   "execution_count": 8,
   "id": "b5d1cfc8-db9a-4abf-a5db-47a11cb813e8",
   "metadata": {},
   "outputs": [
    {
     "name": "stderr",
     "output_type": "stream",
     "text": [
      "                                                                                \r"
     ]
    },
    {
     "data": {
      "text/plain": [
       "293757"
      ]
     },
     "execution_count": 8,
     "metadata": {},
     "output_type": "execute_result"
    }
   ],
   "source": [
    "_df.count()"
   ]
  },
  {
   "cell_type": "markdown",
   "id": "baf49cc2",
   "metadata": {},
   "source": [
    "# EDA"
   ]
  },
  {
   "cell_type": "code",
   "execution_count": null,
   "id": "d6b29e3e-cda3-4239-b757-e506ed3c7449",
   "metadata": {},
   "outputs": [],
   "source": []
  },
  {
   "cell_type": "code",
   "execution_count": null,
   "id": "591f4bf1-5d20-43ac-a211-e36506eede0a",
   "metadata": {},
   "outputs": [],
   "source": []
  },
  {
   "cell_type": "code",
   "execution_count": 9,
   "id": "9569f2ee",
   "metadata": {},
   "outputs": [
    {
     "name": "stderr",
     "output_type": "stream",
     "text": [
      "2022-05-16 04:02:38,372 WARN netlib.InstanceBuilder$NativeBLAS: Failed to load implementation from:dev.ludovic.netlib.blas.JNIBLAS\n",
      "2022-05-16 04:02:38,377 WARN netlib.InstanceBuilder$NativeBLAS: Failed to load implementation from:dev.ludovic.netlib.blas.ForeignLinkerBLAS\n",
      "/usr/local/lib/python3.8/dist-packages/pyspark/sql/context.py:125: FutureWarning: Deprecated in 3.0.0. Use SparkSession.builder.getOrCreate() instead.\n",
      "  warnings.warn(\n"
     ]
    }
   ],
   "source": [
    "# corr__ = cleaned_df.corr('(EVER TOLD) YOU HAD DIABETES', 'GENERAL HEALTH')\n",
    "# # corr__['(EVER TOLD) YOU HAD DIABETES'].abs().sort_values(ascending=False).head(50)\n",
    "\n",
    "def label_from_name(name):\n",
    "    return list(labels_map.keys())[list(labels_map.values()).index(name)]\n",
    "\n",
    "# label_from_name('(EVER TOLD) YOU HAD DIABETES)\n",
    "from pyspark.ml.stat import Correlation\n",
    "from pyspark.ml.feature import VectorAssembler\n",
    "\n",
    "col_feature_names = list(cleaned_df.columns)\n",
    "# col_feature_names.remove('CHCCOPD2')\n",
    "# col_feature_names\n",
    "vecAssembler = VectorAssembler(inputCols = col_feature_names, outputCol=\"features_unscaled\")\n",
    "cleaned_df_ = vecAssembler.transform(cleaned_df)\n",
    "\n",
    "corr__ = Correlation.corr(cleaned_df_, 'features_unscaled').collect()\n"
   ]
  },
  {
   "cell_type": "code",
   "execution_count": 10,
   "id": "3eddb795-d54b-4a0d-9468-f739bac733e3",
   "metadata": {},
   "outputs": [],
   "source": [
    "cor_matx = corr__[0][0]\n",
    "cor_matx_ = cor_matx.toArray().tolist()\n",
    "# print(cor_matx_)\n",
    "type(cor_matx_)\n",
    "df_cor = spark.createDataFrame(cor_matx_,col_feature_names)\n"
   ]
  },
  {
   "cell_type": "code",
   "execution_count": 11,
   "id": "db59db82-9989-46ef-bc7b-444f17884dc3",
   "metadata": {},
   "outputs": [],
   "source": [
    "# \n",
    "diab_label = label_from_name('(EVER TOLD) YOU HAD DIABETES')"
   ]
  },
  {
   "cell_type": "code",
   "execution_count": 12,
   "id": "e1e05599-8f1f-4c94-aeb8-d52d072d2b85",
   "metadata": {},
   "outputs": [
    {
     "data": {
      "text/plain": [
       "DataFrame[_STATE: double, FMONTH: double, IDATE: double, IMONTH: double, IDAY: double, IYEAR: double, DISPCODE: double, SEQNO: double, _PSU: double, SEXVAR: double, GENHLTH: double, PHYSHLTH: double, MENTHLTH: double, HLTHPLN1: double, PERSDOC2: double, MEDCOST: double, CHECKUP1: double, EXERANY2: double, SLEPTIM1: double, CVDINFR4: double, CVDCRHD4: double, CVDSTRK3: double, ASTHMA3: double, CHCSCNCR: double, CHCOCNCR: double, CHCCOPD2: double, HAVARTH4: double, ADDEPEV3: double, CHCKDNY2: double, DIABETE4: double, LASTDEN4: double, RMVTETH4: double, MARITAL: double, EDUCA: double, RENTHOM1: double, CPDEMO1B: double, VETERAN3: double, EMPLOY1: double, CHILDREN: double, INCOME2: double, WEIGHT2: double, HEIGHT3: double, DEAF: double, BLIND: double, DECIDE: double, DIFFWALK: double, DIFFDRES: double, DIFFALON: double, SMOKE100: double, USENOW3: double, ALCDAY5: double, FLUSHOT7: double, PNEUVAC4: double, SEATBELT: double, HIVTST7: double, HIVRISK5: double, QSTVER: double, QSTLANG: double, _METSTAT: double, _URBSTAT: double, _STSTR: double, _STRWT: double, _RAWRAKE: double, _WT2RAKE: double, _IMPRACE: double, _DUALUSE: double, _LLCPWT2: double, _LLCPWT: double, _RFHLTH: double, _PHYS14D: double, _MENT14D: double, _HCVU651: double, _TOTINDA: double, _MICHD: double, _LTASTH1: double, _CASTHM1: double, _ASTHMS1: double, _DRDXAR2: double, _EXTETH3: double, _DENVST3: double, _PRACE1: double, _MRACE1: double, _HISPANC: double, _RACE: double, _RACEG21: double, _RACEGR3: double, _RACEPRV: double, _SEX: double, _AGEG5YR: double, _AGE65YR: double, _AGE80: double, _AGE_G: double, HTIN4: double, HTM4: double, WTKG3: double, _BMI5: double, _BMI5CAT: double, _RFBMI5: double, _CHLDCNT: double, _EDUCAG: double, _INCOMG: double, _SMOKER3: double, _RFSMOK3: double, DRNKANY5: double, DROCDY3_: double, _RFBING5: double, _DRNKWK1: double, _RFDRHV7: double, _RFSEAT2: double, _RFSEAT3: double, _DRNKDRV: double, _AIDTST4: double]"
      ]
     },
     "execution_count": 12,
     "metadata": {},
     "output_type": "execute_result"
    }
   ],
   "source": [
    "\n",
    "a = df_cor.filter(df_cor[diab_label]>0.2)\n",
    "len(a.columns)\n",
    "\n",
    "a"
   ]
  },
  {
   "cell_type": "code",
   "execution_count": 13,
   "id": "9b0d751c-8569-4b68-b02c-b860dc826386",
   "metadata": {},
   "outputs": [
    {
     "name": "stdout",
     "output_type": "stream",
     "text": [
      "+--------------------+--------------------+--------------------+--------------------+--------------------+--------------------+--------------------+--------------------+--------------------+--------------------+--------------------+------------------+--------------------+--------------------+-------------------+--------------------+-------------------+--------------------+--------------------+-------------------+-------------------+-------------------+-------------------+--------------------+-------------------+--------------------+-------------------+-------------------+-------------------+--------+--------------------+-----------------+-------------------+-------------------+--------------------+--------------------+-------------------+------------------+-------------------+-------------------+--------------------+--------------------+--------------------+--------------------+--------------------+-------------------+-------------------+-------------------+-------------------+--------------------+--------------------+-------------------+-------------------+--------------------+--------------------+--------------------+-------------------+--------------------+--------------------+--------------------+--------------------+-------------------+--------------------+--------------------+--------------------+--------------------+--------------------+--------------------+--------------------+--------------------+--------------------+-------------------+--------------------+------------------+--------------------+--------------------+-------------------+-------------------+--------------------+--------------------+--------------------+--------------------+--------------------+--------------------+--------------------+--------------------+--------------------+--------------------+-------------------+--------------------+--------------------+--------------------+--------------------+--------------------+-------------------+-------------------+--------------------+--------------------+-------------------+-------------------+-------------------+--------------------+--------------------+--------------------+-------------------+-------------------+--------------------+-------------------+--------------------+-------------------+--------------------+--------------------+\n",
      "|              _STATE|              FMONTH|               IDATE|              IMONTH|                IDAY|               IYEAR|            DISPCODE|               SEQNO|                _PSU|              SEXVAR|             GENHLTH|          PHYSHLTH|            MENTHLTH|            HLTHPLN1|           PERSDOC2|             MEDCOST|           CHECKUP1|            EXERANY2|            SLEPTIM1|           CVDINFR4|           CVDCRHD4|           CVDSTRK3|            ASTHMA3|            CHCSCNCR|           CHCOCNCR|            CHCCOPD2|           HAVARTH4|           ADDEPEV3|           CHCKDNY2|DIABETE4|            LASTDEN4|         RMVTETH4|            MARITAL|              EDUCA|            RENTHOM1|            CPDEMO1B|           VETERAN3|           EMPLOY1|           CHILDREN|            INCOME2|             WEIGHT2|             HEIGHT3|                DEAF|               BLIND|              DECIDE|           DIFFWALK|           DIFFDRES|           DIFFALON|           SMOKE100|             USENOW3|             ALCDAY5|           FLUSHOT7|           PNEUVAC4|            SEATBELT|             HIVTST7|            HIVRISK5|             QSTVER|             QSTLANG|            _METSTAT|            _URBSTAT|              _STSTR|             _STRWT|            _RAWRAKE|            _WT2RAKE|            _IMPRACE|            _DUALUSE|            _LLCPWT2|             _LLCPWT|             _RFHLTH|            _PHYS14D|            _MENT14D|           _HCVU651|            _TOTINDA|            _MICHD|            _LTASTH1|            _CASTHM1|           _ASTHMS1|           _DRDXAR2|            _EXTETH3|            _DENVST3|             _PRACE1|             _MRACE1|            _HISPANC|               _RACE|            _RACEG21|            _RACEGR3|            _RACEPRV|                _SEX|           _AGEG5YR|            _AGE65YR|              _AGE80|              _AGE_G|               HTIN4|                HTM4|              WTKG3|              _BMI5|            _BMI5CAT|             _RFBMI5|           _CHLDCNT|            _EDUCAG|            _INCOMG|            _SMOKER3|            _RFSMOK3|            DRNKANY5|           DROCDY3_|           _RFBING5|            _DRNKWK1|           _RFDRHV7|            _RFSEAT2|           _RFSEAT3|            _DRNKDRV|            _AIDTST4|\n",
      "+--------------------+--------------------+--------------------+--------------------+--------------------+--------------------+--------------------+--------------------+--------------------+--------------------+--------------------+------------------+--------------------+--------------------+-------------------+--------------------+-------------------+--------------------+--------------------+-------------------+-------------------+-------------------+-------------------+--------------------+-------------------+--------------------+-------------------+-------------------+-------------------+--------+--------------------+-----------------+-------------------+-------------------+--------------------+--------------------+-------------------+------------------+-------------------+-------------------+--------------------+--------------------+--------------------+--------------------+--------------------+-------------------+-------------------+-------------------+-------------------+--------------------+--------------------+-------------------+-------------------+--------------------+--------------------+--------------------+-------------------+--------------------+--------------------+--------------------+--------------------+-------------------+--------------------+--------------------+--------------------+--------------------+--------------------+--------------------+--------------------+--------------------+--------------------+-------------------+--------------------+------------------+--------------------+--------------------+-------------------+-------------------+--------------------+--------------------+--------------------+--------------------+--------------------+--------------------+--------------------+--------------------+--------------------+--------------------+-------------------+--------------------+--------------------+--------------------+--------------------+--------------------+-------------------+-------------------+--------------------+--------------------+-------------------+-------------------+-------------------+--------------------+--------------------+--------------------+-------------------+-------------------+--------------------+-------------------+--------------------+-------------------+--------------------+--------------------+\n",
      "|-0.00426614624581...|-0.00174562171315...|6.359793059858424E-4|6.428902648136031E-4|-3.20520547133246...|-2.99471108058297...|0.024658965182713825|0.041649998409285356|0.041649998409285356|0.007575089435875026|-0.24340324217565806|0.0893715862453461|-0.01674663335667623|0.028772078947174613|0.08294259167189577|5.488980693450288E-4|0.10747923192995061|-0.11521070755139017|-0.01961831789063564|0.11420407874965718|0.08143552287508218|0.06016735065081354|0.03517377615198749|0.024991070777753782|0.04270752948606036|0.057106447474314655|0.14422330917187395|0.04071460599238671|0.06991593624007564|     1.0|-0.06318585821082284|0.125899762790199|0.04179548821841597|0.07895783042449243|0.020728810893142186|-0.05136185077740288|0.04619456495967742|-0.163952988479977|-0.0795465564641197|0.00802447173128869|-0.01893106838941...|0.018163555235091947|0.051704448258338094|0.045230597396084773|0.030152849599542137|0.14561578202791062|0.06006362228357155|0.05745223622499764|0.03819001053122997|-5.83694728663705...|-0.12657147533047788|0.07250136773498307|0.10083168617776728|-0.01581438375720...|-0.01399012549536...|-0.01579449060159...|0.07251033476893826|-0.01473307966660...|-0.02697391953240...|-0.02151812633802748|-0.00405226279720...|0.02218314106285878|-0.02822998878962...|0.018116302182198216|-0.01248460341577...|0.054415701621505656|0.011576810379413502|0.021561270225141434|-0.15835937722354063|-0.09698459712472407|-0.01036305251761403|-0.1384505882418984|-0.10979460176344587|0.1677784868751886|-0.02354146594127...|-0.01764049938448181|0.03696821295353143|0.14422330917187395|-0.07842506125895804|-0.03974213933539235|9.825054224527731E-4|0.001062789318521...|0.001642238743442...|-0.00368437061519...|-0.00876286173477...|-0.00697739773848...|-0.00601528286280...|0.007617803608879167|-0.1793496626884359|-0.13344457583709476|-0.18480478597119504|-0.18566104340993705|0.019582025800877628|0.019694081475413922|-0.1514690922610059|-0.1856426347427773|-0.16785498366173557|-0.12951355502275316|0.06915594195042735|0.07506765668046256|0.05870948627855686|0.021193804308476796|0.002922828777122...|-0.07002295061623279|0.03961757563828076|0.03631399283145498|0.017128191925612532|0.02519883932134479|-0.01103011465733...|-0.0082118250468177|-0.12809524553661927|-0.01317657876802503|\n",
      "+--------------------+--------------------+--------------------+--------------------+--------------------+--------------------+--------------------+--------------------+--------------------+--------------------+--------------------+------------------+--------------------+--------------------+-------------------+--------------------+-------------------+--------------------+--------------------+-------------------+-------------------+-------------------+-------------------+--------------------+-------------------+--------------------+-------------------+-------------------+-------------------+--------+--------------------+-----------------+-------------------+-------------------+--------------------+--------------------+-------------------+------------------+-------------------+-------------------+--------------------+--------------------+--------------------+--------------------+--------------------+-------------------+-------------------+-------------------+-------------------+--------------------+--------------------+-------------------+-------------------+--------------------+--------------------+--------------------+-------------------+--------------------+--------------------+--------------------+--------------------+-------------------+--------------------+--------------------+--------------------+--------------------+--------------------+--------------------+--------------------+--------------------+--------------------+-------------------+--------------------+------------------+--------------------+--------------------+-------------------+-------------------+--------------------+--------------------+--------------------+--------------------+--------------------+--------------------+--------------------+--------------------+--------------------+--------------------+-------------------+--------------------+--------------------+--------------------+--------------------+--------------------+-------------------+-------------------+--------------------+--------------------+-------------------+-------------------+-------------------+--------------------+--------------------+--------------------+-------------------+-------------------+--------------------+-------------------+--------------------+-------------------+--------------------+--------------------+\n",
      "\n"
     ]
    }
   ],
   "source": [
    "# from pyspark.ml.stat import Correlation\n",
    "# Correlation.corr(cleaned_df, label_from_name('(EVER TOLD) YOU HAD DIABETES'), 'pearson')\n",
    "a.show()"
   ]
  },
  {
   "cell_type": "markdown",
   "id": "b7c95890",
   "metadata": {},
   "source": [
    "# HEATMAP"
   ]
  },
  {
   "cell_type": "code",
   "execution_count": 14,
   "id": "7e40ca98-932c-42de-b5ac-b69efa97d391",
   "metadata": {},
   "outputs": [
    {
     "name": "stderr",
     "output_type": "stream",
     "text": [
      "/tmp/ipykernel_2441/3749508220.py:145: SettingWithCopyWarning:                  \n",
      "A value is trying to be set on a copy of a slice from a DataFrame\n",
      "\n",
      "See the caveats in the documentation: https://pandas.pydata.org/pandas-docs/stable/user_guide/indexing.html#returning-a-view-versus-a-copy\n",
      "  hm_df.drop(columns_to_remove, axis=1, inplace=True)\n",
      "/tmp/ipykernel_2441/3749508220.py:150: SettingWithCopyWarning: \n",
      "A value is trying to be set on a copy of a slice from a DataFrame\n",
      "\n",
      "See the caveats in the documentation: https://pandas.pydata.org/pandas-docs/stable/user_guide/indexing.html#returning-a-view-versus-a-copy\n",
      "  hm_df.rename(columns={'EVER DIAGNOSED WITH HEART ATTACK': 'DIAGNOSED WITH HEART ATTACK'\n"
     ]
    },
    {
     "data": {
      "image/png": "[encoded data removed]",
      "text/plain": [
       "<Figure size 720x720 with 1 Axes>"
      ]
     },
     "metadata": {
      "needs_background": "light"
     },
     "output_type": "display_data"
    }
   ],
   "source": [
    "import pandas as pd\n",
    "import seaborn as sns\n",
    "import matplotlib.pyplot as plt\n",
    "import numpy as np\n",
    "\n",
    "\n",
    "pd_df = pd.DataFrame(_df.collect())\n",
    "pd_df.columns = ['STATE FIPS CODE',\n",
    " 'FILE MONTH',\n",
    " 'INTERVIEW DATE',\n",
    " 'INTERVIEW MONTH',\n",
    " 'INTERVIEW DAY',\n",
    " 'INTERVIEW YEAR',\n",
    " 'FINAL DISPOSITION',\n",
    " 'ANNUAL SEQUENCE NUMBER',\n",
    " 'PRIMARY SAMPLING UNIT',\n",
    " 'SEX OF RESPONDENT',\n",
    " 'GENERAL HEALTH',\n",
    " 'NUMBER OF DAYS PHYSICAL HEALTH NOT GOOD',\n",
    " 'NUMBER OF DAYS MENTAL HEALTH NOT GOOD',\n",
    " 'HAVE ANY HEALTH CARE COVERAGE',\n",
    " 'MULTIPLE HEALTH CARE PROFESSIONALS',\n",
    " 'COULD NOT SEE DR. BECAUSE OF COST',\n",
    " 'LENGTH OF TIME SINCE LAST ROUTINE CHECKUP',\n",
    " 'EXERCISE IN PAST 30 DAYS',\n",
    " 'HOW MUCH TIME DO YOU SLEEP',\n",
    " 'EVER DIAGNOSED WITH HEART ATTACK',\n",
    " 'EVER DIAGNOSED WITH ANGINA OR CORONARY HEART DISEASE',\n",
    " 'EVER DIAGNOSED WITH A STROKE',\n",
    " 'EVER TOLD HAD ASTHMA',\n",
    " '(EVER TOLD) YOU HAD SKIN CANCER?',\n",
    " '(EVER TOLD) YOU HAD ANY OTHER TYPES OF CANCER?',\n",
    " '(EVER TOLD) YOU HAD (COPD) CHRONIC OBSTRUCTIVE PULMONARY DISEASE, EMPHYSEMA OR CHRONIC BRONCHITIS?',\n",
    " 'TOLD HAVE ARTHRITIS',\n",
    " '(EVER TOLD) YOU HAD A DEPRESSIVE DISORDER',\n",
    " 'EVER TOLD YOU HAVE KIDNEY DISEASE?',\n",
    " '(EVER TOLD) YOU HAD DIABETES',\n",
    " 'LAST VISITED DENTIST OR DENTAL CLINIC',\n",
    " 'NUMBER OF PERMANENT TEETH REMOVED',\n",
    " 'MARITAL STATUS',\n",
    " 'EDUCATION LEVEL',\n",
    " 'OWN OR RENT HOME',\n",
    " 'DO YOU HAVE A CELL PHONE FOR PERSONAL USE?',\n",
    " 'ARE YOU A VETERAN',\n",
    " 'EMPLOYMENT STATUS',\n",
    " 'NUMBER OF CHILDREN IN HOUSEHOLD',\n",
    " 'INCOME LEVEL',\n",
    " 'REPORTED WEIGHT IN POUNDS',\n",
    " 'REPORTED HEIGHT IN FEET AND INCHES',\n",
    " 'ARE YOU DEAF OR DO YOU HAVE SERIOUS DIFFICULTY HEARING?',\n",
    " 'BLIND OR DIFFICULTY SEEING',\n",
    " 'DIFFICULTY CONCENTRATING OR REMEMBERING',\n",
    " 'DIFFICULTY WALKING OR CLIMBING STAIRS',\n",
    " 'DIFFICULTY DRESSING OR BATHING',\n",
    " 'DIFFICULTY DOING ERRANDS ALONE',\n",
    " 'SMOKED AT LEAST 100 CIGARETTES',\n",
    " 'USE OF SMOKELESS TOBACCO PRODUCTS',\n",
    " 'DAYS IN PAST 30 HAD ALCOHOLIC BEVERAGE',\n",
    " 'ADULT FLU SHOT/SPRAY PAST 12 MOS',\n",
    " 'PNEUMONIA SHOT EVER',\n",
    " 'HOW OFTEN USE SEATBELTS IN CAR?',\n",
    " 'EVER TESTED H.I.V.',\n",
    " 'DO ANY HIGH RISK SITUATIONS APPLY',\n",
    " 'QUESTIONNAIRE VERSION IDENTIFIER',\n",
    " 'LANGUAGE IDENTIFIER',\n",
    " 'METROPOLITAN STATUS',\n",
    " 'URBAN/RURAL STATUS',\n",
    " 'SAMPLE DESIGN STRATIFICATION VARIABLE',\n",
    " 'STRATUM WEIGHT',\n",
    " 'RAW WEIGHTING FACTOR USED IN RAKING',\n",
    " 'DESIGN WEIGHT USED IN RAKING',\n",
    " 'IMPUTED RACE/ETHNICITY VALUE',\n",
    " 'DUAL PHONE USE CATEGORIES',\n",
    " 'TRUNCATED DESIGN WEIGHT USED IN ADULT COMBINED LAN  LINE AND CELL PHONE RAKING',\n",
    " 'FINAL WEIGHT: LAND-LINE AND CELL-PHONE DATA',\n",
    " 'ADULTS WITH GOOD OR BETTER HEALTH',\n",
    " 'COMPUTED PHYSICAL HEALTH STATUS',\n",
    " 'COMPUTED MENTAL HEALTH STATUS',\n",
    " 'RESPONDENTS AGED 18-64 WITH HEALTH CARE COVERAGE',\n",
    " 'LEISURE TIME PHYSICAL ACTIVITY CALCULATED VARIABLE',\n",
    " 'RESPONDENTS THAT HAVE EVER REPORTED HAVING CORONARY HEART DISEASE (CHD) OR MYOCARDIAL INFARCTION (MI)',\n",
    " 'LIFETIME ASTHMA CALCULATED VARIABLE',\n",
    " 'CURRENT ASTHMA CALCULATED VARIABLE',\n",
    " 'COMPUTED ASTHMA STATUS',\n",
    " 'RESPONDENTS DIAGNOSED WITH ARTHRITIS',\n",
    " 'RISK FACTOR FOR HAVING HAD PERMANENT TEETH EXTRACTED',\n",
    " 'ADULTS WHO HAVE VISITED A DENTIST, DENTAL HYGENIST OR DENTAL CLINIC WITHIN THE PAST YEAR',\n",
    " 'COMPUTED PREFERRED RACE',\n",
    " 'CALCULATED NON-HISPANIC RACE INCLUDING MULTIRACIAL',\n",
    " 'HISPANIC, LATINO/A, OR SPANISH ORIGIN CALCULATED VARIABLE',\n",
    " 'COMPUTED RACE-ETHNICITY GROUPING',\n",
    " 'COMPUTED NON-HISPANIC WHITES/ALL OTHERS RACE CATEGORIES RACE/ETHNIC GROUP CODES USED IN POST-STRATIFICATION.',\n",
    " 'COMPUTED FIVE LEVEL RACE/ETHNICITY CATEGORY.',\n",
    " 'COMPUTED RACE GROUPS USED FOR INTERNET PREVALENCE TABLES',\n",
    " 'CALCULATED SEX VARIABLE',\n",
    " 'REPORTED AGE IN FIVE-YEAR AGE CATEGORIES CALCULATED VARIABLE',\n",
    " 'REPORTED AGE IN TWO AGE GROUPS CALCULATED VARIABLE',\n",
    " 'IMPUTED AGE VALUE COLLAPSED ABOVE 80',\n",
    " 'IMPUTED AGE IN SIX GROUPS',\n",
    " 'COMPUTED HEIGHT IN INCHES',\n",
    " 'COMPUTED HEIGHT IN METERS',\n",
    " 'COMPUTED WEIGHT IN KILOGRAMS',\n",
    " 'COMPUTED BODY MASS INDEX',\n",
    " 'COMPUTED BODY MASS INDEX CATEGORIES',\n",
    " 'OVERWEIGHT OR OBESE CALCULATED VARIABLE',\n",
    " 'COMPUTED NUMBER OF CHILDREN IN HOUSEHOLD',\n",
    " 'COMPUTED LEVEL OF EDUCATION COMPLETED CATEGORIES',\n",
    " 'COMPUTED INCOME CATEGORIES',\n",
    " 'COMPUTED SMOKING STATUS',\n",
    " 'CURRENT SMOKING CALCULATED VARIABLE',\n",
    " 'DRINK ANY ALCOHOLIC BEVERAGES IN PAST 30 DAYS',\n",
    " 'COMPUTED DRINK-OCCASIONS-PER-DAY',\n",
    " 'BINGE DRINKING CALCULATED VARIABLE',\n",
    " 'COMPUTED NUMBER OF DRINKS OF ALCOHOL BEVERAGES PER WEEK',\n",
    " 'HEAVY ALCOHOL CONSUMPTION  CALCULATED VARIABLE',\n",
    " 'ALWAYS OR NEARLY ALWAYS WEAR SEAT BELTS',\n",
    " 'ALWAYS WEAR SEAT BELTS',\n",
    " 'DRINKING AND DRIVING',\n",
    " 'EVER BEEN TESTED FOR HIV CALCULATED VARIABLE']\n",
    "\n",
    "corr__ = pd_df.corr()\n",
    "# diab_label = '(EVER TOLD) YOU HAD DIABETES'\n",
    "# corr__[diab_label].abs().sort_values(ascending=False).head(50)\n",
    "correlations = corr__['(EVER TOLD) YOU HAD DIABETES'].abs()\n",
    "correlations = correlations[correlations>0.1].index.to_list()\n",
    "hm_df = pd_df[correlations]\n",
    "\n",
    "list(hm_df.columns)\n",
    "\n",
    "columns_to_remove = [\n",
    "'LENGTH OF TIME SINCE LAST ROUTINE CHECKUP',\n",
    "'EVER DIAGNOSED WITH HEART ATTACK',\n",
    "'NUMBER OF PERMANENT TEETH REMOVED',\n",
    "'PNEUMONIA SHOT EVER', \n",
    "'ADULTS WITH GOOD OR BETTER HEALTH',\n",
    "'LEISURE TIME PHYSICAL ACTIVITY CALCULATED VARIABLE',\n",
    "'REPORTED AGE IN TWO AGE GROUPS CALCULATED VARIABLE',\n",
    "'IMPUTED AGE VALUE COLLAPSED ABOVE 80',\n",
    "'IMPUTED AGE IN SIX GROUPS',\n",
    "# 'COMPUTED BODY MASS INDEX CATEGORIES',\n",
    "'OVERWEIGHT OR OBESE CALCULATED VARIABLE',\n",
    "'DRINKING AND DRIVING'\n",
    "]\n",
    "# hm_df = pd_df\n",
    "hm_df.drop(columns_to_remove, axis=1, inplace=True)\n",
    "\n",
    "# rename long column names\n",
    "# -------------------------\n",
    "# df.rename(columns={'oldName1': 'newName1', 'oldName2': 'newName2'}, inplace=True)\n",
    "hm_df.rename(columns={'EVER DIAGNOSED WITH HEART ATTACK': 'DIAGNOSED WITH HEART ATTACK'\n",
    "                      ,'EVER DIAGNOSED WITH ANGINA OR CORONARY HEART DISEASE': 'DIAGNOSED WITH ANGINA OR CORONARY HEART DISEASE'\n",
    "                      ,'EVER DIAGNOSED WITH A STROKE': 'DIAGNOSED WITH A STROKE'\n",
    "                      ,'(EVER TOLD) YOU HAD (COPD) CHRONIC OBSTRUCTIVE PULMONARY DISEASE, EMPHYSEMA OR CHRONIC BRONCHITIS?' : '(TOLD) YOU HAD COPD, EMPHYSEMA OR CHRONIC BRONCHITIS?'\n",
    "                      ,'(EVER TOLD) YOU HAD DIABETES' : '(TOLD) YOU HAD DIABETES'\n",
    "                      ,'LEISURE TIME PHYSICAL ACTIVITY CALCULATED VARIABLE' : 'LEISURE TIME PHYSICAL ACTIVITY'\n",
    "                      ,'RESPONDENTS THAT HAVE EVER REPORTED HAVING CORONARY HEART DISEASE (CHD) OR MYOCARDIAL INFARCTION (MI)' : 'REPORTED CHD OR MI'\n",
    "                      ,'RESPONDENTS DIAGNOSED WITH ARTHRITIS' : 'DIAGNOSED WITH ARTHRITIS'\n",
    "                      ,'REPORTED AGE IN FIVE-YEAR AGE CATEGORIES CALCULATED VARIABLE' : 'AGE IN FIVE-YEAR AGE'\n",
    "                      ,'REPORTED AGE IN TWO AGE GROUPS CALCULATED VARIABLE' : 'AGE IN TWO AGE GROUPS'\n",
    "                      ,'RESPONDENTS AGED 18-64 WITH HEALTH CARE COVERAGE' : 'HEALTH CARE COVERAGE'}\n",
    "                      , inplace=True)\n",
    "\n",
    "\n",
    "\n",
    "plt.figure(figsize=(10, 10))\n",
    "# define the mask to set the values in the upper triangle to True\n",
    "mask = np.triu(np.ones_like(hm_df.corr(), dtype=bool))\n",
    "heatmap = sns.heatmap(hm_df.corr(), mask=mask, vmin=-1, vmax=1, annot=True, cmap='BrBG', cbar=False)\n",
    "heatmap.set_title('Triangle Correlation Heatmap', fontdict={'fontsize':18});\n",
    "\n",
    "# hm_df"
   ]
  },
  {
   "cell_type": "code",
   "execution_count": null,
   "id": "ac4ae703-451d-443d-a7a4-636e8da2d2dd",
   "metadata": {},
   "outputs": [],
   "source": []
  }
 ],
 "metadata": {
  "kernelspec": {
   "display_name": "Python 3 (ipykernel)",
   "language": "python",
   "name": "python3"
  },
  "language_info": {
   "codemirror_mode": {
    "name": "ipython",
    "version": 3
   },
   "file_extension": ".py",
   "mimetype": "text/x-python",
   "name": "python",
   "nbconvert_exporter": "python",
   "pygments_lexer": "ipython3",
   "version": "3.8.10"
  }
 },
 "nbformat": 4,
 "nbformat_minor": 5
}
