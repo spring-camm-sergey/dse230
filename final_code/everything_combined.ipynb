{
 "cells": [
  {
   "cell_type": "raw",
   "id": "db90aa59-47c8-4eb2-9eb5-681a96aab7b9",
   "metadata": {},
   "source": [
    "# Place the main CSV files into HDFS:\n",
    "hadoop fs -copyFromLocal work/final_code/BRFSS_2020_DATA_NAMES.csv /;\n",
    "hadoop fs -copyFromLocal work/final_code/brfss_features_list.csv /;\n",
    "hadoop fs -copyFromLocal work/final_code/features_map.csv /;\n"
   ]
  },
  {
   "cell_type": "markdown",
   "id": "e714c400-6b31-4c19-b199-7b1a222ad6a1",
   "metadata": {
    "tags": []
   },
   "source": [
    "#### To Fix:\n",
    "- code should be uniform\n",
    "- 'cols' should not be used as variables\n",
    "- put comments and references if copied from somewhere\n",
    "\n",
    "\n",
    "\n",
    "\n",
    "#### Notes:\n",
    "\n",
    "- Preparation\n",
    "o Look at 99s 888  (double check for other non-relevevant data)  (Sergey)\n",
    "o BMI/100 (Sergey)\n",
    "    \n",
    "o Scale / Normalize / Standartize data? (research)  (Spring)\n",
    "o One hot encoding ? (research)  (Spring)\n",
    "    \n",
    "- Need to choose appropriate features\n",
    "o Correlation coefficient (13)\n",
    "    \n",
    "***\n",
    "- Need to choose the best model for classification:\n",
    "o Calc. cross validation score:\n",
    "    o Select training : test sets 80:20\n",
    "    o Select KFold validation (10 folds) on training set \n",
    "        o Logistic Regression (Camm)\n",
    "        o SVM (resarch) (Sergey)\n",
    "            \n",
    "            \n",
    "            \n",
    "            \n",
    "- We'll compile presentation based on analysis results\n",
    "\n",
    "\n",
    "#### Rubric:\n",
    "- Project presentation during Session 5 (Friday 2022-05-27)  \n",
    "o 18 minutes:  15-min presentation, 3-min Q&A  \n",
    "- Presentation - 15 points  \n",
    "o Problem definition and data description (1 pt) \n",
    "    o Take it from the previous presentation\n",
    "    o Goal/success criteria - 0.85 train/test data accuracy\n",
    "\n",
    "o Data preparation (3 pts)  \n",
    "    o Removed columns with less than 300k not null values ((-> 112 features left))\n",
    "    o Drop na in the whole dataset\n",
    "    o Performed EDA, found absolute correlations > 0.1 (largest was 0.24) (-> 25 features left)\n",
    "    o Looked at remaining features, removed highly correlated (linearly dependent features)\n",
    "        o Based on CDC's provided documentation on variables(features) (-> 12 features left)\n",
    "    o Went feature by feature, looked at the question/responses, \n",
    "        o removed 'Refused' responses\n",
    "        o removed outliers from BMI\n",
    "        o Replaced NO=2 by 0s for Logistic Regression / SVM Models\n",
    "        o Replaced such response codes as 8/88/888 by 0s\n",
    "    o We had imbalanced data labels (270k NO / 42k YES)\n",
    "        o Balanced dataset by removing part of NO responses: 42k:42k\n",
    "    o Feature Transformation\n",
    "        o One-hot encoding\n",
    "        o Scaling\n",
    "        o Normalization\n",
    "        \n",
    "o Analysis approaches (2 pts)  \n",
    "     o Attempting 5 Classification Models:\n",
    "         o Logistic Regression\n",
    "         o Linear Support Vector Machines\n",
    "         o Decision Tree\n",
    "         o Gradient Boosted Tree Classifier\n",
    "         o Random Forest Classifier\n",
    "      o Split the dataset into Train/Test (0.8:0.2)\n",
    "      o Applying K-Fold Cross Validation (K=10)\n",
    "      o Striving to achieve accuracy rate closest the success criteria (0.85) by:\n",
    "          o Hyperparameter Tuning: Grid search-based model selection (ParamGridBuilder())\n",
    "          o Features engineering tuning (trial-and-error: one-hot encoding, responses modification, features selection modifications)       \n",
    "o Analysis results (3 pts)\n",
    "     o Model Selection:\n",
    "          o Initially models selection was done by comparing accuracy rates\n",
    "     o Our disease prediction problem requires specific evaluation approach:\n",
    "          o We want to maximize the Recall metric, while a certain compromise can be made with accuracy/presision metrics\n",
    "          o Evaluation of ROC graphs between models (we want higher TPR)\n",
    "          o Put the table of of all models results\n",
    "          o Based on the results, in our opinion, the GBTC won!!!\n",
    "o Challenges and approaches to address challenges (2 pts)\n",
    "    o General:\n",
    "         o Selection out of 279 features (Feature Selection / Dimentionality Reduction)\n",
    "         o Feature Transformation (which features required scaling/ one-hot encoding)\n",
    "         o Some functionalities of Pandas/Scikit Learn/ Numpy is not available in PySpark\n",
    "              o developing custom code/functions\n",
    "         o Model Hyperparameter Fine-Tuning: time-constrains / lack of expertise\n",
    "              o online research\n",
    "              o consultation with experts\n",
    "    o Specific: \n",
    "         o SAS dataset\n",
    "         o Imbalanced dataset\n",
    "               o balance by reducing the size of majority class (undersampling)\n",
    "         o Dataset size reduced to 80k after balancing\n",
    "\n",
    "         o Feature Engineering: the dataset features has not uniform response codes (example: 9 vs 99 vs 999 for 'Refuse to answer')\n",
    "              o had to go feature by feature to make it uniform\n",
    "         o Lack of Medical Domain Knowledge\n",
    "              o use of common ML/DS techniques taught in the class\n",
    "    \n",
    "o Insights gained (2 pts)  \n",
    "    o For this type of problems decision trees based models perform better\n",
    "    o Feature Selection insights (TBD)\n",
    "        \n",
    "        \n",
    "o Future work (1 pt)  \n",
    "    o Increase accuracy by more precise feature selection / engineering\n",
    "    o Discussions with domain experts\n",
    "    o Evaluation of models with combined historical datasets\n",
    "    o Models hyperparameters fine-tuning continuation\n",
    "    o Attempt to find probabilities for the results\n",
    "        \n",
    "        \n",
    "o All team members present (1 pt) \n",
    "    \n",
    "    \n",
    "- Code - 5 points  \n",
    "o Code execution and completeness (3 pts)  \n",
    "o Code organization and documentation (1 pt)  \n",
    "o README to describe code organization and how to run code (1 pt)  \n",
    "- Peer review of 2 other teams - 4 points  \n",
    "o Ask at least 2 questions and provide feedback during Q&A (2 pts per team)  \n",
    "- Team evaluation - 1 point  \n",
    "o Complete evaluation form (1 pt)  \n"
   ]
  },
  {
   "cell_type": "markdown",
   "id": "10fe3fa3-dd8d-4e4f-b7d4-e9b155e7ce2b",
   "metadata": {
    "tags": []
   },
   "source": [
    "# DSE-230 Final Project\n",
    "## Diabetes Risk Prediction from Personal Health Indicators\n",
    "***\n",
    "### Team 3\n",
    "#### Chunxia Tong  \n",
    "#### Camm Perera\n",
    "#### Sergey Gurvich\n",
    "\n",
    "***\n",
    "## Table of Contents:\n",
    "\n",
    "* [1. Project Description](#project_description)\n",
    "    * [1.1 Project Setup](#)\n",
    "    * [1.2 Success Criteria](#)\n",
    "    * [1.3 Links](#)\n",
    "    * [1.4 Setup](#)\n",
    "* [2. EDA](#eda)\n",
    "    * [2.1 ](#)\n",
    "    * [2.2 ](#)\n",
    "    * [2.3 ](#)\n",
    "    * [2.4 ](#)\n",
    "* [3. Data Preparation](#data_preparation)\n",
    "    * [3.1 ](#)\n",
    "    * [3.2 ](#)\n",
    "    * [3.3 ](#)\n",
    "    * [3.4 ](#)\n",
    "* [4. Modeling](#modeling)\n",
    "    * [4.1 Logistic Regression](#log_reg)\n",
    "    * [4.2 Linear SVM](#lsvm)\n",
    "    * [4.3 Decision Tree](#dtree)\n",
    "    * [4.4 ](#)\n",
    "* [5. Evaluation](#evaluation)\n",
    "    * [5.1 ](#)\n",
    "    * [5.2 ](#)\n",
    "    * [5.3 ](#)\n",
    "    * [5.4 ](#)\n",
    "* [6. Conclusion](#conclusion)\n",
    "    * [6.1 ](#)\n",
    "    * [6.2 ](#)\n",
    "    * [6.3 ](#)\n",
    "    * [6.4 ](#)\n",
    "* [7. Tear Down](#stop)\n",
    "***"
   ]
  },
  {
   "cell_type": "markdown",
   "id": "dbb88d72-6991-4b70-81e7-7a60353a96fb",
   "metadata": {
    "tags": []
   },
   "source": [
    "## 1. Project Description and Setup <a class=\"anchor\" id=\"project_description\"></a>\n",
    "\n",
    "### 1.1 Problem Description\n",
    "Diabetes.......\n",
    "### 1.2 Success Criteria\n",
    "Test error ....\n",
    "### 1.3 Links\n",
    "git: https://github.com/spring-camm-sergey/dse230  \n",
    "dataset: https://www.cdc.gov/brfss/annual_data/annual_2020.html\n",
    "\n",
    "\n",
    "### 1.4 Setup <a class=\"anchor\" id=\"project_setup\"></a>\n",
    "\n",
    "#### 1.4.1 Imports <a class=\"anchor\" id=\"imports\"></a>\n"
   ]
  },
  {
   "cell_type": "code",
   "execution_count": 1,
   "id": "72a1f27e-ffdb-4b23-8814-60b247579c23",
   "metadata": {},
   "outputs": [],
   "source": [
    "import matplotlib.pyplot as plt\n",
    "%matplotlib inline \n",
    "import pyspark\n",
    "import numpy as np\n",
    "\n",
    "from pyspark.sql import SparkSession\n",
    "# from pyspark.sql.functions import *\n",
    "from pyspark.sql.functions import col, isnan, when, count\n",
    "from pyspark.sql.types import FloatType\n",
    "\n",
    "from pyspark.ml import Pipeline\n",
    "from pyspark.ml.classification import LinearSVC, LogisticRegression, DecisionTreeClassifier, GBTClassifier, RandomForestClassifier\n",
    "from pyspark.ml.feature import StandardScaler, Normalizer, OneHotEncoder, VectorAssembler, StringIndexer, VectorIndexer\n",
    "from pyspark.ml.stat import Correlation\n",
    "from pyspark.ml.evaluation import BinaryClassificationEvaluator, MulticlassClassificationEvaluator\n",
    "from pyspark.mllib.evaluation import BinaryClassificationMetrics, MulticlassMetrics\n",
    "from pyspark.ml.tuning import CrossValidator, ParamGridBuilder"
   ]
  },
  {
   "cell_type": "markdown",
   "id": "2e0c8cbb-cf30-45fd-8623-69a9dcbb4f97",
   "metadata": {},
   "source": [
    "#### 1.4.2 Start Spark Session <a class=\"anchor\" id=\"start_spark_session\"></a>"
   ]
  },
  {
   "cell_type": "code",
   "execution_count": 2,
   "id": "205c3bb3-36a4-40b3-bd53-3f7149fd69d6",
   "metadata": {},
   "outputs": [
    {
     "name": "stderr",
     "output_type": "stream",
     "text": [
      "WARNING: An illegal reflective access operation has occurred\n",
      "WARNING: Illegal reflective access by org.apache.spark.unsafe.Platform (file:/usr/spark-3.2.1/jars/spark-unsafe_2.12-3.2.1.jar) to constructor java.nio.DirectByteBuffer(long,int)\n",
      "WARNING: Please consider reporting this to the maintainers of org.apache.spark.unsafe.Platform\n",
      "WARNING: Use --illegal-access=warn to enable warnings of further illegal reflective access operations\n",
      "WARNING: All illegal access operations will be denied in a future release\n",
      "Setting default log level to \"WARN\".\n",
      "To adjust logging level use sc.setLogLevel(newLevel). For SparkR, use setLogLevel(newLevel).\n",
      "2022-05-25 21:27:22,317 WARN util.NativeCodeLoader: Unable to load native-hadoop library for your platform... using builtin-java classes where applicable\n"
     ]
    },
    {
     "data": {
      "text/plain": [
       "'3.2.1'"
      ]
     },
     "execution_count": 2,
     "metadata": {},
     "output_type": "execute_result"
    }
   ],
   "source": [
    "conf = pyspark.SparkConf().setAll([('spark.master', 'local[*]'),\n",
    "                                   ('spark.app.name', 'Basic Setup')])\n",
    "                                    # ('spark.memory.offHeap.enabled', True)\n",
    "                                    # ('spark.memory.offHeap.size','8g'),\n",
    "                                    # ('spark.executor.memory', '16g'), \n",
    "                                    # ('spark.driver.memory','16g')\n",
    "                                  # ]\n",
    "                                  # )\n",
    "spark = SparkSession.builder.config(conf=conf).getOrCreate()\n",
    "spark.sparkContext.setLogLevel('OFF')\n",
    "spark.version"
   ]
  },
  {
   "cell_type": "markdown",
   "id": "7b47beaa-f334-4790-9402-28329dc6d489",
   "metadata": {},
   "source": [
    "#### 1.4.3 Read Data <a class=\"anchor\" id=\"read_data\"></a>"
   ]
  },
  {
   "cell_type": "code",
   "execution_count": 3,
   "id": "70ada890-62b2-4cbf-a801-2c87b94ec8a0",
   "metadata": {},
   "outputs": [
    {
     "name": "stderr",
     "output_type": "stream",
     "text": [
      "                                                                                \r"
     ]
    }
   ],
   "source": [
    "# main dataset\n",
    "orig_df = spark.read.option(\"header\", True).csv('hdfs:///BRFSS_2020_DATA_NAMES.csv', inferSchema=True)"
   ]
  },
  {
   "cell_type": "markdown",
   "id": "7eed8593-946b-4e03-8bdc-a887588ac746",
   "metadata": {
    "tags": []
   },
   "source": [
    "## 2. EDA <a class=\"anchor\" id=\"eda\"></a>\n",
    "\n",
    "### 2.1 Dataset Dimensions"
   ]
  },
  {
   "cell_type": "code",
   "execution_count": 4,
   "id": "8f224e2c-d292-4ec2-80e9-0497242618ab",
   "metadata": {},
   "outputs": [
    {
     "name": "stdout",
     "output_type": "stream",
     "text": [
      "Number of samples: 401958\n",
      "Number of features: 279\n"
     ]
    }
   ],
   "source": [
    "orig_sdf  = orig_df\n",
    "print(f\"Number of samples: {orig_sdf.count()}\")\n",
    "print(f\"Number of features: {len(orig_sdf.columns)}\")"
   ]
  },
  {
   "cell_type": "markdown",
   "id": "70c7587c-100a-4fb4-a49f-25b4e284ed1f",
   "metadata": {},
   "source": [
    "### 2.2 Missing values (for EDA Only)\n"
   ]
  },
  {
   "cell_type": "markdown",
   "id": "7ee3123b-44f5-420d-b371-5a01811a9ed8",
   "metadata": {},
   "source": [
    "#### To preserve non-sparse samples, we removed columns not meeting threshhold - must have at least 300k not NULLs:"
   ]
  },
  {
   "cell_type": "code",
   "execution_count": 5,
   "id": "e916139e-2716-4022-a650-6a1593860871",
   "metadata": {},
   "outputs": [
    {
     "name": "stderr",
     "output_type": "stream",
     "text": [
      "                                                                                \r"
     ]
    },
    {
     "name": "stdout",
     "output_type": "stream",
     "text": [
      "Original number of samples: 401958, , number of columns: 279\n",
      "Cleaned number of samples: 401958, , number of columns: 112\n"
     ]
    }
   ],
   "source": [
    "def drop_null_columns(sdf, threshold=0):\n",
    "    \"\"\"\n",
    "    Drops all columns which contain null values. \n",
    "    Leave columns, where count(not nulls) > threshhold.\n",
    "    Note: Simulates pandas.DataFrame.dropna(axis=1, thresh=300000)\n",
    "    \n",
    "    :param Dataframe sdf: PySpark DataFrame to work with\n",
    "    :param int threshold: min numbers of not nulls in column in order not to drop it\n",
    "    :return: cleaned PySpark dataFrame\n",
    "    \"\"\"\n",
    "    null_counts = sdf.select([count(when(\n",
    "        col(c).isNull() | \n",
    "        col(c).contains('None') | \n",
    "        col(c).contains('NULL') | \n",
    "        col(c).contains('NA') | \n",
    "        (col(c)=='') | \n",
    "        (col(c)==99) | \n",
    "        isnan(c), \n",
    "        c)).alias(c) for c in sdf.columns]).collect()[0].asDict()\n",
    "    \n",
    "    to_drop = [k for k, v in null_counts.items() if v > sdf.count()-threshold]\n",
    "    sdf = sdf.drop(*to_drop)\n",
    "    return sdf\n",
    "\n",
    "\n",
    "\n",
    "data_sdf = drop_null_columns(orig_sdf, threshold=300000)\n",
    "\n",
    "\n",
    "print(f'Original number of samples: {orig_sdf.count()}, , number of columns: {len(orig_sdf.columns)}')\n",
    "print(f'Cleaned number of samples: {data_sdf.count()}, , number of columns: {len(data_sdf.columns)}')"
   ]
  },
  {
   "cell_type": "markdown",
   "id": "86edc743-fe30-43fc-922c-a02ea870339e",
   "metadata": {},
   "source": [
    "#### Remove NULL samples:"
   ]
  },
  {
   "cell_type": "code",
   "execution_count": 6,
   "id": "6fe87633-e4fe-4123-a6e0-2a195279e29b",
   "metadata": {},
   "outputs": [
    {
     "name": "stderr",
     "output_type": "stream",
     "text": [
      "[Stage 851:>                                                        (0 + 4) / 4]\r"
     ]
    },
    {
     "name": "stdout",
     "output_type": "stream",
     "text": [
      "Cleaned number of samples: 326959, and number of features: 112\n"
     ]
    },
    {
     "name": "stderr",
     "output_type": "stream",
     "text": [
      "                                                                                \r"
     ]
    }
   ],
   "source": [
    "cleaned_sdf = data_sdf.na.drop()\n",
    "print(f'Cleaned number of samples: {cleaned_sdf.count()}, and number of features: {len(cleaned_sdf.columns)}')"
   ]
  },
  {
   "cell_type": "markdown",
   "id": "ce6ba4e9-3349-4794-9fee-0f29ec42bb65",
   "metadata": {},
   "source": [
    "***\n",
    "#### IF NO EDA IS NEEDED, WE CAN GO STRAIGHT TO THE DATA PREPARATION SECTION FROM HERE: [Data Preparation](#data_preparation)\n",
    "***"
   ]
  },
  {
   "cell_type": "markdown",
   "id": "0951e01e-b65b-4f1c-81cf-d65feed82e91",
   "metadata": {},
   "source": [
    "### 2.3 Summary Statistics"
   ]
  },
  {
   "cell_type": "code",
   "execution_count": 7,
   "id": "3a461daf-6bb4-4cd4-9c0c-190c71600b1e",
   "metadata": {},
   "outputs": [],
   "source": [
    "# # Note: this code is likely to throw memory heap Java error, so it is temporarily commented out.\n",
    "# this is to skip execution of a cell:\n",
    "%%script false --no-raise-error\n",
    "\n",
    "summary_sdf = cleaned_sdf.summary()\n",
    "summary_sdf.count(), len(summary_sdf.columns)"
   ]
  },
  {
   "cell_type": "code",
   "execution_count": 8,
   "id": "2529e590-bd2e-48c9-b08c-d71911b5ec16",
   "metadata": {},
   "outputs": [],
   "source": [
    "# this is to skip execution of a cell:\n",
    "%%script false --no-raise-error\n",
    "\n",
    "#--- Summary Stats Transpose Code ---\n",
    "def transpose_df(df, columns, pivot_col):\n",
    "    \"\"\"\n",
    "    The function transposes the summary stats dataframe.\n",
    "    Source: https://nikhil-suthar-bigdata.medium.com/how-to-transpose-spark-dataframe-fa82c079a6b\n",
    "  \n",
    "    :param DataFrame df - summary stats dataframe\n",
    "    :param list columns: - columns list\n",
    "    :param str pivot_col - pivot column name\n",
    "    :return: None\n",
    "    \"\"\"\n",
    "    columns_value = list(map(lambda x: str(\"'\") + str(x) + str(\"',\")  + str(x), columns))\n",
    "    stack_cols = ','.join(x for x in columns_value)\n",
    "    df_1 = df.selectExpr(pivot_col, \"stack(\" + str(len(columns)) + \",\" + stack_cols + \")\")\\\n",
    "           .select(pivot_col, \"col0\", \"col1\")\n",
    "    final_df = df_1.groupBy(col(\"col0\")).pivot(pivot_col).agg(concat_ws(\"\", collect_list(col(\"col1\"))))\\\n",
    "                 .withColumnRenamed(\"col0\", pivot_col)\n",
    "    return final_df\n",
    "\n",
    "summary_trans_sdf = transpose_df(summary_sdf, summary_sdf.columns[1:], 'summary')\n",
    "\n",
    "summary_trans_sdf.show(115)"
   ]
  },
  {
   "cell_type": "markdown",
   "id": "8ae93613-5c26-4009-b1ad-546e68a67505",
   "metadata": {
    "tags": []
   },
   "source": [
    "### 2.4 Visualisations"
   ]
  },
  {
   "cell_type": "markdown",
   "id": "0e86f8e9-6db4-452c-9918-52c44bbd5369",
   "metadata": {},
   "source": [
    "#### HEATMAP - Feature Correlation"
   ]
  },
  {
   "cell_type": "code",
   "execution_count": 9,
   "id": "aa6e1a16-2c48-40de-a3e7-a4777cc888a3",
   "metadata": {},
   "outputs": [
    {
     "name": "stderr",
     "output_type": "stream",
     "text": [
      "                                                                                \r"
     ]
    },
    {
     "name": "stdout",
     "output_type": "stream",
     "text": [
      "+--------+-------------------+\n",
      "| feature|      corr_absolute|\n",
      "+--------+-------------------+\n",
      "|DIABETE4|                1.0|\n",
      "| GENHLTH|0.24340324217549966|\n",
      "|  _AGE_G|0.18566104340993733|\n",
      "|   _BMI5|0.18564263474273196|\n",
      "|  _AGE80|0.18480478597113167|\n",
      "|_AGEG5YR|0.17934966268845237|\n",
      "|_BMI5CAT| 0.1678549836616008|\n",
      "|  _MICHD|  0.167778486875065|\n",
      "| EMPLOY1|0.16395298848008066|\n",
      "| _RFHLTH| 0.1583593772232029|\n",
      "|   WTKG3|0.15146909226095578|\n",
      "|DIFFWALK|0.14561578202781555|\n",
      "|HAVARTH4| 0.1442233091718822|\n",
      "|_DRDXAR2|0.14422330917188217|\n",
      "|_HCVU651|0.13845058824181003|\n",
      "|_AGE65YR|0.13344457583732638|\n",
      "| _RFBMI5|0.12951355502292466|\n",
      "|_DRNKDRV| 0.1280952455367749|\n",
      "| ALCDAY5|0.12657147533039714|\n",
      "|RMVTETH4|0.12589976279024256|\n",
      "|EXERANY2| 0.1152107075515753|\n",
      "|CVDINFR4|0.11420407874965834|\n",
      "|_TOTINDA|0.10979460176323247|\n",
      "|CHECKUP1|0.10747923192999645|\n",
      "|PNEUVAC4|0.10083168617775363|\n",
      "+--------+-------------------+\n",
      "\n"
     ]
    }
   ],
   "source": [
    "corr_cols = [x for x in cleaned_sdf.columns]\n",
    "corr_list = []\n",
    "\n",
    "for col in range(len(corr_cols)):\n",
    "    corr_list.append({\"feature\": corr_cols[col] , \"correlation\": cleaned_sdf.stat.corr('DIABETE4',corr_cols[col])})\n",
    "    \n",
    "corr_sdf = spark.createDataFrame(corr_list)\n",
    "corr_abs_sdf = corr_sdf.withColumn('corr_absolute',abs(corr_sdf.correlation))\n",
    "corr_filtered_sdf = corr_abs_sdf.filter(corr_abs_sdf.corr_absolute > 0.1)\n",
    "# corr_filtered_sdf.show(30)\n",
    "corr_filtered_sdf[['feature', 'corr_absolute']].sort(corr_filtered_sdf.corr_absolute.desc()).show(30)"
   ]
  },
  {
   "cell_type": "code",
   "execution_count": 10,
   "id": "4e695b54-a7c2-4341-be64-eea9c4129c20",
   "metadata": {},
   "outputs": [
    {
     "name": "stdout",
     "output_type": "stream",
     "text": [
      "root\n",
      " |-- GENHLTH: integer (nullable = true)\n",
      " |-- EXERANY2: integer (nullable = true)\n",
      " |-- HAVARTH4: integer (nullable = true)\n",
      " |-- DIABETE4: integer (nullable = true)\n",
      " |-- EMPLOY1: integer (nullable = true)\n",
      " |-- DIFFWALK: integer (nullable = true)\n",
      " |-- ALCDAY5: integer (nullable = true)\n",
      " |-- _HCVU651: integer (nullable = true)\n",
      " |-- _MICHD: integer (nullable = true)\n",
      " |-- _DRDXAR2: integer (nullable = true)\n",
      " |-- _AGEG5YR: integer (nullable = true)\n",
      " |-- WTKG3: integer (nullable = true)\n",
      " |-- _BMI5: integer (nullable = true)\n",
      " |-- _BMI5CAT: integer (nullable = true)\n",
      "\n"
     ]
    }
   ],
   "source": [
    "# Remove unrelated features for concise heatmap visual:\n",
    "features_to_remove = (\n",
    "'CHECKUP1', #'LENGTH OF TIME SINCE LAST ROUTINE CHECKUP'\n",
    "'CVDINFR4', #'EVER DIAGNOSED WITH HEART ATTACK'\n",
    "'RMVTETH4', #'NUMBER OF PERMANENT TEETH REMOVED',\n",
    "'PNEUVAC4', #'PNEUMONIA SHOT EVER', \n",
    "'_RFHLTH',  #'ADULTS WITH GOOD OR BETTER HEALTH',\n",
    "'_TOTINDA', #'LEISURE TIME PHYSICAL ACTIVITY CALCULATED VARIABLE',\n",
    "'_AGE65YR', #'REPORTED AGE IN TWo AGE GROUPS CALCULATED VARIABLE',\n",
    "'_AGE80',   #'IMPUTED AGE VALUE COLLAPSED ABOVE 80',\n",
    "'_AGE_G',   #'IMPUTED AGE IN SIX GROUPS',\n",
    "'_RFBMI5',  #'OVERWEIGHT OR OBESE CALCULATED VARIABLE',\n",
    "'_DRNKDRV'  #'DRINKING AND DRIVING'\n",
    ")\n",
    "\n",
    "# Get correlation feature names \n",
    "corr_features = [row[0] for row in corr_filtered_sdf.select('Feature').collect()]\n",
    "\n",
    "corr_features_sdf = cleaned_sdf.select(corr_features)\n",
    "corr_features_reduced_sdf = corr_features_sdf.drop(*features_to_remove)\n",
    "corr_features_reduced_sdf.printSchema()"
   ]
  },
  {
   "cell_type": "code",
   "execution_count": 11,
   "id": "0d41b0dc-ccf8-43df-9cb5-9181a957e723",
   "metadata": {},
   "outputs": [
    {
     "name": "stderr",
     "output_type": "stream",
     "text": [
      "/usr/local/lib/python3.8/dist-packages/pyspark/sql/context.py:125: FutureWarning: Deprecated in 3.0.0. Use SparkSession.builder.getOrCreate() instead.\n",
      "  warnings.warn(\n",
      "                                                                                \r"
     ]
    }
   ],
   "source": [
    "#  Build correlation matrix\n",
    "vector_col = \"corr_features\"\n",
    "assembler = VectorAssembler(inputCols=corr_features_reduced_sdf.columns, \n",
    "                            outputCol=vector_col)\n",
    "heatmap_vector = assembler.transform(corr_features_reduced_sdf).select(vector_col)\n",
    "matrix = Correlation.corr(heatmap_vector, vector_col)\n",
    "\n",
    "matrix = Correlation.corr(heatmap_vector, vector_col).collect()[0][0]\n",
    "corrmatrix = matrix.toArray().tolist()\n",
    "heatmap_sdf = spark.createDataFrame(corrmatrix, corr_features_reduced_sdf.columns, corr_features_reduced_sdf.columns)"
   ]
  },
  {
   "cell_type": "code",
   "execution_count": 12,
   "id": "0751acf1-08c4-4234-88d0-c4b7915dcc81",
   "metadata": {},
   "outputs": [
    {
     "data": {
      "image/png": "[encoded data removed]",
      "text/plain": [
       "<Figure size 720x720 with 2 Axes>"
      ]
     },
     "metadata": {
      "needs_background": "light"
     },
     "output_type": "display_data"
    }
   ],
   "source": [
    "# Plot correaltion heatmap\n",
    "plt.imshow(corrmatrix, cmap='Spectral')\n",
    "plt.colorbar()\n",
    "plt.xticks(range(len(heatmap_sdf.columns)), heatmap_sdf.columns, rotation=90)\n",
    "plt.yticks(range(len(heatmap_sdf.columns)), heatmap_sdf.columns)\n",
    "plt.gcf().set_size_inches(10,10)\n",
    "\n",
    "labels = np.array(heatmap_sdf.collect())\n",
    "\n",
    "for y in range(labels.shape[0]):\n",
    "    for x in range(labels.shape[1]):\n",
    "        plt.text(x, y, '{:.2f}' .format(labels[y, x]), ha='center', va='center', color='white')"
   ]
  },
  {
   "cell_type": "markdown",
   "id": "5820dc9b-32da-4e39-b3f2-38d990ffbe5c",
   "metadata": {},
   "source": [
    "#### PIECHART - Sex of Respondent"
   ]
  },
  {
   "cell_type": "code",
   "execution_count": 13,
   "id": "8ce4f6e6-e2c7-40b9-a69a-c6224a461515",
   "metadata": {},
   "outputs": [],
   "source": [
    "# Exclude age group 14='No response'\n",
    "age_not_grp14_sdf = cleaned_sdf.filter(cleaned_sdf['_AGEG5YR'] < 14)\n",
    "pie_sdf = age_not_grp14_sdf.select('SEXVAR')\n",
    "# pie_sdf.count(), len(pie_sdf.columns)"
   ]
  },
  {
   "cell_type": "code",
   "execution_count": 14,
   "id": "0adbeea2-91d0-46d4-90a2-3203a0ac4191",
   "metadata": {},
   "outputs": [
    {
     "name": "stderr",
     "output_type": "stream",
     "text": [
      "                                                                                \r"
     ]
    }
   ],
   "source": [
    "# Get group counts for repondent sex\n",
    "pie_group_sdf = pie_sdf.groupBy('SEXVAR').count().orderBy('count', ascending=True)\n",
    "pie_group_renamed_sdf = pie_group_sdf.withColumnRenamed('count', 'pop_count')\n",
    "pie_group_count = pie_group_renamed_sdf.collect()"
   ]
  },
  {
   "cell_type": "code",
   "execution_count": 15,
   "id": "fc682fb0-f812-4b1e-a747-7bfec222606d",
   "metadata": {},
   "outputs": [
    {
     "data": {
      "image/png": "[encoded data removed]",
      "text/plain": [
       "<Figure size 432x432 with 1 Axes>"
      ]
     },
     "metadata": {},
     "output_type": "display_data"
    }
   ],
   "source": [
    "# Pie data prep\n",
    "pie_data = []\n",
    "\n",
    "for i in range(len(pie_group_count)):\n",
    "    pie_data.append(pie_group_count[i].pop_count)\n",
    "\n",
    "#define color palette to use\n",
    "colors = ['#66b3ff','#99ff99','#ffcc99','#ff9999']\n",
    "\n",
    "# define data labels\n",
    "labels = ['Female', 'Male']\n",
    "\n",
    "# Create a pieplot\n",
    "plt.figure(figsize=(6, 6))\n",
    "plt.pie(pie_data, labels=labels, colors=colors, autopct='%.00f%%' ,radius=1.1 ,shadow=True, explode=[0.1,0], startangle=60)\n",
    "plt.title(\"Sex of Respondent\", fontdict={'fontsize':14})\n",
    "plt.show()"
   ]
  },
  {
   "cell_type": "markdown",
   "id": "55c2734a-6668-4fda-8d24-e75ea0e659ed",
   "metadata": {},
   "source": [
    "#### HISTOGRAM - Computed Body Mass Index"
   ]
  },
  {
   "cell_type": "code",
   "execution_count": 16,
   "id": "a20a5806-1acf-4506-86ef-b24b9fe1eb2a",
   "metadata": {},
   "outputs": [
    {
     "name": "stderr",
     "output_type": "stream",
     "text": [
      "                                                                                \r"
     ]
    }
   ],
   "source": [
    "histo_sdf = cleaned_sdf.filter(cleaned_sdf._BMI5 < 6000)\n",
    "histo_bmi_vals = histo_sdf.select('_BMI5').collect()"
   ]
  },
  {
   "cell_type": "code",
   "execution_count": 17,
   "id": "254a1b32-f54d-4f63-acf6-1901b09e9d09",
   "metadata": {},
   "outputs": [
    {
     "data": {
      "image/png": "[encoded data removed]",
      "text/plain": [
       "<Figure size 1080x720 with 1 Axes>"
      ]
     },
     "metadata": {
      "needs_background": "light"
     },
     "output_type": "display_data"
    }
   ],
   "source": [
    "# Histo data prep\n",
    "hsito_data = []\n",
    "\n",
    "for i in range(len(histo_bmi_vals)):\n",
    "    hsito_data.append(histo_bmi_vals[i]._BMI5/100)\n",
    "\n",
    "hsito_data[:5]\n",
    "\n",
    "# Plot histogram\n",
    "counts, bins = np.histogram(hsito_data, bins=64)\n",
    "plt.figure(figsize=(15, 10))\n",
    "plt.hist(bins[:-1], bins, weights=counts, ec='black')\n",
    "plt.title('Respondents Computed Body Mass Index', fontdict={'fontsize':14})\n",
    "plt.ylabel('Frequency')\n",
    "plt.xlabel('BMI')\n",
    "plt.show()"
   ]
  },
  {
   "cell_type": "markdown",
   "id": "218e40e3-a985-430b-99e4-47c5861416b4",
   "metadata": {
    "tags": []
   },
   "source": [
    "## 3. Data Preparation <a class=\"anchor\" id=\"data_preparation\"></a>\n",
    "\n",
    "### 3.1 Features Removing\n",
    "#### NO ADDITIONAL ACTION NEEDED HERE. While EDA, we've alredy removed the features with too many NULLs.\n",
    "\n",
    "### 3.2 Dataset Cleaning\n",
    "#### NO ADDITIONAL ACTION NEEDED HERE. While EDA, we've alreay dropped all remaining rows with NULLs."
   ]
  },
  {
   "cell_type": "code",
   "execution_count": 7,
   "id": "5ec0a226-b146-4a22-94ed-fd947b1668cc",
   "metadata": {
    "tags": []
   },
   "outputs": [
    {
     "name": "stderr",
     "output_type": "stream",
     "text": [
      "[Stage 854:>                                                        (0 + 4) / 4]\r"
     ]
    },
    {
     "name": "stdout",
     "output_type": "stream",
     "text": [
      "Cleaned number of rows: 326959, , number of columns: 112\n"
     ]
    },
    {
     "name": "stderr",
     "output_type": "stream",
     "text": [
      "                                                                                \r"
     ]
    }
   ],
   "source": [
    "# leave cleaned_sdf as backup, we can re-run many times faster\n",
    "cleaned_df = cleaned_sdf\n",
    "\n",
    "print(f'Cleaned number of rows: {cleaned_df.count()}, , number of columns: {len(cleaned_df.columns)}')"
   ]
  },
  {
   "cell_type": "code",
   "execution_count": 8,
   "id": "300eb092-d5a8-4f7f-9a77-34a4d5620841",
   "metadata": {},
   "outputs": [],
   "source": [
    "# cleaned_df.show(1)"
   ]
  },
  {
   "cell_type": "markdown",
   "id": "d4008034-222d-4a60-8c50-df2b33275957",
   "metadata": {
    "tags": []
   },
   "source": [
    "### 3.3 Feature Selection\n",
    "\n",
    "- We picked fetures according to the absolute correlation coefficients' results >0.1 in the EDA section. Let's apply it here:"
   ]
  },
  {
   "cell_type": "code",
   "execution_count": 9,
   "id": "1ad401e3-8b0d-428b-a29a-3d837afbf8a0",
   "metadata": {},
   "outputs": [],
   "source": [
    "# Candidates from correlation coef. >= 0.1:\n",
    "\n",
    "# +--------+-------------------+\n",
    "# | feature|      corr_absolute|\n",
    "# +--------+-------------------+\n",
    "# | GENHLTH|0.24589367600251408|\n",
    "# |  _AGE_G|0.19092127239726459|\n",
    "# |  _AGE80|0.19072694276261376|\n",
    "# |_AGEG5YR|0.18723669342527285|\n",
    "# |   _BMI5|0.18616837031030695|\n",
    "# | EMPLOY1|0.16976771483478573|\n",
    "# |  _MICHD|0.16944105523216146|\n",
    "# |_BMI5CAT|0.16832290901401584|\n",
    "# | _RFHLTH|0.16507734173422267|\n",
    "# |DIFFWALK|0.15201125568861884|\n",
    "# |   WTKG3|0.15188968238715578|\n",
    "# |_DRDXAR2|0.14709958030515652|\n",
    "# |HAVARTH4|0.14709958030515652|\n",
    "# |_HCVU651|0.14388852597614002|\n",
    "# |_AGE65YR|0.14235057094120832|\n",
    "# |_DRNKDRV|0.13059650197464265|\n",
    "# | ALCDAY5|0.13001893982345375|\n",
    "# | _RFBMI5|0.12933584562653766|\n",
    "# |RMVTETH4|0.12854739562343914|\n",
    "# |EXERANY2|0.11950726230964258|\n",
    "# |CVDINFR4| 0.1161998615943308|\n",
    "# |_TOTINDA|0.11388422824979928|\n",
    "# |CHECKUP1|0.11007528748766457|\n",
    "# |PNEUVAC4|0.10258756884001767|\n",
    "# |_PHYS14D|0.10131009704045844|\n",
    "# +--------+-------------------+\n",
    "\n",
    "cols = [\n",
    "    'GENHLTH',\n",
    "    '_AGE_G',\n",
    "    '_BMI5',\n",
    "    '_AGE80',\n",
    "    '_AGEG5YR',\n",
    "    '_BMI5CAT',\n",
    "    '_MICHD',\n",
    "    'EMPLOY1',\n",
    "    '_RFHLTH',\n",
    "    'WTKG3',\n",
    "    'DIFFWALK',\n",
    "    '_DRDXAR2',\n",
    "    'HAVARTH4',\n",
    "    '_HCVU651',\n",
    "    '_AGE65YR',\n",
    "    '_RFBMI5',\n",
    "    '_DRNKDRV',\n",
    "    'ALCDAY5',\n",
    "    'RMVTETH4',\n",
    "    'EXERANY2',\n",
    "    'CVDINFR4',\n",
    "    '_TOTINDA',\n",
    "    'CHECKUP1',\n",
    "    'PNEUVAC4',\n",
    "    'DIABETE4',\n",
    "]\n",
    "\n",
    "# leave only selected columns\n",
    "df_selected_features = cleaned_df[cols]"
   ]
  },
  {
   "cell_type": "markdown",
   "id": "65363d91-63e4-4e82-ae54-608c8aa078b0",
   "metadata": {},
   "source": [
    "- Take care of the label column"
   ]
  },
  {
   "cell_type": "code",
   "execution_count": 10,
   "id": "c2932e50-097b-44d4-998b-3824a3e31d22",
   "metadata": {},
   "outputs": [
    {
     "name": "stderr",
     "output_type": "stream",
     "text": [
      "[Stage 857:>                                                        (0 + 4) / 4]\r"
     ]
    },
    {
     "name": "stdout",
     "output_type": "stream",
     "text": [
      "+-----+------+\n",
      "|label| count|\n",
      "+-----+------+\n",
      "|    1| 42359|\n",
      "|    0|274713|\n",
      "+-----+------+\n",
      "\n"
     ]
    },
    {
     "name": "stderr",
     "output_type": "stream",
     "text": [
      "                                                                                \r"
     ]
    }
   ],
   "source": [
    "# rename diabetes column to 'label'\n",
    "df_selected_features = df_selected_features.withColumnRenamed('DIABETE4', 'label')\n",
    "\n",
    "# # LEAVE ONLY YES AND NO ANSWERS FOR DIABETES QUESTION\n",
    "# Label Response Map:\n",
    "# 1 Yes\n",
    "# 2 Yes, but female told only during pregnancy\n",
    "# 3 No\n",
    "# 4 No, prediabetes or borderline diabetes\n",
    "# 7 Don’t know / Not sure\n",
    "# 9 Refused\n",
    "\n",
    "df_selected_features = df_selected_features.filter((df_selected_features['label']==1)|(df_selected_features['label']==3))  # leave only yes and no\n",
    "\n",
    "# replace 3s by 0s\n",
    "df_selected_features = df_selected_features.withColumn(\"label\", when(df_selected_features[\"label\"] == 3, 0).otherwise(df_selected_features[\"label\"]))\n",
    "\n",
    "# df_selected_features = df_selected_features.na.drop()\n",
    "df_selected_features.groupby('label').count().show()"
   ]
  },
  {
   "cell_type": "markdown",
   "id": "dbbb1561-06de-4649-a039-843452bf039e",
   "metadata": {},
   "source": [
    "- Print questions and possible answers count"
   ]
  },
  {
   "cell_type": "code",
   "execution_count": 11,
   "id": "731bba54-efbf-48f8-b41a-9e158ac8b78f",
   "metadata": {
    "tags": []
   },
   "outputs": [],
   "source": [
    "# we'll to feature fransformation in the separate DF\n",
    "df_features_transformation = df_selected_features\n",
    "\n",
    "# csv of questionaire with possible answers\n",
    "questions_df = spark.read.option(\"header\", True).csv('hdfs:///brfss_features_list.csv', inferSchema=True)\n",
    "\n",
    "# mapping labels-actual questions\n",
    "labels_map = spark.read.option(\"header\", True).csv('hdfs:///features_map.csv', inferSchema=True)\n",
    "\n",
    "def print_feature_details(columns, n, print_counts=True):\n",
    "    \"\"\"\n",
    "    The function prints info about the feature: question, code, possible responses, counts.\n",
    "    \n",
    "    :param list columns: - list of features we work with\n",
    "    :param int n - index of the feature we want to print info\n",
    "    :param bool print_counts - True if we wat to print the counts of different responses\n",
    "    :return: None\n",
    "    \"\"\"\n",
    "    print(columns[n])\n",
    "    print(labels_map.filter(labels_map['var']==columns[n])[['question']].first())\n",
    "    question = questions_df.filter((questions_df['VariableName']==columns[n]) & (questions_df['year']==2020))[['Question']].first()\n",
    "    responses = questions_df.filter((questions_df['VariableName']==columns[n]) & (questions_df['year']==2020))[['Responses']].first()\n",
    "    print(question)\n",
    "    print(responses)\n",
    "    \n",
    "    if print_counts:\n",
    "        df_features_transformation.groupBy(columns[n]).count().show()\n",
    "    else:\n",
    "        print('-'*20)"
   ]
  },
  {
   "cell_type": "code",
   "execution_count": 12,
   "id": "3c796067-3807-4569-bb4c-661fbf935dd4",
   "metadata": {},
   "outputs": [
    {
     "name": "stdout",
     "output_type": "stream",
     "text": [
      "GENHLTH\n",
      "Row(question='GENERAL HEALTH')\n",
      "Row(Question='Would you say that in general your health is:')\n",
      "Row(Responses='1=Excellent 2=Very good 3=Good 4=Fair 5=Poor 7=Don’t know/Not Sure 9=Refused')\n",
      "--------------------\n",
      "_AGE_G\n",
      "Row(question='IMPUTED AGE IN SIX GROUPS')\n",
      "None\n",
      "None\n",
      "--------------------\n",
      "_BMI5\n",
      "Row(question='COMPUTED BODY MASS INDEX')\n",
      "None\n",
      "None\n",
      "--------------------\n",
      "_AGE80\n",
      "Row(question='IMPUTED AGE VALUE COLLAPSED ABOVE 80')\n",
      "None\n",
      "None\n",
      "--------------------\n",
      "_AGEG5YR\n",
      "Row(question='REPORTED AGE IN FIVE-YEAR AGE CATEGORIES CALCULATED VARIABLE')\n",
      "None\n",
      "None\n",
      "--------------------\n",
      "_BMI5CAT\n",
      "Row(question='COMPUTED BODY MASS INDEX CATEGORIES')\n",
      "None\n",
      "None\n",
      "--------------------\n",
      "_MICHD\n",
      "Row(question='RESPONDENTS THAT HAVE EVER REPORTED HAVING CORONARY HEART DISEASE (CHD) OR MYOCARDIAL INFARCTION (MI)')\n",
      "None\n",
      "None\n",
      "--------------------\n",
      "EMPLOY1\n",
      "Row(question='EMPLOYMENT STATUS')\n",
      "Row(Question='Are you currently…?')\n",
      "Row(Responses='1=Employed for wages 2=Self-employed 3=Out of work for 1 year or more 4=Out of work for less than 1 year 5=A homemaker 6=A student 7=Retired 8=Unable to work 9=Refused')\n",
      "--------------------\n",
      "_RFHLTH\n",
      "Row(question='ADULTS WITH GOOD OR BETTER HEALTH')\n",
      "None\n",
      "None\n",
      "--------------------\n",
      "WTKG3\n",
      "Row(question='COMPUTED WEIGHT IN KILOGRAMS')\n",
      "None\n",
      "None\n",
      "--------------------\n",
      "DIFFWALK\n",
      "Row(question='DIFFICULTY WALKING OR CLIMBING STAIRS')\n",
      "Row(Question='Do you have serious difficulty walking or climbing stairs?')\n",
      "Row(Responses='1=Yes 2=No 7=Don’t know/Not Sure 9=Refused')\n",
      "--------------------\n",
      "_DRDXAR2\n",
      "Row(question='RESPONDENTS DIAGNOSED WITH ARTHRITIS')\n",
      "None\n",
      "None\n",
      "--------------------\n",
      "HAVARTH4\n",
      "Row(question='TOLD HAVE ARTHRITIS')\n",
      "Row(Question='(Ever told) (you had) some form of arthritis, rheumatoid arthritis, gout, lupus, or fibromyalgia?')\n",
      "Row(Responses='1=Yes 2=No 7=Don’t know/Not Sure 9=Refused')\n",
      "--------------------\n",
      "_HCVU651\n",
      "Row(question='RESPONDENTS AGED 18-64 WITH HEALTH CARE COVERAGE')\n",
      "None\n",
      "None\n",
      "--------------------\n",
      "_AGE65YR\n",
      "Row(question='REPORTED AGE IN TWO AGE GROUPS CALCULATED VARIABLE')\n",
      "None\n",
      "None\n",
      "--------------------\n",
      "_RFBMI5\n",
      "Row(question='OVERWEIGHT OR OBESE CALCULATED VARIABLE')\n",
      "None\n",
      "None\n",
      "--------------------\n",
      "_DRNKDRV\n",
      "Row(question='DRINKING AND DRIVING')\n",
      "None\n",
      "None\n",
      "--------------------\n",
      "ALCDAY5\n",
      "Row(question='DAYS IN PAST 30 HAD ALCOHOLIC BEVERAGE')\n",
      "Row(Question='During the past 30 days, how many days per week or per month did you have at least one drink of any alcoholic beverage such as beer, wine, a malt beverage or liquor?')\n",
      "Row(Responses='101-107=Days per week 201-230=Days in past 30 days 888=No drinks in past 30 days 777=Don’t know/Not sure 999=Refused')\n",
      "--------------------\n",
      "RMVTETH4\n",
      "Row(question='NUMBER OF PERMANENT TEETH REMOVED')\n",
      "Row(Question='Not including teeth lost for injury or orthodontics, how many of your permanent teeth have been removed because of tooth decay or gum disease?')\n",
      "Row(Responses='1=1 to 5 2=6 or more, but not all 3=All 8=None 7=Don’t know/Not sure 9=Refused')\n",
      "--------------------\n",
      "EXERANY2\n",
      "Row(question='EXERCISE IN PAST 30 DAYS')\n",
      "Row(Question='During the past month, other than your regular job, did you participate in any physical activities or exercises such as running, calisthenics, golf, gardening, or walking for exercise?')\n",
      "Row(Responses='1=Yes 2=No 7=Don’t know/Not Sure 9=Refused')\n",
      "--------------------\n",
      "CVDINFR4\n",
      "Row(question='EVER DIAGNOSED WITH HEART ATTACK')\n",
      "Row(Question='(Ever told) you had a heart attack, also called a myocardial infarction?')\n",
      "Row(Responses='1=Yes 2=No 7=Don’t know/Not sure 9=Refused')\n",
      "--------------------\n",
      "_TOTINDA\n",
      "Row(question='LEISURE TIME PHYSICAL ACTIVITY CALCULATED VARIABLE')\n",
      "None\n",
      "None\n",
      "--------------------\n",
      "CHECKUP1\n",
      "Row(question='LENGTH OF TIME SINCE LAST ROUTINE CHECKUP')\n",
      "Row(Question='About how long has it been since you last visited a doctor for a routine checkup?')\n",
      "Row(Responses='1=Within past year (anytime less than 12 months ago) 2=Within past 2 years (1 year but less than 2 years ago) 3=Within past 5 years (2 years but less than 5 years ago) 4=5 or more years ago 7=Don’t know/Not sure 8=Never 9=Refused')\n",
      "--------------------\n",
      "PNEUVAC4\n",
      "Row(question='PNEUMONIA SHOT EVER')\n",
      "Row(Question='Have you ever had a pneumonia shot also known as a pneumococcal vaccine?')\n",
      "Row(Responses='1=Yes 2=No 7=Don’t know/Not Sure 9=Refused')\n",
      "--------------------\n"
     ]
    }
   ],
   "source": [
    "for n in range(len(cols)-1):\n",
    "    print_feature_details(cols, n, print_counts=False)"
   ]
  },
  {
   "cell_type": "markdown",
   "id": "34b6deb1-760a-4723-bc7b-e62c41e25e1e",
   "metadata": {},
   "source": [
    "**After analyzing the variables and removing some highly correlated variables (some variables are calculated from others and are linearly dependent), here is the list that we left with:**\n",
    "- 'GENHLTH' - GENERAL HEALTH\n",
    "- '_AGE80' - IMPUTED AGE VALUE COLLAPSED ABOVE 80\n",
    "- '_BMI5' - COMPUTED BODY MASS INDEX\n",
    "- '_MICHD' - RESPONDENTS THAT HAVE EVER REPORTED HAVING CORONARY HEART DISEASE (CHD) OR MYOCARDIAL INFARCTION (MI)\n",
    "- 'EMPLOY1' - EMPLOYMENT STATUS\n",
    "- 'DIFFWALK' - DIFFICULTY WALKING OR CLIMBING STAIRS\n",
    "- '_DRDXAR2' - RESPONDENTS DIAGNOSED WITH ARTHRITIS\n",
    "- 'ALCDAY5' - DAYS IN PAST 30 HAD ALCOHOLIC BEVERAGE\n",
    "- 'RMVTETH4' - NUMBER OF PERMANENT TEETH REMOVED\n",
    "- 'EXERANY2' - EXERCISE IN PAST 30 DAYS\n",
    "- 'CHECKUP1' - LENGTH OF TIME SINCE LAST ROUTINE CHECKUP\n",
    "- 'PNEUVAC4' - PNEUMONIA SHOT EVER\n",
    "- 'DIABETE4 (label)' - (EVER TOLD) YOU HAD DIABETES"
   ]
  },
  {
   "cell_type": "code",
   "execution_count": 13,
   "id": "afb7494a-a3f7-44e6-be1d-75526ffc9f8c",
   "metadata": {},
   "outputs": [],
   "source": [
    "cols_final = [\n",
    "    'GENHLTH',\n",
    "    '_AGE80',\n",
    "    '_BMI5',\n",
    "    '_MICHD',\n",
    "    'EMPLOY1',\n",
    "    'DIFFWALK',\n",
    "    '_DRDXAR2',\n",
    "    'ALCDAY5',\n",
    "    'RMVTETH4',\n",
    "    'EXERANY2',\n",
    "    'CHECKUP1',\n",
    "    'PNEUVAC4',\n",
    "    'label'\n",
    "]\n",
    "\n",
    "df_features_transformation = df_features_transformation[cols_final]"
   ]
  },
  {
   "cell_type": "markdown",
   "id": "1b709d08-f586-4410-9163-90844027fca2",
   "metadata": {},
   "source": [
    "#### Let's go through features one-by-one"
   ]
  },
  {
   "cell_type": "code",
   "execution_count": 14,
   "id": "4edc5c8e-bcc4-4370-a388-ea79268065a7",
   "metadata": {},
   "outputs": [
    {
     "name": "stdout",
     "output_type": "stream",
     "text": [
      "GENHLTH\n",
      "Row(question='GENERAL HEALTH')\n",
      "Row(Question='Would you say that in general your health is:')\n",
      "Row(Responses='1=Excellent 2=Very good 3=Good 4=Fair 5=Poor 7=Don’t know/Not Sure 9=Refused')\n"
     ]
    },
    {
     "name": "stderr",
     "output_type": "stream",
     "text": [
      "[Stage 939:>                                                        (0 + 4) / 4]\r"
     ]
    },
    {
     "name": "stdout",
     "output_type": "stream",
     "text": [
      "+-------+------+\n",
      "|GENHLTH| count|\n",
      "+-------+------+\n",
      "|      1| 65113|\n",
      "|      3| 92038|\n",
      "|      5| 11933|\n",
      "|      9|   160|\n",
      "|      4| 34981|\n",
      "|      7|   407|\n",
      "|      2|112440|\n",
      "+-------+------+\n",
      "\n"
     ]
    },
    {
     "name": "stderr",
     "output_type": "stream",
     "text": [
      "                                                                                \r"
     ]
    }
   ],
   "source": [
    "n=0\n",
    "print_feature_details(cols_final, n)"
   ]
  },
  {
   "cell_type": "markdown",
   "id": "e6b9406c-9178-4961-a63c-9fb1831d76c1",
   "metadata": {},
   "source": [
    "**Transformation actions:**  \n",
    "_1. Remove answers 9_  \n",
    "_2. Apply one-hot encoding to this feature_"
   ]
  },
  {
   "cell_type": "code",
   "execution_count": 15,
   "id": "aeadac9e-3190-4763-8c28-d13653b94424",
   "metadata": {},
   "outputs": [],
   "source": [
    "df_features_transformation = df_features_transformation.filter(df_features_transformation['GENHLTH']!=9)"
   ]
  },
  {
   "cell_type": "code",
   "execution_count": 16,
   "id": "dd40d120-fac7-4f2d-827b-fd748e703baf",
   "metadata": {},
   "outputs": [
    {
     "name": "stdout",
     "output_type": "stream",
     "text": [
      "_AGE80\n",
      "Row(question='IMPUTED AGE VALUE COLLAPSED ABOVE 80')\n",
      "None\n",
      "None\n"
     ]
    },
    {
     "name": "stderr",
     "output_type": "stream",
     "text": [
      "[Stage 945:>                                                        (0 + 4) / 4]\r"
     ]
    },
    {
     "name": "stdout",
     "output_type": "stream",
     "text": [
      "+------+-----+\n",
      "|_AGE80|count|\n",
      "+------+-----+\n",
      "|    31| 3241|\n",
      "|    65| 7524|\n",
      "|    53| 4857|\n",
      "|    78| 4036|\n",
      "|    34| 3652|\n",
      "|    28| 3415|\n",
      "|    76| 4456|\n",
      "|    27| 3235|\n",
      "|    26| 3056|\n",
      "|    44| 3636|\n",
      "|    22| 3092|\n",
      "|    47| 4094|\n",
      "|    52| 5104|\n",
      "|    40| 4625|\n",
      "|    20| 2816|\n",
      "|    57| 5700|\n",
      "|    54| 4868|\n",
      "|    48| 4400|\n",
      "|    19| 2831|\n",
      "|    64| 6626|\n",
      "+------+-----+\n",
      "only showing top 20 rows\n",
      "\n"
     ]
    },
    {
     "name": "stderr",
     "output_type": "stream",
     "text": [
      "                                                                                \r"
     ]
    }
   ],
   "source": [
    "n+=1\n",
    "print_feature_details(cols_final, n)"
   ]
  },
  {
   "cell_type": "markdown",
   "id": "30a233e9-5ebb-4050-a1c5-09275ca595cb",
   "metadata": {},
   "source": [
    "**Transformation actions:**  \n",
    "_Try one hot encoding_"
   ]
  },
  {
   "cell_type": "code",
   "execution_count": 17,
   "id": "2b76b612-efa6-4bdc-84fa-2d54b68b277a",
   "metadata": {},
   "outputs": [
    {
     "name": "stdout",
     "output_type": "stream",
     "text": [
      "_BMI5\n",
      "Row(question='COMPUTED BODY MASS INDEX')\n",
      "None\n",
      "None\n"
     ]
    },
    {
     "name": "stderr",
     "output_type": "stream",
     "text": [
      "[Stage 951:>                                                        (0 + 4) / 4]\r"
     ]
    },
    {
     "name": "stdout",
     "output_type": "stream",
     "text": [
      "+-----+-----+\n",
      "|_BMI5|count|\n",
      "+-----+-----+\n",
      "| 3175|  758|\n",
      "| 3918|    4|\n",
      "| 1829|  174|\n",
      "| 2366|   10|\n",
      "| 2866|   81|\n",
      "| 4101|   58|\n",
      "| 4519|  121|\n",
      "| 3749|   64|\n",
      "| 1645|   22|\n",
      "| 1959|   15|\n",
      "| 2122|   64|\n",
      "| 3794|   15|\n",
      "| 2142|    7|\n",
      "| 1591|    2|\n",
      "| 2659|    1|\n",
      "| 5300|    8|\n",
      "| 1580|    4|\n",
      "| 4818|    5|\n",
      "| 2387|  126|\n",
      "| 3475|  368|\n",
      "+-----+-----+\n",
      "only showing top 20 rows\n",
      "\n"
     ]
    },
    {
     "name": "stderr",
     "output_type": "stream",
     "text": [
      "                                                                                \r"
     ]
    }
   ],
   "source": [
    "n+=1\n",
    "print_feature_details(cols_final, n)"
   ]
  },
  {
   "cell_type": "markdown",
   "id": "60ac34c5-43ad-4901-8477-da91f865c7ce",
   "metadata": {},
   "source": [
    "**Transformation actions:**  \n",
    "_We'll just apply scaling_  \n",
    "_Look for outliers_"
   ]
  },
  {
   "cell_type": "code",
   "execution_count": 18,
   "id": "7f3dc339-1071-43e9-be7a-a53d83cafba5",
   "metadata": {},
   "outputs": [],
   "source": [
    "# remove outliers\n",
    "df_features_transformation = df_features_transformation.filter(df_features_transformation['_BMI5']<6000)"
   ]
  },
  {
   "cell_type": "code",
   "execution_count": 19,
   "id": "b19dfdf3-a6b1-417d-8ee2-898ad6511a68",
   "metadata": {},
   "outputs": [
    {
     "name": "stdout",
     "output_type": "stream",
     "text": [
      "_MICHD\n",
      "Row(question='RESPONDENTS THAT HAVE EVER REPORTED HAVING CORONARY HEART DISEASE (CHD) OR MYOCARDIAL INFARCTION (MI)')\n",
      "None\n",
      "None\n"
     ]
    },
    {
     "name": "stderr",
     "output_type": "stream",
     "text": [
      "[Stage 957:>                                                        (0 + 4) / 4]\r"
     ]
    },
    {
     "name": "stdout",
     "output_type": "stream",
     "text": [
      "+------+------+\n",
      "|_MICHD| count|\n",
      "+------+------+\n",
      "|     1| 27941|\n",
      "|     2|288525|\n",
      "+------+------+\n",
      "\n"
     ]
    },
    {
     "name": "stderr",
     "output_type": "stream",
     "text": [
      "                                                                                \r"
     ]
    }
   ],
   "source": [
    "n+=1\n",
    "print_feature_details(cols_final, n)"
   ]
  },
  {
   "cell_type": "markdown",
   "id": "f196f24f-d208-41d5-9904-fbcbef588aa5",
   "metadata": {},
   "source": [
    "**Transformation actions:**  \n",
    "_1. Replace 2 by 0_"
   ]
  },
  {
   "cell_type": "code",
   "execution_count": 20,
   "id": "c3e03b82-1a02-4c87-a954-955d4eb58379",
   "metadata": {},
   "outputs": [],
   "source": [
    "df_features_transformation = df_features_transformation.withColumn(\"_MICHD\", when(df_features_transformation[\"_MICHD\"] == 2, 0).otherwise(df_features_transformation[\"_MICHD\"]))\n",
    "\n",
    "# df_features_transformation.groupBy(df_features_transformation['_MICHD']).count().show()"
   ]
  },
  {
   "cell_type": "code",
   "execution_count": 21,
   "id": "f8df7543-5d77-46e5-8467-00cfd4439677",
   "metadata": {},
   "outputs": [
    {
     "name": "stdout",
     "output_type": "stream",
     "text": [
      "EMPLOY1\n",
      "Row(question='EMPLOYMENT STATUS')\n",
      "Row(Question='Are you currently…?')\n",
      "Row(Responses='1=Employed for wages 2=Self-employed 3=Out of work for 1 year or more 4=Out of work for less than 1 year 5=A homemaker 6=A student 7=Retired 8=Unable to work 9=Refused')\n"
     ]
    },
    {
     "name": "stderr",
     "output_type": "stream",
     "text": [
      "[Stage 963:>                                                        (0 + 4) / 4]\r"
     ]
    },
    {
     "name": "stdout",
     "output_type": "stream",
     "text": [
      "+-------+------+\n",
      "|EMPLOY1| count|\n",
      "+-------+------+\n",
      "|      1|132701|\n",
      "|      6|  8820|\n",
      "|      3|  5321|\n",
      "|      5| 12042|\n",
      "|      9|  1930|\n",
      "|      4| 12578|\n",
      "|      8| 19575|\n",
      "|      7| 95351|\n",
      "|      2| 28148|\n",
      "+-------+------+\n",
      "\n"
     ]
    },
    {
     "name": "stderr",
     "output_type": "stream",
     "text": [
      "                                                                                \r"
     ]
    }
   ],
   "source": [
    "n+=1\n",
    "print_feature_details(cols_final, n)"
   ]
  },
  {
   "cell_type": "markdown",
   "id": "37975b72-666a-466a-b3fe-70afc2dc6ffd",
   "metadata": {},
   "source": [
    "**Transformation actions:**   \n",
    "_1. Remove 9_"
   ]
  },
  {
   "cell_type": "code",
   "execution_count": 22,
   "id": "1d382bd3-a173-4cf8-a648-a7594a30fbd4",
   "metadata": {},
   "outputs": [],
   "source": [
    "df_features_transformation = df_features_transformation.filter(df_features_transformation['EMPLOY1']!=9)"
   ]
  },
  {
   "cell_type": "code",
   "execution_count": 23,
   "id": "7cb7bb16-5e1c-4fac-8f33-36e7e9789082",
   "metadata": {},
   "outputs": [
    {
     "name": "stdout",
     "output_type": "stream",
     "text": [
      "DIFFWALK\n",
      "Row(question='DIFFICULTY WALKING OR CLIMBING STAIRS')\n",
      "Row(Question='Do you have serious difficulty walking or climbing stairs?')\n",
      "Row(Responses='1=Yes 2=No 7=Don’t know/Not Sure 9=Refused')\n"
     ]
    },
    {
     "name": "stderr",
     "output_type": "stream",
     "text": [
      "[Stage 969:>                                                        (0 + 4) / 4]\r"
     ]
    },
    {
     "name": "stdout",
     "output_type": "stream",
     "text": [
      "+--------+------+\n",
      "|DIFFWALK| count|\n",
      "+--------+------+\n",
      "|       1| 45128|\n",
      "|       9|   112|\n",
      "|       7|   709|\n",
      "|       2|268587|\n",
      "+--------+------+\n",
      "\n"
     ]
    },
    {
     "name": "stderr",
     "output_type": "stream",
     "text": [
      "                                                                                \r"
     ]
    }
   ],
   "source": [
    "n+=1\n",
    "print_feature_details(cols_final, n)"
   ]
  },
  {
   "cell_type": "markdown",
   "id": "86a42836-fe82-4b1b-b40e-16cb3411516f",
   "metadata": {},
   "source": [
    "**Transformation actions:**   \n",
    "_1. Remove 9_"
   ]
  },
  {
   "cell_type": "code",
   "execution_count": 24,
   "id": "52da3f58-98cf-4d18-8994-00b76cbfdc20",
   "metadata": {},
   "outputs": [],
   "source": [
    "df_features_transformation = df_features_transformation.filter(df_features_transformation['DIFFWALK']!=9)"
   ]
  },
  {
   "cell_type": "code",
   "execution_count": 25,
   "id": "6a918036-5001-4467-bda1-a4e48d2c5652",
   "metadata": {},
   "outputs": [
    {
     "name": "stdout",
     "output_type": "stream",
     "text": [
      "_DRDXAR2\n",
      "Row(question='RESPONDENTS DIAGNOSED WITH ARTHRITIS')\n",
      "None\n",
      "None\n"
     ]
    },
    {
     "name": "stderr",
     "output_type": "stream",
     "text": [
      "[Stage 975:>                                                        (0 + 4) / 4]\r"
     ]
    },
    {
     "name": "stdout",
     "output_type": "stream",
     "text": [
      "+--------+------+\n",
      "|_DRDXAR2| count|\n",
      "+--------+------+\n",
      "|       1| 99442|\n",
      "|       2|214982|\n",
      "+--------+------+\n",
      "\n"
     ]
    },
    {
     "name": "stderr",
     "output_type": "stream",
     "text": [
      "                                                                                \r"
     ]
    }
   ],
   "source": [
    "n+=1\n",
    "print_feature_details(cols_final, n)"
   ]
  },
  {
   "cell_type": "markdown",
   "id": "de4abdd0-04e7-4039-9fd2-7743d196a046",
   "metadata": {},
   "source": [
    "**Transformation actions:**  \n",
    "_1. Replace 2 by 0_"
   ]
  },
  {
   "cell_type": "code",
   "execution_count": 26,
   "id": "c22b65b8-7e95-4df4-b594-2962626a5e27",
   "metadata": {},
   "outputs": [],
   "source": [
    "df_features_transformation = df_features_transformation.withColumn(\"_DRDXAR2\", when(df_features_transformation[\"_DRDXAR2\"] == 2, 0).otherwise(df_features_transformation[\"_DRDXAR2\"]))\n",
    "# df_features_transformation.groupBy(df_features_transformation['_DRDXAR2']).count().show()"
   ]
  },
  {
   "cell_type": "code",
   "execution_count": 27,
   "id": "cdc02042-2b8c-44f9-9a1d-cdd4dc9a37b5",
   "metadata": {},
   "outputs": [
    {
     "name": "stdout",
     "output_type": "stream",
     "text": [
      "ALCDAY5\n",
      "Row(question='DAYS IN PAST 30 HAD ALCOHOLIC BEVERAGE')\n",
      "Row(Question='During the past 30 days, how many days per week or per month did you have at least one drink of any alcoholic beverage such as beer, wine, a malt beverage or liquor?')\n",
      "Row(Responses='101-107=Days per week 201-230=Days in past 30 days 888=No drinks in past 30 days 777=Don’t know/Not sure 999=Refused')\n"
     ]
    },
    {
     "name": "stderr",
     "output_type": "stream",
     "text": [
      "[Stage 981:>                                                        (0 + 4) / 4]\r"
     ]
    },
    {
     "name": "stdout",
     "output_type": "stream",
     "text": [
      "+-------+-----+\n",
      "|ALCDAY5|count|\n",
      "+-------+-----+\n",
      "|    211|   51|\n",
      "|    101|13408|\n",
      "|    210| 7054|\n",
      "|    103| 7988|\n",
      "|    223|   78|\n",
      "|    222|  150|\n",
      "|    209|  216|\n",
      "|    230|13733|\n",
      "|    225| 2747|\n",
      "|    224|  155|\n",
      "|    206| 3242|\n",
      "|    777| 2532|\n",
      "|    212| 1558|\n",
      "|    218|  213|\n",
      "|    205| 8656|\n",
      "|    227|  232|\n",
      "|    207| 2298|\n",
      "|    202|17826|\n",
      "|    107| 5981|\n",
      "|    217|   90|\n",
      "+-------+-----+\n",
      "only showing top 20 rows\n",
      "\n"
     ]
    },
    {
     "name": "stderr",
     "output_type": "stream",
     "text": [
      "                                                                                \r"
     ]
    }
   ],
   "source": [
    "n+=1\n",
    "print_feature_details(cols_final, n)"
   ]
  },
  {
   "cell_type": "markdown",
   "id": "831cbbda-6ca4-46c3-8962-2f2bbb8b3cf3",
   "metadata": {},
   "source": [
    "**Transformation actions:**   \n",
    "_1. Remove 999_  \n",
    "_2. Replace 888 by 0_"
   ]
  },
  {
   "cell_type": "code",
   "execution_count": 28,
   "id": "3468fdf7-5550-4723-97ff-f96fd9733ac1",
   "metadata": {},
   "outputs": [],
   "source": [
    "df_features_transformation = df_features_transformation.filter(df_features_transformation['ALCDAY5']!=999)\n",
    "df_features_transformation = df_features_transformation.withColumn(\"ALCDAY5\", when(df_features_transformation[\"ALCDAY5\"] == 888, 0).otherwise(df_features_transformation[\"ALCDAY5\"]))\n",
    "# print_feature_details(cols_final, n)"
   ]
  },
  {
   "cell_type": "code",
   "execution_count": 29,
   "id": "821ff0eb-3937-4846-bafc-7420d325a0c3",
   "metadata": {},
   "outputs": [
    {
     "name": "stdout",
     "output_type": "stream",
     "text": [
      "RMVTETH4\n",
      "Row(question='NUMBER OF PERMANENT TEETH REMOVED')\n",
      "Row(Question='Not including teeth lost for injury or orthodontics, how many of your permanent teeth have been removed because of tooth decay or gum disease?')\n",
      "Row(Responses='1=1 to 5 2=6 or more, but not all 3=All 8=None 7=Don’t know/Not sure 9=Refused')\n"
     ]
    },
    {
     "name": "stderr",
     "output_type": "stream",
     "text": [
      "[Stage 987:>                                                        (0 + 4) / 4]\r"
     ]
    },
    {
     "name": "stdout",
     "output_type": "stream",
     "text": [
      "+--------+------+\n",
      "|RMVTETH4| count|\n",
      "+--------+------+\n",
      "|       1| 90164|\n",
      "|       3| 19432|\n",
      "|       9|   364|\n",
      "|       8|164706|\n",
      "|       7|  5821|\n",
      "|       2| 32998|\n",
      "+--------+------+\n",
      "\n"
     ]
    },
    {
     "name": "stderr",
     "output_type": "stream",
     "text": [
      "                                                                                \r"
     ]
    }
   ],
   "source": [
    "n+=1\n",
    "print_feature_details(cols_final, n)"
   ]
  },
  {
   "cell_type": "markdown",
   "id": "82da2839-d81d-49a3-ad24-e6458679766a",
   "metadata": {},
   "source": [
    "**Transformation actions:**   \n",
    "_1. Remove 9_  \n",
    "_2. Replace 8 by 0_"
   ]
  },
  {
   "cell_type": "code",
   "execution_count": 30,
   "id": "596df2ce-ae01-42d7-a568-cd35a0d80b56",
   "metadata": {},
   "outputs": [],
   "source": [
    "df_features_transformation = df_features_transformation.filter(df_features_transformation['RMVTETH4']!=9)\n",
    "df_features_transformation = df_features_transformation.withColumn(\"RMVTETH4\", when(df_features_transformation[\"RMVTETH4\"] == 8, 0).otherwise(df_features_transformation[\"RMVTETH4\"]))\n",
    "# print_feature_details(cols_final, n)"
   ]
  },
  {
   "cell_type": "code",
   "execution_count": 31,
   "id": "d5d63013-7862-4fad-80be-223a64c2067e",
   "metadata": {},
   "outputs": [
    {
     "name": "stdout",
     "output_type": "stream",
     "text": [
      "EXERANY2\n",
      "Row(question='EXERCISE IN PAST 30 DAYS')\n",
      "Row(Question='During the past month, other than your regular job, did you participate in any physical activities or exercises such as running, calisthenics, golf, gardening, or walking for exercise?')\n",
      "Row(Responses='1=Yes 2=No 7=Don’t know/Not Sure 9=Refused')\n"
     ]
    },
    {
     "name": "stderr",
     "output_type": "stream",
     "text": [
      "[Stage 993:>                                                        (0 + 4) / 4]\r"
     ]
    },
    {
     "name": "stdout",
     "output_type": "stream",
     "text": [
      "+--------+------+\n",
      "|EXERANY2| count|\n",
      "+--------+------+\n",
      "|       1|242555|\n",
      "|       9|    87|\n",
      "|       7|   302|\n",
      "|       2| 70177|\n",
      "+--------+------+\n",
      "\n"
     ]
    },
    {
     "name": "stderr",
     "output_type": "stream",
     "text": [
      "                                                                                \r"
     ]
    }
   ],
   "source": [
    "n+=1\n",
    "print_feature_details(cols_final, n)"
   ]
  },
  {
   "cell_type": "markdown",
   "id": "5ab9dd7b-33fc-4c47-8cf7-6659a4324b5d",
   "metadata": {},
   "source": [
    "**Transformation actions:**   \n",
    "_1. Remove 9_ "
   ]
  },
  {
   "cell_type": "code",
   "execution_count": 32,
   "id": "2b28b999-acd0-4adb-b669-4e838d2bb291",
   "metadata": {},
   "outputs": [],
   "source": [
    "df_features_transformation = df_features_transformation.filter(df_features_transformation['EXERANY2']!=9)"
   ]
  },
  {
   "cell_type": "code",
   "execution_count": 33,
   "id": "bac38d57-888e-4e18-95c6-a93086012113",
   "metadata": {},
   "outputs": [
    {
     "name": "stdout",
     "output_type": "stream",
     "text": [
      "CHECKUP1\n",
      "Row(question='LENGTH OF TIME SINCE LAST ROUTINE CHECKUP')\n",
      "Row(Question='About how long has it been since you last visited a doctor for a routine checkup?')\n",
      "Row(Responses='1=Within past year (anytime less than 12 months ago) 2=Within past 2 years (1 year but less than 2 years ago) 3=Within past 5 years (2 years but less than 5 years ago) 4=5 or more years ago 7=Don’t know/Not sure 8=Never 9=Refused')\n"
     ]
    },
    {
     "name": "stderr",
     "output_type": "stream",
     "text": [
      "[Stage 999:>                                                        (0 + 4) / 4]\r"
     ]
    },
    {
     "name": "stdout",
     "output_type": "stream",
     "text": [
      "+--------+------+\n",
      "|CHECKUP1| count|\n",
      "+--------+------+\n",
      "|       1|242338|\n",
      "|       3| 16221|\n",
      "|       9|   228|\n",
      "|       4| 14400|\n",
      "|       8|  1421|\n",
      "|       7|  2925|\n",
      "|       2| 35501|\n",
      "+--------+------+\n",
      "\n"
     ]
    },
    {
     "name": "stderr",
     "output_type": "stream",
     "text": [
      "                                                                                \r"
     ]
    }
   ],
   "source": [
    "n+=1\n",
    "print_feature_details(cols_final, n)"
   ]
  },
  {
   "cell_type": "markdown",
   "id": "1406fbb7-cfcc-46ef-8db2-8c8aa9e6f8e2",
   "metadata": {},
   "source": [
    "**Transformation actions:**   \n",
    "_1. Remove 9_  \n",
    "_2. Replace 8 by 0_"
   ]
  },
  {
   "cell_type": "code",
   "execution_count": 34,
   "id": "4fd38ccf-8791-4b93-867e-36b315176716",
   "metadata": {},
   "outputs": [],
   "source": [
    "df_features_transformation = df_features_transformation.filter(df_features_transformation['CHECKUP1']!=9)\n",
    "df_features_transformation = df_features_transformation.withColumn(\"CHECKUP1\", when(df_features_transformation[\"CHECKUP1\"] == 8, 0).otherwise(df_features_transformation[\"CHECKUP1\"]))\n",
    "# print_feature_details(cols_final, n)"
   ]
  },
  {
   "cell_type": "code",
   "execution_count": 35,
   "id": "dede5589-03e5-469e-b039-f6a6bcca5470",
   "metadata": {},
   "outputs": [
    {
     "name": "stdout",
     "output_type": "stream",
     "text": [
      "PNEUVAC4\n",
      "Row(question='PNEUMONIA SHOT EVER')\n",
      "Row(Question='Have you ever had a pneumonia shot also known as a pneumococcal vaccine?')\n",
      "Row(Responses='1=Yes 2=No 7=Don’t know/Not Sure 9=Refused')\n"
     ]
    },
    {
     "name": "stderr",
     "output_type": "stream",
     "text": [
      "[Stage 1005:>                                                       (0 + 4) / 4]\r"
     ]
    },
    {
     "name": "stdout",
     "output_type": "stream",
     "text": [
      "+--------+------+\n",
      "|PNEUVAC4| count|\n",
      "+--------+------+\n",
      "|       1|118534|\n",
      "|       9|   103|\n",
      "|       7| 25760|\n",
      "|       2|168409|\n",
      "+--------+------+\n",
      "\n"
     ]
    },
    {
     "name": "stderr",
     "output_type": "stream",
     "text": [
      "                                                                                \r"
     ]
    }
   ],
   "source": [
    "n+=1\n",
    "print_feature_details(cols_final, n)"
   ]
  },
  {
   "cell_type": "markdown",
   "id": "49ccee32-c20e-4248-b5ff-6394de098b72",
   "metadata": {},
   "source": [
    "**Transformation actions:**   \n",
    "_1. Remove 9_  "
   ]
  },
  {
   "cell_type": "code",
   "execution_count": 36,
   "id": "e3b0e964-81c9-40ee-aa26-8af2da6f8842",
   "metadata": {},
   "outputs": [],
   "source": [
    "df_features_transformation = df_features_transformation.filter(df_features_transformation['PNEUVAC4']!=9)"
   ]
  },
  {
   "cell_type": "code",
   "execution_count": 37,
   "id": "dc28bcad-edb0-49b0-9d73-14bdf18e5abf",
   "metadata": {},
   "outputs": [
    {
     "name": "stderr",
     "output_type": "stream",
     "text": [
      "                                                                                \r"
     ]
    },
    {
     "name": "stdout",
     "output_type": "stream",
     "text": [
      "+-----+------+\n",
      "|label| count|\n",
      "+-----+------+\n",
      "|    1| 41786|\n",
      "|    0|270917|\n",
      "+-----+------+\n",
      "\n"
     ]
    },
    {
     "name": "stderr",
     "output_type": "stream",
     "text": [
      "[Stage 1014:>                                                       (0 + 4) / 4]\r"
     ]
    },
    {
     "name": "stdout",
     "output_type": "stream",
     "text": [
      "+-----+-----+\n",
      "|label|count|\n",
      "+-----+-----+\n",
      "|    1|41786|\n",
      "|    0|41769|\n",
      "+-----+-----+\n",
      "\n"
     ]
    },
    {
     "name": "stderr",
     "output_type": "stream",
     "text": [
      "                                                                                \r"
     ]
    }
   ],
   "source": [
    "df_features_transformation.groupby('label').count().show()\n",
    "# df_features_transformation\n",
    "temp = df_features_transformation.sampleBy('label', fractions={1: 1, 0: 0.1541}, seed=42)\n",
    "temp.count()\n",
    "temp.groupby('label').count().show()\n",
    "df_features_transformation = temp"
   ]
  },
  {
   "cell_type": "code",
   "execution_count": 38,
   "id": "f1f6f9a4-c6a3-4b07-b2ef-888ba00c1a0e",
   "metadata": {},
   "outputs": [
    {
     "name": "stderr",
     "output_type": "stream",
     "text": [
      "[Stage 1017:>                                                       (0 + 4) / 4]\r"
     ]
    },
    {
     "name": "stdout",
     "output_type": "stream",
     "text": [
      "Final number of rows: 83555\n",
      "Final number of columns: 13\n"
     ]
    },
    {
     "name": "stderr",
     "output_type": "stream",
     "text": [
      "                                                                                \r"
     ]
    }
   ],
   "source": [
    "print('Final number of rows:',df_features_transformation.count())\n",
    "print('Final number of columns:',len(df_features_transformation.columns))"
   ]
  },
  {
   "cell_type": "markdown",
   "id": "face7b9f-683a-4157-95c9-5b9365d9771a",
   "metadata": {
    "tags": []
   },
   "source": [
    "### 3.4 Feature Transformation\n",
    "Scaling  \n",
    "Aggregation  \n",
    "Discretization  \n",
    "One-hot encoding  \n",
    "Dimensionality reduction  "
   ]
  },
  {
   "cell_type": "code",
   "execution_count": 39,
   "id": "61e5419a-f005-46bc-9ed3-e3d41202c98c",
   "metadata": {},
   "outputs": [],
   "source": [
    "# do backup for using with models, that don't require one-hot encoding and scaling\n",
    "df_features_transformation_backup = df_features_transformation"
   ]
  },
  {
   "cell_type": "markdown",
   "id": "eb6703f7-7d69-4411-b4bf-12ee51d7f8a8",
   "metadata": {},
   "source": [
    "#### One-hot encoding"
   ]
  },
  {
   "cell_type": "code",
   "execution_count": 47,
   "id": "505448bf-e0fa-4543-b73e-0844bee581ca",
   "metadata": {},
   "outputs": [
    {
     "name": "stderr",
     "output_type": "stream",
     "text": [
      "                                                                                \r"
     ]
    },
    {
     "name": "stdout",
     "output_type": "stream",
     "text": [
      "+------+-----+------+--------+-------+-----+-------------+-------------+-------------+-------------+-------------+-------------+-------------+\n",
      "|_AGE80|_BMI5|_MICHD|_DRDXAR2|ALCDAY5|label|   GENHLTH_OH|   EMPLOY1_OH|  DIFFWALK_OH|  RMVTETH4_OH|  EXERANY2_OH|  CHECKUP1_OH|  PNEUVAC4_OH|\n",
      "+------+-----+------+--------+-------+-----+-------------+-------------+-------------+-------------+-------------+-------------+-------------+\n",
      "|    56| 1660|     0|       1|      0|    1|(7,[2],[1.0])|(8,[4],[1.0])|(7,[2],[1.0])|(7,[2],[1.0])|(7,[1],[1.0])|(7,[4],[1.0])|(7,[2],[1.0])|\n",
      "+------+-----+------+--------+-------+-----+-------------+-------------+-------------+-------------+-------------+-------------+-------------+\n",
      "only showing top 1 row\n",
      "\n"
     ]
    }
   ],
   "source": [
    "# df_features_transformation = df_features_transformation_backup\n",
    "\n",
    "# columns to transform\n",
    "one_hot_cols_inp = ['GENHLTH', 'EMPLOY1', 'DIFFWALK', 'RMVTETH4', 'EXERANY2', 'CHECKUP1', 'PNEUVAC4']\n",
    "# transformed colums will have '_OH' suffix in the name\n",
    "one_hot_cols_outp = [x+'_OH' for x in one_hot_cols_inp]\n",
    "\n",
    "# do the transformation\n",
    "encoder = OneHotEncoder(\n",
    "    inputCols=one_hot_cols_inp,  \n",
    "    outputCols=one_hot_cols_outp\n",
    ")\n",
    "model = encoder.fit(df_features_transformation)\n",
    "df_features_transformation = model.transform(df_features_transformation)\n",
    "\n",
    "# drop original columns\n",
    "df_features_transformation = df_features_transformation.drop(*one_hot_cols_inp)\n",
    "\n",
    "df_features_transformation.show(1)"
   ]
  },
  {
   "cell_type": "markdown",
   "id": "1faa9aaa-2702-4717-8b1b-6dcddbfc4b75",
   "metadata": {},
   "source": [
    "#### Test/Training Data Splitting / Scaling / normalizing"
   ]
  },
  {
   "cell_type": "code",
   "execution_count": 48,
   "id": "27e138d1-3b58-4d57-80bb-4fc073d99e74",
   "metadata": {},
   "outputs": [
    {
     "name": "stderr",
     "output_type": "stream",
     "text": [
      "                                                                                \r"
     ]
    },
    {
     "name": "stdout",
     "output_type": "stream",
     "text": [
      "Training Dataset Count: 67034\n"
     ]
    },
    {
     "name": "stderr",
     "output_type": "stream",
     "text": [
      "                                                                                \r"
     ]
    },
    {
     "name": "stdout",
     "output_type": "stream",
     "text": [
      "Test Dataset Count: 16521\n"
     ]
    },
    {
     "name": "stderr",
     "output_type": "stream",
     "text": [
      "                                                                                \r"
     ]
    },
    {
     "name": "stdout",
     "output_type": "stream",
     "text": [
      "+------+-----+------+--------+-------+-----+-------------+-------------+-------------+-----------+-------------+-------------+-----------+--------------------+--------------------+--------------------+\n",
      "|_AGE80|_BMI5|_MICHD|_DRDXAR2|ALCDAY5|label|   GENHLTH_OH|   EMPLOY1_OH|  DIFFWALK_OH|RMVTETH4_OH|  EXERANY2_OH|  CHECKUP1_OH|PNEUVAC4_OH|   features_unscaled|     features_scaled|            features|\n",
      "+------+-----+------+--------+-------+-----+-------------+-------------+-------------+-----------+-------------+-------------+-----------+--------------------+--------------------+--------------------+\n",
      "|    18| 1481|     0|       0|      0|    0|(7,[4],[1.0])|(8,[6],[1.0])|(7,[2],[1.0])|  (7,[],[])|(7,[2],[1.0])|(7,[1],[1.0])|  (7,[],[])|(55,[0,1,9,18,22,...|[-2.4766451356534...|[-0.2697300683538...|\n",
      "+------+-----+------+--------+-------+-----+-------------+-------------+-------------+-----------+-------------+-------------+-----------+--------------------+--------------------+--------------------+\n",
      "only showing top 1 row\n",
      "\n"
     ]
    }
   ],
   "source": [
    "# assemble all features in vector\n",
    "col_feature_names = list(df_features_transformation.columns)\n",
    "col_feature_names.remove('label')\n",
    "vecAssembler = VectorAssembler(inputCols = col_feature_names, outputCol=\"features_unscaled\")\n",
    "df_features_transformation_unscaled = vecAssembler.transform(df_features_transformation)\n",
    "\n",
    "# Generalization: split to test and train dataframes\n",
    "train, test = df_features_transformation_unscaled.randomSplit([0.8, 0.2], seed=42)\n",
    "print(\"Training Dataset Count: \" + str(train.count()))\n",
    "print(\"Test Dataset Count: \" + str(test.count()))\n",
    "\n",
    "# scale data\n",
    "standardScaler = StandardScaler(inputCol='features_unscaled', outputCol='features_scaled', withMean=True, withStd=True)\n",
    "model = standardScaler.fit(train)\n",
    "scaled_train = model.transform(train)\n",
    "scaled_test= model.transform(test)\n",
    "\n",
    "# normalize data\n",
    "normalizer = Normalizer(p=2.0, inputCol='features_scaled', outputCol='features')\n",
    "scaled_train = normalizer.transform(scaled_train)\n",
    "scaled_test= normalizer.transform(scaled_test)\n",
    "\n",
    "scaled_train.show(1)"
   ]
  },
  {
   "cell_type": "markdown",
   "id": "08efb754-b7ce-44df-9a11-ba899bec9c24",
   "metadata": {
    "tags": []
   },
   "source": [
    "## 4. Modeling <a class=\"anchor\" id=\"modeling\"></a>"
   ]
  },
  {
   "cell_type": "markdown",
   "id": "20dad5a6-058f-48cb-839e-355343602b28",
   "metadata": {},
   "source": [
    "- The function for models evaluation"
   ]
  },
  {
   "cell_type": "code",
   "execution_count": 49,
   "id": "94957620-6f25-479f-9236-2c24ca6e3d83",
   "metadata": {
    "tags": []
   },
   "outputs": [],
   "source": [
    "def evaluate(model, predictions_df, label='', model_name=''):\n",
    "    \"\"\"\n",
    "    The function calculates the evaluation metrics for the models.\n",
    "    \n",
    "    :param Model Object model: - model object after fitting the data\n",
    "    :param DataFrame predictions_df - DataFrame with label and predicted values\n",
    "    :param str label - the name of column with labels\n",
    "    :param str model_name - name of the model for priting the title\n",
    "    :return: None\n",
    "    \"\"\"\n",
    "    #  replace 0s with 2, to get correct confusion matrix\n",
    "    preds_and_labels = predictions_df.select(['prediction',label])\n",
    "    preds_and_labels = preds_and_labels.withColumn(\"prediction\",when(preds_and_labels.prediction == 0,2).otherwise(1))\n",
    "    preds_and_labels = preds_and_labels.withColumn(label,when(preds_and_labels[label] == 0,2).otherwise(1))\n",
    "\n",
    "    # cast to float\n",
    "    preds_and_labels = preds_and_labels.select(['prediction',label]).withColumn(label, pyspark.sql.functions.col(label).cast(FloatType())).orderBy('prediction')\n",
    "    preds_and_labels = preds_and_labels.select(['prediction',label]).withColumn('prediction', pyspark.sql.functions.col('prediction').cast(FloatType())).orderBy('prediction')\n",
    "\n",
    "    pred_and_labels_rdd = preds_and_labels.rdd.map(tuple)\n",
    "    \n",
    "    metrics = MulticlassMetrics(pred_and_labels_rdd)\n",
    "    metrics.confusionMatrix().toArray()\n",
    "    \n",
    "    print(f\"Evaluation of {model_name}\")\n",
    "    print(\"accuracy:\",metrics.accuracy)\n",
    "    print(\"test error:\",(1 - metrics.accuracy))\n",
    "    print(\"precision:\",metrics.precision(2))\n",
    "    print(\"recall:\",metrics.recall(2))\n",
    "    print(\"\\n confusionMatrix:\\n\",metrics.confusionMatrix().toArray(),'\\n')\n",
    "\n",
    "\n",
    "    # print(\"truePositiveRate:\",metrics.truePositiveRate(1.0))\n",
    "    # print(\"falsePositiveRate:\",metrics.falsePositiveRate(1.0))\n",
    "    # print(\"trueNegativeRate:\",metrics.truePositiveRate(0.0))\n",
    "    # print(\"falseNegativeRate:\",metrics.falsePositiveRate(0.0))\n",
    "\n",
    "\n",
    "    print(\"fMeasure:\" ,metrics.fMeasure(2.0, 1.0))\n",
    "    # print(\"weightedFalsePositiveRate:\" ,metrics.weightedFalsePositiveRate)\n",
    "    # print(\"weightedPrecision:\" ,metrics.weightedPrecision)\n",
    "    # print(\"weightedRecall:\" ,metrics.weightedRecall)\n",
    "    # print(\"weightedFMeasure:\" ,metrics.weightedFMeasure(1.0))"
   ]
  },
  {
   "cell_type": "markdown",
   "id": "700a2c97-6499-4322-9617-ec43fcda6318",
   "metadata": {},
   "source": [
    "### 4.1 Classification: Logistic Regression  <a class=\"anchor\" id=\"log_reg\"></a>\n",
    "#### Tune Decision Tree Model:\n",
    "- Fit model to train data\n",
    "- Use KFold Cross Validation K=10\n",
    "- Iterate through different combinations of hyperparameters to find the best metric"
   ]
  },
  {
   "cell_type": "code",
   "execution_count": 72,
   "id": "16265cc8-232e-42cd-be33-6d62b35818cf",
   "metadata": {
    "tags": []
   },
   "outputs": [],
   "source": [
    "%%script false --no-raise-error\n",
    "\n",
    "%%time\n",
    "\n",
    "lr_model = LogisticRegression(featuresCol ='features',labelCol='label') \n",
    "\n",
    "# Sequence stages\n",
    "pipeline = Pipeline(stages=[lr_model])\n",
    "\n",
    "# Hyper parameter tuning\n",
    "lr_param_grid = ParamGridBuilder()\\\n",
    "            .addGrid(lr_model.elasticNetParam,[0.0, 0.5, 1.0])\\\n",
    "            .addGrid(lr_model.fitIntercept,[False, True])\\\n",
    "            .addGrid(lr_model.maxIter,[10, 30, 50, 1000])\\\n",
    "            .addGrid(lr_model.family, ['binomial']) \\\n",
    "            .addGrid(lr_model.regParam, [0.0001, 0.001, 0.1, 1.0, 2.0]) \\\n",
    "            .build()\n",
    "\n",
    "# Cross validation\n",
    "lr_cross_val = CrossValidator(estimator = pipeline,\n",
    "                         estimatorParamMaps = lr_param_grid,\n",
    "                         evaluator = BinaryClassificationEvaluator(),\n",
    "                         numFolds = 10)\n",
    "\n",
    "lr_fit_model = lr_cross_val.fit(scaled_train)\n",
    "\n",
    "# Best model params:\n",
    "best_params_idx = np.argmax(lr_fit_model.avgMetrics)\n",
    "print(f\"{lr_param_grid[best_params_idx]} \\nAVG Metric: {lr_fit_model.avgMetrics[best_params_idx]}\\n\")"
   ]
  },
  {
   "cell_type": "markdown",
   "id": "f9742af4-45bb-4451-bc33-c5aff5861657",
   "metadata": {},
   "source": [
    "**NOTE: THIS IS SAVED OUTPUT. RE-RUNNING THE CELL CAN TAKE HOURS:**\n",
    "\n",
    "{Param(parent='LogisticRegression_b52edbd3bc0f', name='elasticNetParam', doc='the ElasticNet mixing parameter, in range [0, 1]. For alpha = 0, the penalty is an L2 penalty. For alpha = 1, it is an L1 penalty.'): 1.0, Param(parent='LogisticRegression_b52edbd3bc0f', name='fitIntercept', doc='whether to fit an intercept term.'): False, Param(parent='LogisticRegression_b52edbd3bc0f', name='maxIter', doc='max number of iterations (>= 0).'): 30, Param(parent='LogisticRegression_b52edbd3bc0f', name='family', doc='The name of family which is a description of the label distribution to be used in the model. Supported options: auto, binomial, multinomial'): 'binomial', Param(parent='LogisticRegression_b52edbd3bc0f', name='regParam', doc='regularization parameter (>= 0).'): 0.0001} \n",
    "AVG Metric: 0.8267837084585531\n",
    "\n",
    "CPU times: user 26 s, sys: 15.3 s, total: 41.4 s\n",
    "Wall time: 45min 47s"
   ]
  },
  {
   "cell_type": "markdown",
   "id": "d821cd47-4f60-4c2a-ba15-b08d24a92ef9",
   "metadata": {},
   "source": [
    "#### Evaluate the model with unseen data and best hyperparameters combination"
   ]
  },
  {
   "cell_type": "code",
   "execution_count": 50,
   "id": "128f3a31-cd7b-4f95-a598-e61da8108b6b",
   "metadata": {},
   "outputs": [
    {
     "name": "stderr",
     "output_type": "stream",
     "text": [
      "                                                                                \r"
     ]
    },
    {
     "name": "stdout",
     "output_type": "stream",
     "text": [
      "Evaluation of Logistic Regression\n",
      "accuracy: 0.752678409297258\n",
      "test error: 0.24732159070274196\n",
      "precision: 0.7715395953369959\n",
      "recall: 0.7074579186632265\n",
      "\n",
      " confusionMatrix:\n",
      " [[6677. 1705.]\n",
      " [2381. 5758.]] \n",
      "\n",
      "fMeasure: 0.7381104986540187\n"
     ]
    }
   ],
   "source": [
    "best_lr_model = LogisticRegression(featuresCol ='features'\n",
    "                              ,labelCol='label',maxIter=30, regParam=0.0001, family= 'binomial'\n",
    "                              ,fitIntercept=False , elasticNetParam=1.0).fit(scaled_train)\n",
    "\n",
    "best_lr_test_preds = best_lr_model.transform(scaled_test)\n",
    "\n",
    "evaluate(best_lr_model, best_lr_test_preds, 'label', 'Logistic Regression')"
   ]
  },
  {
   "cell_type": "markdown",
   "id": "55abf313-8dbf-4fb7-9471-80bde493ad66",
   "metadata": {},
   "source": [
    "### 4.2 Classification: Linear SVM  <a class=\"anchor\" id=\"lsvm\"></a>\n",
    "#### Tune Linear SVM  Model:\n",
    "- Fit model to train data\n",
    "- Use KFold Cross Validation K=10\n",
    "- Iterate through different combinations of hyperparameters to find the best metric"
   ]
  },
  {
   "cell_type": "code",
   "execution_count": 71,
   "id": "4cab26f7-681a-4487-b070-39b0da8bb0ff",
   "metadata": {},
   "outputs": [],
   "source": [
    "%%script false --no-raise-error\n",
    "\n",
    "\n",
    "%%time\n",
    "lsvc_model = LinearSVC(featuresCol ='features',labelCol='label')\n",
    "\n",
    "# Sequence stages\n",
    "pipeline = Pipeline(stages=[lsvc_model])\n",
    "\n",
    "# Hyper parameter tuning\n",
    "lsvc_param_grid = ParamGridBuilder()\\\n",
    "            .addGrid(lsvc_model.threshold,[0.0,0.1, 0.2])\\\n",
    "            .addGrid(lsvc_model.aggregationDepth, [2,4,6])\\\n",
    "            .addGrid(lsvc_model.tol,[0.001, 0.1, 1.0])\\\n",
    "            .addGrid(lsvc_model.regParam, [0.0001, 0.001, 0.1, 1.0, 10.0]) \\\n",
    "            .addGrid(lsvc_model.fitIntercept,[False, True])\\\n",
    "            .addGrid(lsvc_model.maxIter,[100, 1000, 10000])\\\n",
    "            .build()\n",
    "\n",
    "# Cross validation\n",
    "lsvc_cross_val = CrossValidator(estimator = pipeline,\n",
    "                         estimatorParamMaps = lsvc_param_grid,\n",
    "                         evaluator = BinaryClassificationEvaluator(),\n",
    "                         numFolds = 10)\n",
    "\n",
    "lsvc_fit_model = lsvc_cross_val.fit(scaled_train)\n",
    "\n",
    "# Best model params:\n",
    "lsvc_best_params_idx = np.argmax(lsvc_fit_model.avgMetrics)\n",
    "print(f\"{lsvc_param_grid[lsvc_best_params_idx]} \\nAVG Metric: {lsvc_fit_model.avgMetrics[lsvc_best_params_idx]}\\n\")"
   ]
  },
  {
   "cell_type": "markdown",
   "id": "c48f80ce-7a10-4a18-830e-1b8ff0bde7b4",
   "metadata": {},
   "source": [
    "**NOTE: THIS IS SAVED OUTPUT. RE-RUNNING THE CELL CAN TAKE HOURS:**\n",
    "\n",
    "{Param(parent='LinearSVC_58ed1f58e665', name='threshold', doc='The threshold in binary classification applied to the linear model prediction.  This threshold can be any real number, where Inf will make all predictions 0.0 and -Inf will make all predictions 1.0.'): 0.0, Param(parent='LinearSVC_58ed1f58e665', name='aggregationDepth', doc='suggested depth for treeAggregate (>= 2).'): 6, Param(parent='LinearSVC_58ed1f58e665', name='tol', doc='the convergence tolerance for iterative algorithms (>= 0).'): 0.001, Param(parent='LinearSVC_58ed1f58e665', name='regParam', doc='regularization parameter (>= 0).'): 0.0001, Param(parent='LinearSVC_58ed1f58e665', name='fitIntercept', doc='whether to fit an intercept term.'): False, Param(parent='LinearSVC_58ed1f58e665', name='maxIter', doc='max number of iterations (>= 0).'): 1000} \n",
    "AVG Metric: 0.8259948979482298\n",
    "\n",
    "CPU times: user 2min 18s, sys: 1min 33s, total: 3min 52s\n",
    "Wall time: 2h 11s"
   ]
  },
  {
   "cell_type": "markdown",
   "id": "49e78614-84c9-41a5-9548-52ebf2d07139",
   "metadata": {},
   "source": [
    "#### Test with unseen data and best hyperparameters combination"
   ]
  },
  {
   "cell_type": "code",
   "execution_count": 51,
   "id": "67fdfd16-42df-4f0d-9f75-6da952f721a2",
   "metadata": {},
   "outputs": [
    {
     "name": "stderr",
     "output_type": "stream",
     "text": [
      "                                                                                \r"
     ]
    },
    {
     "name": "stdout",
     "output_type": "stream",
     "text": [
      "Evaluation of Linear SVM\n",
      "accuracy: 0.7520125900369227\n",
      "test error: 0.24798740996307733\n",
      "precision: 0.7716397849462365\n",
      "recall: 0.7053692099766556\n",
      "\n",
      " confusionMatrix:\n",
      " [[6683. 1699.]\n",
      " [2398. 5741.]] \n",
      "\n",
      "fMeasure: 0.7370177803453366\n"
     ]
    }
   ],
   "source": [
    "best_lsvc_model = LinearSVC(regParam=0.0001, threshold=0, aggregationDepth=6, tol=0.001,\n",
    "                           fitIntercept=False, maxIter=1000).fit(scaled_train)\n",
    "\n",
    "best_lsvc_predictions = best_lsvc_model.transform(scaled_test)\n",
    "\n",
    "evaluate(best_lsvc_model, best_lsvc_predictions, 'label', 'Linear SVM')"
   ]
  },
  {
   "cell_type": "code",
   "execution_count": 110,
   "id": "8e653598-679c-444e-bde5-d107e697c59b",
   "metadata": {},
   "outputs": [
    {
     "name": "stdout",
     "output_type": "stream",
     "text": [
      "root\n",
      " |-- _AGE80: integer (nullable = true)\n",
      " |-- _BMI5: integer (nullable = true)\n",
      " |-- _MICHD: integer (nullable = true)\n",
      " |-- _DRDXAR2: integer (nullable = true)\n",
      " |-- ALCDAY5: integer (nullable = true)\n",
      " |-- label: integer (nullable = true)\n",
      " |-- GENHLTH_OH: vector (nullable = true)\n",
      " |-- EMPLOY1_OH: vector (nullable = true)\n",
      " |-- DIFFWALK_OH: vector (nullable = true)\n",
      " |-- RMVTETH4_OH: vector (nullable = true)\n",
      " |-- EXERANY2_OH: vector (nullable = true)\n",
      " |-- CHECKUP1_OH: vector (nullable = true)\n",
      " |-- PNEUVAC4_OH: vector (nullable = true)\n",
      " |-- features_unscaled: vector (nullable = true)\n",
      " |-- features_scaled: vector (nullable = true)\n",
      " |-- features: vector (nullable = true)\n",
      " |-- rawPrediction: vector (nullable = true)\n",
      " |-- prediction: double (nullable = false)\n",
      "\n"
     ]
    },
    {
     "name": "stderr",
     "output_type": "stream",
     "text": [
      "                                                                                \r"
     ]
    }
   ],
   "source": [
    "best_lsvc_predictions.printSchema()"
   ]
  },
  {
   "cell_type": "markdown",
   "id": "6f3521b7-3f3b-4746-a8bc-fdda56146142",
   "metadata": {},
   "source": [
    "### 4.3 Classification: Decision Tree  <a class=\"anchor\" id=\"dtree\"></a>"
   ]
  },
  {
   "cell_type": "markdown",
   "id": "1246fac0-85b4-4f64-974e-24f4d79e63c3",
   "metadata": {},
   "source": [
    "#### Tune Decision Tree Model:\n",
    "- Fit model to train data\n",
    "- Use KFold Cross Validation K=10\n",
    "- Iterate through different combinations of hyperparameters to find the best metric"
   ]
  },
  {
   "cell_type": "code",
   "execution_count": 70,
   "id": "ded7d7da-5972-472d-ab3e-2289bc17fcc1",
   "metadata": {},
   "outputs": [],
   "source": [
    "%%script false --no-raise-error\n",
    "\n",
    "%%time\n",
    "\n",
    "# make backup of data for many cycles of running\n",
    "df_features_transformation_backup1 = df_features_transformation_backup\n",
    "data = df_features_transformation_backup1\n",
    "\n",
    "# -----------------------------------------------\n",
    "\n",
    "# assemble all features in vector\n",
    "col_feature_names = list(data.columns)\n",
    "col_feature_names.remove('label')\n",
    "vec_assembler = VectorAssembler(inputCols = col_feature_names, outputCol=\"features\")\n",
    "data = vec_assembler.transform(data)\n",
    "\n",
    "# to recognize categorical features\n",
    "feature_indexer = VectorIndexer(inputCol=\"features\", outputCol=\"indexedFeatures\", maxCategories=10)\n",
    "data = feature_indexer.fit(data).transform(data)\n",
    "\n",
    "# drop features columns\n",
    "data = data.drop(*col_feature_names, 'features')\n",
    "\n",
    "# Split the data\n",
    "(train_data, test_data) = data.randomSplit([0.8, 0.2], seed=42)\n",
    "\n",
    "# -----------------------------------------------\n",
    "\n",
    "# base model\n",
    "dt_model = DecisionTreeClassifier(labelCol=\"label\", featuresCol=\"indexedFeatures\")\n",
    "\n",
    "# Sequence stages\n",
    "# pipeline = Pipeline(stages=[dt])\n",
    "\n",
    "'''\n",
    "class pyspark.ml.classification.DecisionTreeClassifier(*, featuresCol='features', labelCol='label', predictionCol='prediction', probabilityCol='probability', \n",
    "rawPredictionCol='rawPrediction', maxDepth=5, maxBins=32, minInstancesPerNode=1, minInfoGain=0.0, maxMemoryInMB=256, cacheNodeIds=False, \n",
    "checkpointInterval=10, impurity='gini', seed=None, weightCol=None, leafCol='', minWeightFractionPerNode=0.0)[source]\n",
    "'''\n",
    "\n",
    "# create combinations of hyperparameters\n",
    "dt_param_grid = ParamGridBuilder()\\\n",
    "            .addGrid(dt_model.maxBins,[8, 16, 32, 64])\\\n",
    "            .addGrid(dt_model.minInstancesPerNode,[10, 100, 200, 500])\\\n",
    "            .build()\n",
    "\n",
    "# cross validation\n",
    "dt_cross_val = CrossValidator(estimator = dt_model,\n",
    "                         estimatorParamMaps = dt_param_grid,\n",
    "                         evaluator = BinaryClassificationEvaluator(),\n",
    "                         # evaluator = MulticlassClassificationEvaluator(),\n",
    "                         numFolds = 10)\n",
    "\n",
    "# run the model selection\n",
    "cv_model = dt_cross_val.fit(train_data)\n",
    "\n",
    "# Best model params:\n",
    "best_params_idx = np.argmax(cv_model.avgMetrics)\n",
    "print(f\"{dt_param_grid[best_params_idx]} \\nAVG Metric: {cv_model.avgMetrics[best_params_idx]}\\n\")"
   ]
  },
  {
   "cell_type": "markdown",
   "id": "cb9612cc-9353-4371-9d2b-a33c548244f4",
   "metadata": {},
   "source": [
    "**NOTE: THIS IS SAVED OUTPUT. RE-RUNNING THE CELL CAN TAKE HOURS:**\n",
    "\n",
    "\n",
    "{Param(parent='DecisionTreeClassifier_4ee9c31e61a2', name='maxDepth', doc='Maximum depth of the tree. (>= 0) E.g., depth 0 means 1 leaf node; depth 1 means 1 internal node + 2 leaf nodes. Must be in range [0, 30].'): 5, Param(parent='DecisionTreeClassifier_4ee9c31e61a2', name='maxBins', doc='Max number of bins for discretizing continuous features.  Must be >=2 and >= number of categories for any categorical feature.'): 64, Param(parent='DecisionTreeClassifier_4ee9c31e61a2', name='minInstancesPerNode', doc='Minimum number of instances each child must have after split. If a split causes the left or right child to have fewer than minInstancesPerNode, the split will be discarded as invalid. Should be >= 1.'): 100} \n",
    "AVG Metric: 0.7526668075497813\n",
    "\n",
    "CPU times: user 8.68 s, sys: 6.62 s, total: 15.3 s\n",
    "Wall time: 5min 30s\n",
    "\n",
    "_With no max_depth_\n",
    "\n",
    "{Param(parent='DecisionTreeClassifier_91e3cd4fba8c', name='maxBins', doc='Max number of bins for discretizing continuous features.  Must be >=2 and >= number of categories for any categorical feature.'): 64, Param(parent='DecisionTreeClassifier_91e3cd4fba8c', name='minInstancesPerNode', doc='Minimum number of instances each child must have after split. If a split causes the left or right child to have fewer than minInstancesPerNode, the split will be discarded as invalid. Should be >= 1.'): 100} \n",
    "AVG Metric: 0.7526668075497813\n",
    "\n",
    "CPU times: user 2.99 s, sys: 2.23 s, total: 5.22 s\n",
    "Wall time: 1min 38s"
   ]
  },
  {
   "cell_type": "markdown",
   "id": "a30bcd2d-09d1-451f-87e4-a6ee2f835621",
   "metadata": {},
   "source": [
    "#### Test with unseen data and best hyperparameters combination"
   ]
  },
  {
   "cell_type": "code",
   "execution_count": 101,
   "id": "eeab9644-8ddc-4feb-8d23-34ffffa76be2",
   "metadata": {},
   "outputs": [
    {
     "name": "stderr",
     "output_type": "stream",
     "text": [
      "                                                                                \r"
     ]
    },
    {
     "name": "stdout",
     "output_type": "stream",
     "text": [
      "Evaluation of Decision Tree\n",
      "accuracy: 0.7416621269898916\n",
      "test error: 0.25833787301010835\n",
      "precision: 0.7573238321456849\n",
      "recall: 0.7026199804113614\n",
      "\n",
      " confusionMatrix:\n",
      " [[6514. 1839.]\n",
      " [2429. 5739.]] \n",
      "\n",
      "fMeasure: 0.7289470341674076\n"
     ]
    }
   ],
   "source": [
    "# Train a model with the best parameters\n",
    "# Note: manually found, that max_depth=15 increseases the accuracy and f-score.\n",
    "best_dtree_model = DecisionTreeClassifier(labelCol=\"label\", featuresCol=\"indexedFeatures\", maxDepth=15, maxBins=64, minInstancesPerNode=100).fit(train_data)\n",
    "\n",
    "# Make predictions.\n",
    "best_dtree_predictions = best_dtree_model.transform(test_data)\n",
    "\n",
    "# evaluate\n",
    "evaluate(best_dtree_model, best_dtree_predictions, 'label', 'Decision Tree')"
   ]
  },
  {
   "cell_type": "markdown",
   "id": "8bea687d-8d82-4f65-a36e-ce708629e68a",
   "metadata": {},
   "source": [
    "### 4.4 Gradient Boosted Tree Classifier\n",
    "#### Tune GBT Model:\n",
    "- Fit model to train data\n",
    "- Use KFold Cross Validation K=10\n",
    "- Iterate through different combinations of hyperparameters to find the best metric"
   ]
  },
  {
   "cell_type": "code",
   "execution_count": 40,
   "id": "46b8fc72-937a-4ec5-9f86-cb0ae1a4d561",
   "metadata": {},
   "outputs": [
    {
     "name": "stderr",
     "output_type": "stream",
     "text": [
      "                                                                                \r"
     ]
    },
    {
     "ename": "KeyboardInterrupt",
     "evalue": "",
     "output_type": "error",
     "traceback": [
      "\u001b[0;31m---------------------------------------------------------------------------\u001b[0m",
      "\u001b[0;31mIndexError\u001b[0m                                Traceback (most recent call last)",
      "File \u001b[0;32m/usr/lib/python3.8/multiprocessing/pool.py:851\u001b[0m, in \u001b[0;36mIMapIterator.next\u001b[0;34m(self, timeout)\u001b[0m\n\u001b[1;32m    850\u001b[0m \u001b[38;5;28;01mtry\u001b[39;00m:\n\u001b[0;32m--> 851\u001b[0m     item \u001b[38;5;241m=\u001b[39m \u001b[38;5;28;43mself\u001b[39;49m\u001b[38;5;241;43m.\u001b[39;49m\u001b[43m_items\u001b[49m\u001b[38;5;241;43m.\u001b[39;49m\u001b[43mpopleft\u001b[49m\u001b[43m(\u001b[49m\u001b[43m)\u001b[49m\n\u001b[1;32m    852\u001b[0m \u001b[38;5;28;01mexcept\u001b[39;00m \u001b[38;5;167;01mIndexError\u001b[39;00m:\n",
      "\u001b[0;31mIndexError\u001b[0m: pop from an empty deque",
      "\nDuring handling of the above exception, another exception occurred:\n",
      "\u001b[0;31mKeyboardInterrupt\u001b[0m                         Traceback (most recent call last)",
      "File \u001b[0;32m<timed exec>:54\u001b[0m, in \u001b[0;36m<module>\u001b[0;34m\u001b[0m\n",
      "File \u001b[0;32m/usr/local/lib/python3.8/dist-packages/pyspark/ml/base.py:161\u001b[0m, in \u001b[0;36mEstimator.fit\u001b[0;34m(self, dataset, params)\u001b[0m\n\u001b[1;32m    159\u001b[0m         \u001b[38;5;28;01mreturn\u001b[39;00m \u001b[38;5;28mself\u001b[39m\u001b[38;5;241m.\u001b[39mcopy(params)\u001b[38;5;241m.\u001b[39m_fit(dataset)\n\u001b[1;32m    160\u001b[0m     \u001b[38;5;28;01melse\u001b[39;00m:\n\u001b[0;32m--> 161\u001b[0m         \u001b[38;5;28;01mreturn\u001b[39;00m \u001b[38;5;28;43mself\u001b[39;49m\u001b[38;5;241;43m.\u001b[39;49m\u001b[43m_fit\u001b[49m\u001b[43m(\u001b[49m\u001b[43mdataset\u001b[49m\u001b[43m)\u001b[49m\n\u001b[1;32m    162\u001b[0m \u001b[38;5;28;01melse\u001b[39;00m:\n\u001b[1;32m    163\u001b[0m     \u001b[38;5;28;01mraise\u001b[39;00m \u001b[38;5;167;01mTypeError\u001b[39;00m(\u001b[38;5;124m\"\u001b[39m\u001b[38;5;124mParams must be either a param map or a list/tuple of param maps, \u001b[39m\u001b[38;5;124m\"\u001b[39m\n\u001b[1;32m    164\u001b[0m                     \u001b[38;5;124m\"\u001b[39m\u001b[38;5;124mbut got \u001b[39m\u001b[38;5;132;01m%s\u001b[39;00m\u001b[38;5;124m.\u001b[39m\u001b[38;5;124m\"\u001b[39m \u001b[38;5;241m%\u001b[39m \u001b[38;5;28mtype\u001b[39m(params))\n",
      "File \u001b[0;32m/usr/local/lib/python3.8/dist-packages/pyspark/ml/tuning.py:689\u001b[0m, in \u001b[0;36mCrossValidator._fit\u001b[0;34m(self, dataset)\u001b[0m\n\u001b[1;32m    684\u001b[0m train \u001b[38;5;241m=\u001b[39m datasets[i][\u001b[38;5;241m0\u001b[39m]\u001b[38;5;241m.\u001b[39mcache()\n\u001b[1;32m    686\u001b[0m tasks \u001b[38;5;241m=\u001b[39m \u001b[38;5;28mmap\u001b[39m(\n\u001b[1;32m    687\u001b[0m     inheritable_thread_target,\n\u001b[1;32m    688\u001b[0m     _parallelFitTasks(est, train, eva, validation, epm, collectSubModelsParam))\n\u001b[0;32m--> 689\u001b[0m \u001b[38;5;28;01mfor\u001b[39;00m j, metric, subModel \u001b[38;5;129;01min\u001b[39;00m pool\u001b[38;5;241m.\u001b[39mimap_unordered(\u001b[38;5;28;01mlambda\u001b[39;00m f: f(), tasks):\n\u001b[1;32m    690\u001b[0m     metrics[j] \u001b[38;5;241m+\u001b[39m\u001b[38;5;241m=\u001b[39m (metric \u001b[38;5;241m/\u001b[39m nFolds)\n\u001b[1;32m    691\u001b[0m     \u001b[38;5;28;01mif\u001b[39;00m collectSubModelsParam:\n",
      "File \u001b[0;32m/usr/lib/python3.8/multiprocessing/pool.py:856\u001b[0m, in \u001b[0;36mIMapIterator.next\u001b[0;34m(self, timeout)\u001b[0m\n\u001b[1;32m    854\u001b[0m     \u001b[38;5;28mself\u001b[39m\u001b[38;5;241m.\u001b[39m_pool \u001b[38;5;241m=\u001b[39m \u001b[38;5;28;01mNone\u001b[39;00m\n\u001b[1;32m    855\u001b[0m     \u001b[38;5;28;01mraise\u001b[39;00m \u001b[38;5;167;01mStopIteration\u001b[39;00m \u001b[38;5;28;01mfrom\u001b[39;00m \u001b[38;5;28mNone\u001b[39m\n\u001b[0;32m--> 856\u001b[0m \u001b[38;5;28;43mself\u001b[39;49m\u001b[38;5;241;43m.\u001b[39;49m\u001b[43m_cond\u001b[49m\u001b[38;5;241;43m.\u001b[39;49m\u001b[43mwait\u001b[49m\u001b[43m(\u001b[49m\u001b[43mtimeout\u001b[49m\u001b[43m)\u001b[49m\n\u001b[1;32m    857\u001b[0m \u001b[38;5;28;01mtry\u001b[39;00m:\n\u001b[1;32m    858\u001b[0m     item \u001b[38;5;241m=\u001b[39m \u001b[38;5;28mself\u001b[39m\u001b[38;5;241m.\u001b[39m_items\u001b[38;5;241m.\u001b[39mpopleft()\n",
      "File \u001b[0;32m/usr/lib/python3.8/threading.py:302\u001b[0m, in \u001b[0;36mCondition.wait\u001b[0;34m(self, timeout)\u001b[0m\n\u001b[1;32m    300\u001b[0m \u001b[38;5;28;01mtry\u001b[39;00m:    \u001b[38;5;66;03m# restore state no matter what (e.g., KeyboardInterrupt)\u001b[39;00m\n\u001b[1;32m    301\u001b[0m     \u001b[38;5;28;01mif\u001b[39;00m timeout \u001b[38;5;129;01mis\u001b[39;00m \u001b[38;5;28;01mNone\u001b[39;00m:\n\u001b[0;32m--> 302\u001b[0m         \u001b[43mwaiter\u001b[49m\u001b[38;5;241;43m.\u001b[39;49m\u001b[43macquire\u001b[49m\u001b[43m(\u001b[49m\u001b[43m)\u001b[49m\n\u001b[1;32m    303\u001b[0m         gotit \u001b[38;5;241m=\u001b[39m \u001b[38;5;28;01mTrue\u001b[39;00m\n\u001b[1;32m    304\u001b[0m     \u001b[38;5;28;01melse\u001b[39;00m:\n",
      "\u001b[0;31mKeyboardInterrupt\u001b[0m: "
     ]
    }
   ],
   "source": [
    "%%time\n",
    "\n",
    "df_features_transformation_backup1 = df_features_transformation_backup\n",
    "data = df_features_transformation_backup1\n",
    "\n",
    "# -----------------------------------------------\n",
    "\n",
    "# assemble all features in vector\n",
    "col_feature_names = list(data.columns)\n",
    "col_feature_names.remove('label')\n",
    "vecAssembler = VectorAssembler(inputCols = col_feature_names, outputCol=\"features\")\n",
    "data = vecAssembler.transform(data)\n",
    "\n",
    "# Index labels\n",
    "featureIndexer = VectorIndexer(inputCol=\"features\", outputCol=\"indexedFeatures\", maxCategories=10)\n",
    "data = featureIndexer.fit(data).transform(data)\n",
    "\n",
    "# drop features columns\n",
    "data = data.drop(*col_feature_names, 'features')\n",
    "\n",
    "# Split the data\n",
    "(train_data, test_data) = data.randomSplit([0.8, 0.2], seed=42)\n",
    "\n",
    "# -----------------------------------------------\n",
    "\n",
    "# Train a GBT model.\n",
    "gbt_model = GBTClassifier(labelCol=\"label\", featuresCol=\"indexedFeatures\")\n",
    "\n",
    "# # Chain indexers and GBT in a Pipeline\n",
    "# pipeline = Pipeline(stages=[featureIndexer, gbt])\n",
    "\n",
    "\n",
    "'''\n",
    "class pyspark.ml.classification.GBTClassifier(*, featuresCol='features', labelCol='label', predictionCol='prediction', maxDepth=5, maxBins=32, \n",
    "minInstancesPerNode=1, minInfoGain=0.0, maxMemoryInMB=256, cacheNodeIds=False, checkpointInterval=10, lossType='logistic', maxIter=20, stepSize=0.1, seed=None, \n",
    "subsamplingRate=1.0, impurity='variance', featureSubsetStrategy='all', validationTol=0.01, validationIndicatorCol=None, leafCol='', \n",
    "minWeightFractionPerNode=0.0, weightCol=None)[source]\n",
    "'''\n",
    "\n",
    "# create combinations of hyperparameters\n",
    "param_grid = ParamGridBuilder()\\\n",
    "            .addGrid(gbt_model.maxDepth,[5, 10, 30])\\\n",
    "            .addGrid(gbt_model.maxIter,[5, 10, 50, 100])\\\n",
    "            .addGrid(gbt_model.maxBins,[8, 16, 32, 64])\\\n",
    "            .addGrid(gbt_model.minInstancesPerNode,[10, 100, 200, 500])\\\n",
    "            .build()\n",
    "\n",
    "# cross validation\n",
    "gbt_cross_val = CrossValidator(estimator = gbt_model,\n",
    "                         estimatorParamMaps = param_grid,\n",
    "                         evaluator = BinaryClassificationEvaluator(),\n",
    "                         # evaluator = MulticlassClassificationEvaluator(),\n",
    "                         numFolds = 10)\n",
    "\n",
    "# run the model selection\n",
    "cv_model = gbt_cross_val.fit(train_data)\n",
    "\n",
    "# Best model params:\n",
    "best_params_idx = np.argmax(cv_model.avgMetrics)\n",
    "print(f\"{param_grid[best_params_idx]} \\nAVG Metric: {cv_model.avgMetrics[best_params_idx]}\\n\")"
   ]
  },
  {
   "cell_type": "markdown",
   "id": "f504f7b2-9683-4d66-839a-9cbdd0f28bd9",
   "metadata": {},
   "source": [
    "#### Test with unseen data and best hyperparameters combination"
   ]
  },
  {
   "cell_type": "code",
   "execution_count": 58,
   "id": "202a50f6-3815-4c97-99db-4427b42b6c9a",
   "metadata": {},
   "outputs": [
    {
     "name": "stderr",
     "output_type": "stream",
     "text": [
      "                                                                                \r"
     ]
    },
    {
     "name": "stdout",
     "output_type": "stream",
     "text": [
      "Evaluation of GBT Classifier\n",
      "accuracy: 0.7451728103625689\n",
      "test error: 0.2548271896374311\n",
      "precision: 0.765994623655914\n",
      "recall: 0.6977228207639569\n",
      "\n",
      " confusionMatrix:\n",
      " [[6612. 1741.]\n",
      " [2469. 5699.]] \n",
      "\n",
      "fMeasure: 0.7302665299846233\n"
     ]
    }
   ],
   "source": [
    "# Train a model with the best parameters\n",
    "best_gbt_model = GBTClassifier(labelCol=\"label\", featuresCol=\"indexedFeatures\", maxDepth=30, maxBins=8, minInstancesPerNode=100).fit(train_data)\n",
    "\n",
    "# Make predictions.\n",
    "best_gbt_predictions = best_gbt_model.transform(test_data)\n",
    "\n",
    "# evaluate\n",
    "evaluate(best_gbt_model, best_gbt_predictions, 'label', 'GBT Classifier')"
   ]
  },
  {
   "cell_type": "markdown",
   "id": "ae103028-cd46-45d5-b631-020678be1baf",
   "metadata": {},
   "source": [
    "### 4.5 Random Forest Classifier\n",
    "#### Tune GBT Model:\n",
    "- Fit model to train data\n",
    "- Use KFold Cross Validation K=10\n",
    "- Iterate through different combinations of hyperparameters to find the best metric"
   ]
  },
  {
   "cell_type": "code",
   "execution_count": 117,
   "id": "3db2e8bb-ef4c-460b-98bb-8387a7db015b",
   "metadata": {},
   "outputs": [
    {
     "ename": "ConnectionRefusedError",
     "evalue": "[Errno 111] Connection refused",
     "output_type": "error",
     "traceback": [
      "\u001b[0;31m---------------------------------------------------------------------------\u001b[0m",
      "\u001b[0;31mConnectionRefusedError\u001b[0m                    Traceback (most recent call last)",
      "File \u001b[0;32m<timed exec>:10\u001b[0m, in \u001b[0;36m<module>\u001b[0;34m\u001b[0m\n",
      "File \u001b[0;32m/usr/local/lib/python3.8/dist-packages/pyspark/__init__.py:114\u001b[0m, in \u001b[0;36mkeyword_only.<locals>.wrapper\u001b[0;34m(self, *args, **kwargs)\u001b[0m\n\u001b[1;32m    112\u001b[0m     \u001b[38;5;28;01mraise\u001b[39;00m \u001b[38;5;167;01mTypeError\u001b[39;00m(\u001b[38;5;124m\"\u001b[39m\u001b[38;5;124mMethod \u001b[39m\u001b[38;5;132;01m%s\u001b[39;00m\u001b[38;5;124m forces keyword arguments.\u001b[39m\u001b[38;5;124m\"\u001b[39m \u001b[38;5;241m%\u001b[39m func\u001b[38;5;241m.\u001b[39m\u001b[38;5;18m__name__\u001b[39m)\n\u001b[1;32m    113\u001b[0m \u001b[38;5;28mself\u001b[39m\u001b[38;5;241m.\u001b[39m_input_kwargs \u001b[38;5;241m=\u001b[39m kwargs\n\u001b[0;32m--> 114\u001b[0m \u001b[38;5;28;01mreturn\u001b[39;00m \u001b[43mfunc\u001b[49m\u001b[43m(\u001b[49m\u001b[38;5;28;43mself\u001b[39;49m\u001b[43m,\u001b[49m\u001b[43m \u001b[49m\u001b[38;5;241;43m*\u001b[39;49m\u001b[38;5;241;43m*\u001b[39;49m\u001b[43mkwargs\u001b[49m\u001b[43m)\u001b[49m\n",
      "File \u001b[0;32m/usr/local/lib/python3.8/dist-packages/pyspark/ml/feature.py:4231\u001b[0m, in \u001b[0;36mVectorAssembler.__init__\u001b[0;34m(self, inputCols, outputCol, handleInvalid)\u001b[0m\n\u001b[1;32m   4227\u001b[0m \u001b[38;5;124;03m\"\"\"\u001b[39;00m\n\u001b[1;32m   4228\u001b[0m \u001b[38;5;124;03m__init__(self, \\\\*, inputCols=None, outputCol=None, handleInvalid=\"error\")\u001b[39;00m\n\u001b[1;32m   4229\u001b[0m \u001b[38;5;124;03m\"\"\"\u001b[39;00m\n\u001b[1;32m   4230\u001b[0m \u001b[38;5;28msuper\u001b[39m(VectorAssembler, \u001b[38;5;28mself\u001b[39m)\u001b[38;5;241m.\u001b[39m\u001b[38;5;21m__init__\u001b[39m()\n\u001b[0;32m-> 4231\u001b[0m \u001b[38;5;28mself\u001b[39m\u001b[38;5;241m.\u001b[39m_java_obj \u001b[38;5;241m=\u001b[39m \u001b[38;5;28;43mself\u001b[39;49m\u001b[38;5;241;43m.\u001b[39;49m\u001b[43m_new_java_obj\u001b[49m\u001b[43m(\u001b[49m\u001b[38;5;124;43m\"\u001b[39;49m\u001b[38;5;124;43morg.apache.spark.ml.feature.VectorAssembler\u001b[39;49m\u001b[38;5;124;43m\"\u001b[39;49m\u001b[43m,\u001b[49m\u001b[43m \u001b[49m\u001b[38;5;28;43mself\u001b[39;49m\u001b[38;5;241;43m.\u001b[39;49m\u001b[43muid\u001b[49m\u001b[43m)\u001b[49m\n\u001b[1;32m   4232\u001b[0m \u001b[38;5;28mself\u001b[39m\u001b[38;5;241m.\u001b[39m_setDefault(handleInvalid\u001b[38;5;241m=\u001b[39m\u001b[38;5;124m\"\u001b[39m\u001b[38;5;124merror\u001b[39m\u001b[38;5;124m\"\u001b[39m)\n\u001b[1;32m   4233\u001b[0m kwargs \u001b[38;5;241m=\u001b[39m \u001b[38;5;28mself\u001b[39m\u001b[38;5;241m.\u001b[39m_input_kwargs\n",
      "File \u001b[0;32m/usr/local/lib/python3.8/dist-packages/pyspark/ml/wrapper.py:64\u001b[0m, in \u001b[0;36mJavaWrapper._new_java_obj\u001b[0;34m(java_class, *args)\u001b[0m\n\u001b[1;32m     62\u001b[0m java_obj \u001b[38;5;241m=\u001b[39m _jvm()\n\u001b[1;32m     63\u001b[0m \u001b[38;5;28;01mfor\u001b[39;00m name \u001b[38;5;129;01min\u001b[39;00m java_class\u001b[38;5;241m.\u001b[39msplit(\u001b[38;5;124m\"\u001b[39m\u001b[38;5;124m.\u001b[39m\u001b[38;5;124m\"\u001b[39m):\n\u001b[0;32m---> 64\u001b[0m     java_obj \u001b[38;5;241m=\u001b[39m \u001b[38;5;28;43mgetattr\u001b[39;49m\u001b[43m(\u001b[49m\u001b[43mjava_obj\u001b[49m\u001b[43m,\u001b[49m\u001b[43m \u001b[49m\u001b[43mname\u001b[49m\u001b[43m)\u001b[49m\n\u001b[1;32m     65\u001b[0m java_args \u001b[38;5;241m=\u001b[39m [_py2java(sc, arg) \u001b[38;5;28;01mfor\u001b[39;00m arg \u001b[38;5;129;01min\u001b[39;00m args]\n\u001b[1;32m     66\u001b[0m \u001b[38;5;28;01mreturn\u001b[39;00m java_obj(\u001b[38;5;241m*\u001b[39mjava_args)\n",
      "File \u001b[0;32m/usr/local/lib/python3.8/dist-packages/py4j/java_gateway.py:1709\u001b[0m, in \u001b[0;36mJVMView.__getattr__\u001b[0;34m(self, name)\u001b[0m\n\u001b[1;32m   1706\u001b[0m \u001b[38;5;28;01mif\u001b[39;00m name \u001b[38;5;241m==\u001b[39m UserHelpAutoCompletion\u001b[38;5;241m.\u001b[39mKEY:\n\u001b[1;32m   1707\u001b[0m     \u001b[38;5;28;01mreturn\u001b[39;00m UserHelpAutoCompletion()\n\u001b[0;32m-> 1709\u001b[0m answer \u001b[38;5;241m=\u001b[39m \u001b[38;5;28;43mself\u001b[39;49m\u001b[38;5;241;43m.\u001b[39;49m\u001b[43m_gateway_client\u001b[49m\u001b[38;5;241;43m.\u001b[39;49m\u001b[43msend_command\u001b[49m\u001b[43m(\u001b[49m\n\u001b[1;32m   1710\u001b[0m \u001b[43m    \u001b[49m\u001b[43mproto\u001b[49m\u001b[38;5;241;43m.\u001b[39;49m\u001b[43mREFLECTION_COMMAND_NAME\u001b[49m\u001b[43m \u001b[49m\u001b[38;5;241;43m+\u001b[39;49m\n\u001b[1;32m   1711\u001b[0m \u001b[43m    \u001b[49m\u001b[43mproto\u001b[49m\u001b[38;5;241;43m.\u001b[39;49m\u001b[43mREFL_GET_UNKNOWN_SUB_COMMAND_NAME\u001b[49m\u001b[43m \u001b[49m\u001b[38;5;241;43m+\u001b[39;49m\u001b[43m \u001b[49m\u001b[43mname\u001b[49m\u001b[43m \u001b[49m\u001b[38;5;241;43m+\u001b[39;49m\u001b[43m \u001b[49m\u001b[38;5;124;43m\"\u001b[39;49m\u001b[38;5;130;43;01m\\n\u001b[39;49;00m\u001b[38;5;124;43m\"\u001b[39;49m\u001b[43m \u001b[49m\u001b[38;5;241;43m+\u001b[39;49m\u001b[43m \u001b[49m\u001b[38;5;28;43mself\u001b[39;49m\u001b[38;5;241;43m.\u001b[39;49m\u001b[43m_id\u001b[49m\u001b[43m \u001b[49m\u001b[38;5;241;43m+\u001b[39;49m\n\u001b[1;32m   1712\u001b[0m \u001b[43m    \u001b[49m\u001b[38;5;124;43m\"\u001b[39;49m\u001b[38;5;130;43;01m\\n\u001b[39;49;00m\u001b[38;5;124;43m\"\u001b[39;49m\u001b[43m \u001b[49m\u001b[38;5;241;43m+\u001b[39;49m\u001b[43m \u001b[49m\u001b[43mproto\u001b[49m\u001b[38;5;241;43m.\u001b[39;49m\u001b[43mEND_COMMAND_PART\u001b[49m\u001b[43m)\u001b[49m\n\u001b[1;32m   1713\u001b[0m \u001b[38;5;28;01mif\u001b[39;00m answer \u001b[38;5;241m==\u001b[39m proto\u001b[38;5;241m.\u001b[39mSUCCESS_PACKAGE:\n\u001b[1;32m   1714\u001b[0m     \u001b[38;5;28;01mreturn\u001b[39;00m JavaPackage(name, \u001b[38;5;28mself\u001b[39m\u001b[38;5;241m.\u001b[39m_gateway_client, jvm_id\u001b[38;5;241m=\u001b[39m\u001b[38;5;28mself\u001b[39m\u001b[38;5;241m.\u001b[39m_id)\n",
      "File \u001b[0;32m/usr/local/lib/python3.8/dist-packages/py4j/java_gateway.py:1036\u001b[0m, in \u001b[0;36mGatewayClient.send_command\u001b[0;34m(self, command, retry, binary)\u001b[0m\n\u001b[1;32m   1015\u001b[0m \u001b[38;5;28;01mdef\u001b[39;00m \u001b[38;5;21msend_command\u001b[39m(\u001b[38;5;28mself\u001b[39m, command, retry\u001b[38;5;241m=\u001b[39m\u001b[38;5;28;01mTrue\u001b[39;00m, binary\u001b[38;5;241m=\u001b[39m\u001b[38;5;28;01mFalse\u001b[39;00m):\n\u001b[1;32m   1016\u001b[0m     \u001b[38;5;124;03m\"\"\"Sends a command to the JVM. This method is not intended to be\u001b[39;00m\n\u001b[1;32m   1017\u001b[0m \u001b[38;5;124;03m       called directly by Py4J users. It is usually called by\u001b[39;00m\n\u001b[1;32m   1018\u001b[0m \u001b[38;5;124;03m       :class:`JavaMember` instances.\u001b[39;00m\n\u001b[0;32m   (...)\u001b[0m\n\u001b[1;32m   1034\u001b[0m \u001b[38;5;124;03m     if `binary` is `True`.\u001b[39;00m\n\u001b[1;32m   1035\u001b[0m \u001b[38;5;124;03m    \"\"\"\u001b[39;00m\n\u001b[0;32m-> 1036\u001b[0m     connection \u001b[38;5;241m=\u001b[39m \u001b[38;5;28;43mself\u001b[39;49m\u001b[38;5;241;43m.\u001b[39;49m\u001b[43m_get_connection\u001b[49m\u001b[43m(\u001b[49m\u001b[43m)\u001b[49m\n\u001b[1;32m   1037\u001b[0m     \u001b[38;5;28;01mtry\u001b[39;00m:\n\u001b[1;32m   1038\u001b[0m         response \u001b[38;5;241m=\u001b[39m connection\u001b[38;5;241m.\u001b[39msend_command(command)\n",
      "File \u001b[0;32m/usr/local/lib/python3.8/dist-packages/py4j/clientserver.py:281\u001b[0m, in \u001b[0;36mJavaClient._get_connection\u001b[0;34m(self)\u001b[0m\n\u001b[1;32m    278\u001b[0m     \u001b[38;5;28;01mpass\u001b[39;00m\n\u001b[1;32m    280\u001b[0m \u001b[38;5;28;01mif\u001b[39;00m connection \u001b[38;5;129;01mis\u001b[39;00m \u001b[38;5;28;01mNone\u001b[39;00m \u001b[38;5;129;01mor\u001b[39;00m connection\u001b[38;5;241m.\u001b[39msocket \u001b[38;5;129;01mis\u001b[39;00m \u001b[38;5;28;01mNone\u001b[39;00m:\n\u001b[0;32m--> 281\u001b[0m     connection \u001b[38;5;241m=\u001b[39m \u001b[38;5;28;43mself\u001b[39;49m\u001b[38;5;241;43m.\u001b[39;49m\u001b[43m_create_new_connection\u001b[49m\u001b[43m(\u001b[49m\u001b[43m)\u001b[49m\n\u001b[1;32m    282\u001b[0m \u001b[38;5;28;01mreturn\u001b[39;00m connection\n",
      "File \u001b[0;32m/usr/local/lib/python3.8/dist-packages/py4j/clientserver.py:288\u001b[0m, in \u001b[0;36mJavaClient._create_new_connection\u001b[0;34m(self)\u001b[0m\n\u001b[1;32m    284\u001b[0m \u001b[38;5;28;01mdef\u001b[39;00m \u001b[38;5;21m_create_new_connection\u001b[39m(\u001b[38;5;28mself\u001b[39m):\n\u001b[1;32m    285\u001b[0m     connection \u001b[38;5;241m=\u001b[39m ClientServerConnection(\n\u001b[1;32m    286\u001b[0m         \u001b[38;5;28mself\u001b[39m\u001b[38;5;241m.\u001b[39mjava_parameters, \u001b[38;5;28mself\u001b[39m\u001b[38;5;241m.\u001b[39mpython_parameters,\n\u001b[1;32m    287\u001b[0m         \u001b[38;5;28mself\u001b[39m\u001b[38;5;241m.\u001b[39mgateway_property, \u001b[38;5;28mself\u001b[39m)\n\u001b[0;32m--> 288\u001b[0m     \u001b[43mconnection\u001b[49m\u001b[38;5;241;43m.\u001b[39;49m\u001b[43mconnect_to_java_server\u001b[49m\u001b[43m(\u001b[49m\u001b[43m)\u001b[49m\n\u001b[1;32m    289\u001b[0m     \u001b[38;5;28mself\u001b[39m\u001b[38;5;241m.\u001b[39mset_thread_connection(connection)\n\u001b[1;32m    290\u001b[0m     \u001b[38;5;28;01mreturn\u001b[39;00m connection\n",
      "File \u001b[0;32m/usr/local/lib/python3.8/dist-packages/py4j/clientserver.py:402\u001b[0m, in \u001b[0;36mClientServerConnection.connect_to_java_server\u001b[0;34m(self)\u001b[0m\n\u001b[1;32m    399\u001b[0m \u001b[38;5;28;01mif\u001b[39;00m \u001b[38;5;28mself\u001b[39m\u001b[38;5;241m.\u001b[39mssl_context:\n\u001b[1;32m    400\u001b[0m     \u001b[38;5;28mself\u001b[39m\u001b[38;5;241m.\u001b[39msocket \u001b[38;5;241m=\u001b[39m \u001b[38;5;28mself\u001b[39m\u001b[38;5;241m.\u001b[39mssl_context\u001b[38;5;241m.\u001b[39mwrap_socket(\n\u001b[1;32m    401\u001b[0m         \u001b[38;5;28mself\u001b[39m\u001b[38;5;241m.\u001b[39msocket, server_hostname\u001b[38;5;241m=\u001b[39m\u001b[38;5;28mself\u001b[39m\u001b[38;5;241m.\u001b[39mjava_address)\n\u001b[0;32m--> 402\u001b[0m \u001b[38;5;28;43mself\u001b[39;49m\u001b[38;5;241;43m.\u001b[39;49m\u001b[43msocket\u001b[49m\u001b[38;5;241;43m.\u001b[39;49m\u001b[43mconnect\u001b[49m\u001b[43m(\u001b[49m\u001b[43m(\u001b[49m\u001b[38;5;28;43mself\u001b[39;49m\u001b[38;5;241;43m.\u001b[39;49m\u001b[43mjava_address\u001b[49m\u001b[43m,\u001b[49m\u001b[43m \u001b[49m\u001b[38;5;28;43mself\u001b[39;49m\u001b[38;5;241;43m.\u001b[39;49m\u001b[43mjava_port\u001b[49m\u001b[43m)\u001b[49m\u001b[43m)\u001b[49m\n\u001b[1;32m    403\u001b[0m \u001b[38;5;28mself\u001b[39m\u001b[38;5;241m.\u001b[39mstream \u001b[38;5;241m=\u001b[39m \u001b[38;5;28mself\u001b[39m\u001b[38;5;241m.\u001b[39msocket\u001b[38;5;241m.\u001b[39mmakefile(\u001b[38;5;124m\"\u001b[39m\u001b[38;5;124mrb\u001b[39m\u001b[38;5;124m\"\u001b[39m)\n\u001b[1;32m    404\u001b[0m \u001b[38;5;28mself\u001b[39m\u001b[38;5;241m.\u001b[39mis_connected \u001b[38;5;241m=\u001b[39m \u001b[38;5;28;01mTrue\u001b[39;00m\n",
      "\u001b[0;31mConnectionRefusedError\u001b[0m: [Errno 111] Connection refused"
     ]
    }
   ],
   "source": [
    "%%time\n",
    "\n",
    "# Load and parse the data file, converting it to a DataFrame.\n",
    "df_features_transformation_backup1 = df_features_transformation_backup\n",
    "data = df_features_transformation_backup1\n",
    "\n",
    "# -----------------------------------------------\n",
    "\n",
    "# assemble all features in vector\n",
    "col_feature_names = list(data.columns)\n",
    "col_feature_names.remove('label')\n",
    "vecAssembler = VectorAssembler(inputCols = col_feature_names, outputCol=\"features\")\n",
    "data = vecAssembler.transform(data)\n",
    "\n",
    "# Index labels\n",
    "featureIndexer = VectorIndexer(inputCol=\"features\", outputCol=\"indexedFeatures\", maxCategories=10)\n",
    "data = featureIndexer.fit(data).transform(data)\n",
    "\n",
    "# drop features columns\n",
    "data = data.drop(*col_feature_names, 'features')\n",
    "\n",
    "# Split the data\n",
    "(train_data, test_data) = data.randomSplit([0.8, 0.2], seed=42)\n",
    "\n",
    "# -----------------------------------------------\n",
    "\n",
    "# Train a RandomForest model.\n",
    "rf_model = RandomForestClassifier(labelCol=\"label\", featuresCol=\"indexedFeatures\", numTrees=30)\n",
    "\n",
    "\n",
    "'''\n",
    "class pyspark.ml.classification.RandomForestClassifier(*, featuresCol='features', labelCol='label', predictionCol='prediction', \n",
    "probabilityCol='probability', rawPredictionCol='rawPrediction', maxDepth=5, maxBins=32, minInstancesPerNode=1, minInfoGain=0.0, \n",
    "maxMemoryInMB=256, cacheNodeIds=False, checkpointInterval=10, \n",
    "impurity='gini', numTrees=20, featureSubsetStrategy='auto', seed=None, subsamplingRate=1.0, leafCol='', minWeightFractionPerNode=0.0, weightCol=None, bootstrap=True)[source]\n",
    "'''\n",
    "\n",
    "# create combinations of hyperparameters\n",
    "rf_param_grid = ParamGridBuilder()\\\n",
    "            .addGrid(rf_model.maxDepth,[5, 10, 30])\\\n",
    "            .addGrid(rf_model.min_samples_split,[2, 10, 100])\\\n",
    "            .addGrid(rf_model.maxBins,[8, 16])\\\n",
    "            .addGrid(rf_model.numTrees,[5, 10, 20])\\\n",
    "            .build()\n",
    "\n",
    "# cross validation\n",
    "rf_cross_val = CrossValidator(estimator = rf_model,\n",
    "                         estimatorParamMaps = rf_param_grid,\n",
    "                         evaluator = MulticlassClassificationEvaluator(),\n",
    "                         numFolds = 10)\n",
    "\n",
    "# run the model selection\n",
    "cv_model = rf_cross_val.fit(train_data)\n",
    "\n",
    "# Best model params:\n",
    "best_params_idx = np.argmax(cv_model.avgMetrics)\n",
    "print(f\"{rf_param_grid[best_params_idx]} \\nAVG Metric: {cv_model.avgMetrics[best_params_idx]}\\n\")"
   ]
  },
  {
   "cell_type": "markdown",
   "id": "ea464905-4aa9-4268-86ac-1a8c8ef607e3",
   "metadata": {},
   "source": [
    "#### Test with unseen data and best hyperparameters combination"
   ]
  },
  {
   "cell_type": "code",
   "execution_count": 118,
   "id": "929dc1da-e2cf-47e6-b890-0b36fc016e22",
   "metadata": {},
   "outputs": [
    {
     "ename": "ConnectionRefusedError",
     "evalue": "[Errno 111] Connection refused",
     "output_type": "error",
     "traceback": [
      "\u001b[0;31m---------------------------------------------------------------------------\u001b[0m",
      "\u001b[0;31mConnectionRefusedError\u001b[0m                    Traceback (most recent call last)",
      "Input \u001b[0;32mIn [118]\u001b[0m, in \u001b[0;36m<cell line: 2>\u001b[0;34m()\u001b[0m\n\u001b[1;32m      1\u001b[0m \u001b[38;5;66;03m# Train a model with the best parameters\u001b[39;00m\n\u001b[0;32m----> 2\u001b[0m best_rf_model \u001b[38;5;241m=\u001b[39m \u001b[43mRandomForestClassifier\u001b[49m\u001b[43m(\u001b[49m\u001b[43mlabelCol\u001b[49m\u001b[38;5;241;43m=\u001b[39;49m\u001b[38;5;124;43m\"\u001b[39;49m\u001b[38;5;124;43mlabel\u001b[39;49m\u001b[38;5;124;43m\"\u001b[39;49m\u001b[43m,\u001b[49m\u001b[43m \u001b[49m\u001b[43mfeaturesCol\u001b[49m\u001b[38;5;241;43m=\u001b[39;49m\u001b[38;5;124;43m\"\u001b[39;49m\u001b[38;5;124;43mindexedFeatures\u001b[39;49m\u001b[38;5;124;43m\"\u001b[39;49m\u001b[43m,\u001b[49m\u001b[43m \u001b[49m\u001b[43mmaxDepth\u001b[49m\u001b[38;5;241;43m=\u001b[39;49m\u001b[38;5;241;43m30\u001b[39;49m\u001b[43m,\u001b[49m\u001b[43m \u001b[49m\u001b[43mmaxBins\u001b[49m\u001b[38;5;241;43m=\u001b[39;49m\u001b[38;5;241;43m8\u001b[39;49m\u001b[43m,\u001b[49m\u001b[43m \u001b[49m\u001b[43mminInstancesPerNode\u001b[49m\u001b[38;5;241;43m=\u001b[39;49m\u001b[38;5;241;43m100\u001b[39;49m\u001b[43m)\u001b[49m\u001b[38;5;241m.\u001b[39mfit(train_data)\n\u001b[1;32m      4\u001b[0m \u001b[38;5;66;03m# Make predictions.\u001b[39;00m\n\u001b[1;32m      5\u001b[0m best_rf_predictions \u001b[38;5;241m=\u001b[39m best_rf_model\u001b[38;5;241m.\u001b[39mtransform(test_data)\n",
      "File \u001b[0;32m/usr/local/lib/python3.8/dist-packages/pyspark/__init__.py:114\u001b[0m, in \u001b[0;36mkeyword_only.<locals>.wrapper\u001b[0;34m(self, *args, **kwargs)\u001b[0m\n\u001b[1;32m    112\u001b[0m     \u001b[38;5;28;01mraise\u001b[39;00m \u001b[38;5;167;01mTypeError\u001b[39;00m(\u001b[38;5;124m\"\u001b[39m\u001b[38;5;124mMethod \u001b[39m\u001b[38;5;132;01m%s\u001b[39;00m\u001b[38;5;124m forces keyword arguments.\u001b[39m\u001b[38;5;124m\"\u001b[39m \u001b[38;5;241m%\u001b[39m func\u001b[38;5;241m.\u001b[39m\u001b[38;5;18m__name__\u001b[39m)\n\u001b[1;32m    113\u001b[0m \u001b[38;5;28mself\u001b[39m\u001b[38;5;241m.\u001b[39m_input_kwargs \u001b[38;5;241m=\u001b[39m kwargs\n\u001b[0;32m--> 114\u001b[0m \u001b[38;5;28;01mreturn\u001b[39;00m \u001b[43mfunc\u001b[49m\u001b[43m(\u001b[49m\u001b[38;5;28;43mself\u001b[39;49m\u001b[43m,\u001b[49m\u001b[43m \u001b[49m\u001b[38;5;241;43m*\u001b[39;49m\u001b[38;5;241;43m*\u001b[39;49m\u001b[43mkwargs\u001b[49m\u001b[43m)\u001b[49m\n",
      "File \u001b[0;32m/usr/local/lib/python3.8/dist-packages/pyspark/ml/classification.py:1683\u001b[0m, in \u001b[0;36mRandomForestClassifier.__init__\u001b[0;34m(self, featuresCol, labelCol, predictionCol, probabilityCol, rawPredictionCol, maxDepth, maxBins, minInstancesPerNode, minInfoGain, maxMemoryInMB, cacheNodeIds, checkpointInterval, impurity, numTrees, featureSubsetStrategy, seed, subsamplingRate, leafCol, minWeightFractionPerNode, weightCol, bootstrap)\u001b[0m\n\u001b[1;32m   1674\u001b[0m \u001b[38;5;124;03m\"\"\"\u001b[39;00m\n\u001b[1;32m   1675\u001b[0m \u001b[38;5;124;03m__init__(self, \\\\*, featuresCol=\"features\", labelCol=\"label\", predictionCol=\"prediction\", \\\u001b[39;00m\n\u001b[1;32m   1676\u001b[0m \u001b[38;5;124;03m         probabilityCol=\"probability\", rawPredictionCol=\"rawPrediction\", \\\u001b[39;00m\n\u001b[0;32m   (...)\u001b[0m\n\u001b[1;32m   1680\u001b[0m \u001b[38;5;124;03m         leafCol=\"\", minWeightFractionPerNode=0.0, weightCol=None, bootstrap=True)\u001b[39;00m\n\u001b[1;32m   1681\u001b[0m \u001b[38;5;124;03m\"\"\"\u001b[39;00m\n\u001b[1;32m   1682\u001b[0m \u001b[38;5;28msuper\u001b[39m(RandomForestClassifier, \u001b[38;5;28mself\u001b[39m)\u001b[38;5;241m.\u001b[39m\u001b[38;5;21m__init__\u001b[39m()\n\u001b[0;32m-> 1683\u001b[0m \u001b[38;5;28mself\u001b[39m\u001b[38;5;241m.\u001b[39m_java_obj \u001b[38;5;241m=\u001b[39m \u001b[38;5;28;43mself\u001b[39;49m\u001b[38;5;241;43m.\u001b[39;49m\u001b[43m_new_java_obj\u001b[49m\u001b[43m(\u001b[49m\n\u001b[1;32m   1684\u001b[0m \u001b[43m    \u001b[49m\u001b[38;5;124;43m\"\u001b[39;49m\u001b[38;5;124;43morg.apache.spark.ml.classification.RandomForestClassifier\u001b[39;49m\u001b[38;5;124;43m\"\u001b[39;49m\u001b[43m,\u001b[49m\u001b[43m \u001b[49m\u001b[38;5;28;43mself\u001b[39;49m\u001b[38;5;241;43m.\u001b[39;49m\u001b[43muid\u001b[49m\u001b[43m)\u001b[49m\n\u001b[1;32m   1685\u001b[0m kwargs \u001b[38;5;241m=\u001b[39m \u001b[38;5;28mself\u001b[39m\u001b[38;5;241m.\u001b[39m_input_kwargs\n\u001b[1;32m   1686\u001b[0m \u001b[38;5;28mself\u001b[39m\u001b[38;5;241m.\u001b[39msetParams(\u001b[38;5;241m*\u001b[39m\u001b[38;5;241m*\u001b[39mkwargs)\n",
      "File \u001b[0;32m/usr/local/lib/python3.8/dist-packages/pyspark/ml/wrapper.py:64\u001b[0m, in \u001b[0;36mJavaWrapper._new_java_obj\u001b[0;34m(java_class, *args)\u001b[0m\n\u001b[1;32m     62\u001b[0m java_obj \u001b[38;5;241m=\u001b[39m _jvm()\n\u001b[1;32m     63\u001b[0m \u001b[38;5;28;01mfor\u001b[39;00m name \u001b[38;5;129;01min\u001b[39;00m java_class\u001b[38;5;241m.\u001b[39msplit(\u001b[38;5;124m\"\u001b[39m\u001b[38;5;124m.\u001b[39m\u001b[38;5;124m\"\u001b[39m):\n\u001b[0;32m---> 64\u001b[0m     java_obj \u001b[38;5;241m=\u001b[39m \u001b[38;5;28;43mgetattr\u001b[39;49m\u001b[43m(\u001b[49m\u001b[43mjava_obj\u001b[49m\u001b[43m,\u001b[49m\u001b[43m \u001b[49m\u001b[43mname\u001b[49m\u001b[43m)\u001b[49m\n\u001b[1;32m     65\u001b[0m java_args \u001b[38;5;241m=\u001b[39m [_py2java(sc, arg) \u001b[38;5;28;01mfor\u001b[39;00m arg \u001b[38;5;129;01min\u001b[39;00m args]\n\u001b[1;32m     66\u001b[0m \u001b[38;5;28;01mreturn\u001b[39;00m java_obj(\u001b[38;5;241m*\u001b[39mjava_args)\n",
      "File \u001b[0;32m/usr/local/lib/python3.8/dist-packages/py4j/java_gateway.py:1709\u001b[0m, in \u001b[0;36mJVMView.__getattr__\u001b[0;34m(self, name)\u001b[0m\n\u001b[1;32m   1706\u001b[0m \u001b[38;5;28;01mif\u001b[39;00m name \u001b[38;5;241m==\u001b[39m UserHelpAutoCompletion\u001b[38;5;241m.\u001b[39mKEY:\n\u001b[1;32m   1707\u001b[0m     \u001b[38;5;28;01mreturn\u001b[39;00m UserHelpAutoCompletion()\n\u001b[0;32m-> 1709\u001b[0m answer \u001b[38;5;241m=\u001b[39m \u001b[38;5;28;43mself\u001b[39;49m\u001b[38;5;241;43m.\u001b[39;49m\u001b[43m_gateway_client\u001b[49m\u001b[38;5;241;43m.\u001b[39;49m\u001b[43msend_command\u001b[49m\u001b[43m(\u001b[49m\n\u001b[1;32m   1710\u001b[0m \u001b[43m    \u001b[49m\u001b[43mproto\u001b[49m\u001b[38;5;241;43m.\u001b[39;49m\u001b[43mREFLECTION_COMMAND_NAME\u001b[49m\u001b[43m \u001b[49m\u001b[38;5;241;43m+\u001b[39;49m\n\u001b[1;32m   1711\u001b[0m \u001b[43m    \u001b[49m\u001b[43mproto\u001b[49m\u001b[38;5;241;43m.\u001b[39;49m\u001b[43mREFL_GET_UNKNOWN_SUB_COMMAND_NAME\u001b[49m\u001b[43m \u001b[49m\u001b[38;5;241;43m+\u001b[39;49m\u001b[43m \u001b[49m\u001b[43mname\u001b[49m\u001b[43m \u001b[49m\u001b[38;5;241;43m+\u001b[39;49m\u001b[43m \u001b[49m\u001b[38;5;124;43m\"\u001b[39;49m\u001b[38;5;130;43;01m\\n\u001b[39;49;00m\u001b[38;5;124;43m\"\u001b[39;49m\u001b[43m \u001b[49m\u001b[38;5;241;43m+\u001b[39;49m\u001b[43m \u001b[49m\u001b[38;5;28;43mself\u001b[39;49m\u001b[38;5;241;43m.\u001b[39;49m\u001b[43m_id\u001b[49m\u001b[43m \u001b[49m\u001b[38;5;241;43m+\u001b[39;49m\n\u001b[1;32m   1712\u001b[0m \u001b[43m    \u001b[49m\u001b[38;5;124;43m\"\u001b[39;49m\u001b[38;5;130;43;01m\\n\u001b[39;49;00m\u001b[38;5;124;43m\"\u001b[39;49m\u001b[43m \u001b[49m\u001b[38;5;241;43m+\u001b[39;49m\u001b[43m \u001b[49m\u001b[43mproto\u001b[49m\u001b[38;5;241;43m.\u001b[39;49m\u001b[43mEND_COMMAND_PART\u001b[49m\u001b[43m)\u001b[49m\n\u001b[1;32m   1713\u001b[0m \u001b[38;5;28;01mif\u001b[39;00m answer \u001b[38;5;241m==\u001b[39m proto\u001b[38;5;241m.\u001b[39mSUCCESS_PACKAGE:\n\u001b[1;32m   1714\u001b[0m     \u001b[38;5;28;01mreturn\u001b[39;00m JavaPackage(name, \u001b[38;5;28mself\u001b[39m\u001b[38;5;241m.\u001b[39m_gateway_client, jvm_id\u001b[38;5;241m=\u001b[39m\u001b[38;5;28mself\u001b[39m\u001b[38;5;241m.\u001b[39m_id)\n",
      "File \u001b[0;32m/usr/local/lib/python3.8/dist-packages/py4j/java_gateway.py:1036\u001b[0m, in \u001b[0;36mGatewayClient.send_command\u001b[0;34m(self, command, retry, binary)\u001b[0m\n\u001b[1;32m   1015\u001b[0m \u001b[38;5;28;01mdef\u001b[39;00m \u001b[38;5;21msend_command\u001b[39m(\u001b[38;5;28mself\u001b[39m, command, retry\u001b[38;5;241m=\u001b[39m\u001b[38;5;28;01mTrue\u001b[39;00m, binary\u001b[38;5;241m=\u001b[39m\u001b[38;5;28;01mFalse\u001b[39;00m):\n\u001b[1;32m   1016\u001b[0m     \u001b[38;5;124;03m\"\"\"Sends a command to the JVM. This method is not intended to be\u001b[39;00m\n\u001b[1;32m   1017\u001b[0m \u001b[38;5;124;03m       called directly by Py4J users. It is usually called by\u001b[39;00m\n\u001b[1;32m   1018\u001b[0m \u001b[38;5;124;03m       :class:`JavaMember` instances.\u001b[39;00m\n\u001b[0;32m   (...)\u001b[0m\n\u001b[1;32m   1034\u001b[0m \u001b[38;5;124;03m     if `binary` is `True`.\u001b[39;00m\n\u001b[1;32m   1035\u001b[0m \u001b[38;5;124;03m    \"\"\"\u001b[39;00m\n\u001b[0;32m-> 1036\u001b[0m     connection \u001b[38;5;241m=\u001b[39m \u001b[38;5;28;43mself\u001b[39;49m\u001b[38;5;241;43m.\u001b[39;49m\u001b[43m_get_connection\u001b[49m\u001b[43m(\u001b[49m\u001b[43m)\u001b[49m\n\u001b[1;32m   1037\u001b[0m     \u001b[38;5;28;01mtry\u001b[39;00m:\n\u001b[1;32m   1038\u001b[0m         response \u001b[38;5;241m=\u001b[39m connection\u001b[38;5;241m.\u001b[39msend_command(command)\n",
      "File \u001b[0;32m/usr/local/lib/python3.8/dist-packages/py4j/clientserver.py:281\u001b[0m, in \u001b[0;36mJavaClient._get_connection\u001b[0;34m(self)\u001b[0m\n\u001b[1;32m    278\u001b[0m     \u001b[38;5;28;01mpass\u001b[39;00m\n\u001b[1;32m    280\u001b[0m \u001b[38;5;28;01mif\u001b[39;00m connection \u001b[38;5;129;01mis\u001b[39;00m \u001b[38;5;28;01mNone\u001b[39;00m \u001b[38;5;129;01mor\u001b[39;00m connection\u001b[38;5;241m.\u001b[39msocket \u001b[38;5;129;01mis\u001b[39;00m \u001b[38;5;28;01mNone\u001b[39;00m:\n\u001b[0;32m--> 281\u001b[0m     connection \u001b[38;5;241m=\u001b[39m \u001b[38;5;28;43mself\u001b[39;49m\u001b[38;5;241;43m.\u001b[39;49m\u001b[43m_create_new_connection\u001b[49m\u001b[43m(\u001b[49m\u001b[43m)\u001b[49m\n\u001b[1;32m    282\u001b[0m \u001b[38;5;28;01mreturn\u001b[39;00m connection\n",
      "File \u001b[0;32m/usr/local/lib/python3.8/dist-packages/py4j/clientserver.py:288\u001b[0m, in \u001b[0;36mJavaClient._create_new_connection\u001b[0;34m(self)\u001b[0m\n\u001b[1;32m    284\u001b[0m \u001b[38;5;28;01mdef\u001b[39;00m \u001b[38;5;21m_create_new_connection\u001b[39m(\u001b[38;5;28mself\u001b[39m):\n\u001b[1;32m    285\u001b[0m     connection \u001b[38;5;241m=\u001b[39m ClientServerConnection(\n\u001b[1;32m    286\u001b[0m         \u001b[38;5;28mself\u001b[39m\u001b[38;5;241m.\u001b[39mjava_parameters, \u001b[38;5;28mself\u001b[39m\u001b[38;5;241m.\u001b[39mpython_parameters,\n\u001b[1;32m    287\u001b[0m         \u001b[38;5;28mself\u001b[39m\u001b[38;5;241m.\u001b[39mgateway_property, \u001b[38;5;28mself\u001b[39m)\n\u001b[0;32m--> 288\u001b[0m     \u001b[43mconnection\u001b[49m\u001b[38;5;241;43m.\u001b[39;49m\u001b[43mconnect_to_java_server\u001b[49m\u001b[43m(\u001b[49m\u001b[43m)\u001b[49m\n\u001b[1;32m    289\u001b[0m     \u001b[38;5;28mself\u001b[39m\u001b[38;5;241m.\u001b[39mset_thread_connection(connection)\n\u001b[1;32m    290\u001b[0m     \u001b[38;5;28;01mreturn\u001b[39;00m connection\n",
      "File \u001b[0;32m/usr/local/lib/python3.8/dist-packages/py4j/clientserver.py:402\u001b[0m, in \u001b[0;36mClientServerConnection.connect_to_java_server\u001b[0;34m(self)\u001b[0m\n\u001b[1;32m    399\u001b[0m \u001b[38;5;28;01mif\u001b[39;00m \u001b[38;5;28mself\u001b[39m\u001b[38;5;241m.\u001b[39mssl_context:\n\u001b[1;32m    400\u001b[0m     \u001b[38;5;28mself\u001b[39m\u001b[38;5;241m.\u001b[39msocket \u001b[38;5;241m=\u001b[39m \u001b[38;5;28mself\u001b[39m\u001b[38;5;241m.\u001b[39mssl_context\u001b[38;5;241m.\u001b[39mwrap_socket(\n\u001b[1;32m    401\u001b[0m         \u001b[38;5;28mself\u001b[39m\u001b[38;5;241m.\u001b[39msocket, server_hostname\u001b[38;5;241m=\u001b[39m\u001b[38;5;28mself\u001b[39m\u001b[38;5;241m.\u001b[39mjava_address)\n\u001b[0;32m--> 402\u001b[0m \u001b[38;5;28;43mself\u001b[39;49m\u001b[38;5;241;43m.\u001b[39;49m\u001b[43msocket\u001b[49m\u001b[38;5;241;43m.\u001b[39;49m\u001b[43mconnect\u001b[49m\u001b[43m(\u001b[49m\u001b[43m(\u001b[49m\u001b[38;5;28;43mself\u001b[39;49m\u001b[38;5;241;43m.\u001b[39;49m\u001b[43mjava_address\u001b[49m\u001b[43m,\u001b[49m\u001b[43m \u001b[49m\u001b[38;5;28;43mself\u001b[39;49m\u001b[38;5;241;43m.\u001b[39;49m\u001b[43mjava_port\u001b[49m\u001b[43m)\u001b[49m\u001b[43m)\u001b[49m\n\u001b[1;32m    403\u001b[0m \u001b[38;5;28mself\u001b[39m\u001b[38;5;241m.\u001b[39mstream \u001b[38;5;241m=\u001b[39m \u001b[38;5;28mself\u001b[39m\u001b[38;5;241m.\u001b[39msocket\u001b[38;5;241m.\u001b[39mmakefile(\u001b[38;5;124m\"\u001b[39m\u001b[38;5;124mrb\u001b[39m\u001b[38;5;124m\"\u001b[39m)\n\u001b[1;32m    404\u001b[0m \u001b[38;5;28mself\u001b[39m\u001b[38;5;241m.\u001b[39mis_connected \u001b[38;5;241m=\u001b[39m \u001b[38;5;28;01mTrue\u001b[39;00m\n",
      "\u001b[0;31mConnectionRefusedError\u001b[0m: [Errno 111] Connection refused"
     ]
    }
   ],
   "source": [
    "# Train a model with the best parameters\n",
    "best_rf_model = RandomForestClassifier(labelCol=\"label\", featuresCol=\"indexedFeatures\", maxDepth=30, maxBins=8, minInstancesPerNode=100).fit(train_data)\n",
    "\n",
    "# Make predictions.\n",
    "best_rf_predictions = best_rf_model.transform(test_data)\n",
    "\n",
    "# evaluate\n",
    "evaluate(best_rf_model, best_rf_predictions, 'label', 'Random forest Classifier')"
   ]
  },
  {
   "cell_type": "markdown",
   "id": "9f26366c-194d-44a2-b895-d68733e39b75",
   "metadata": {},
   "source": [
    "## 5. Evaluation <a class=\"anchor\" id=\"evaluation\"></a>\n",
    "\n",
    "Assess model performance   \n",
    "Determine metrics & methods to assess model results   \n",
    "Accuracy measures, confusion matrix, etc.\n",
    "\n",
    "Spring: \n",
    "- Confusion matrix\n",
    "- Accuracy Rate\n",
    "- Error Rate\n",
    "- Recall\n",
    "- Precision\n",
    "- ROC / AUC Curve\n",
    "\n",
    "\n",
    "----------------\n",
    "Evaluate model results w.r.t. success criteria. \n",
    "  Does model’s performance meet success criteria?  ",
    "\n",
    "  Have all requirements been met? "
   ]
  },
  {
   "cell_type": "markdown",
   "id": "3940f7ae-dae4-411a-88ba-71df4dc4a206",
   "metadata": {},
   "source": [
    "### Because we do disease prediction some particular thoughts:\n",
    "\n",
    "**Precision = positives predicted correctly / all predicted positives**\n",
    "\n",
    "**We predict disease, so it is ok to have positives  that are really negatives (better to worry than sorry).**\n",
    "\n",
    "**Precision OK to go down.**\n",
    "\n",
    "***\n",
    "**Recall = positives predicted correctly / all real positives.**\n",
    "\n",
    "**Recall needs to be as high as possible, we don’t want to misclassify the real positives**"
   ]
  },
  {
   "cell_type": "code",
   "execution_count": 114,
   "id": "369c803b-880d-4ba9-8db3-e45f34d049fa",
   "metadata": {},
   "outputs": [
    {
     "name": "stderr",
     "output_type": "stream",
     "text": [
      "[Stage 97942:>                                                      (0 + 4) / 4]\r"
     ]
    }
   ],
   "source": [
    "\n",
    "# Scala version implements .roc() and .pr()\n",
    "# Python: https://spark.apache.org/docs/latest/api/python/_modules/pyspark/mllib/common.html\n",
    "# Scala: https://spark.apache.org/docs/latest/api/java/org/apache/spark/mllib/evaluation/BinaryClassificationMetrics.html\n",
    "class CurveMetrics(BinaryClassificationMetrics):\n",
    "    def __init__(self, *args):\n",
    "        super(CurveMetrics, self).__init__(*args)\n",
    "\n",
    "    def _to_list(self, rdd):\n",
    "        points = []\n",
    "        # Note this collect could be inefficient for large datasets \n",
    "        # considering there may be one probability per datapoint (at most)\n",
    "        # The Scala version takes a numBins parameter, \n",
    "        # but it doesn't seem possible to pass this from Python to Java\n",
    "        for row in rdd.collect():\n",
    "            # Results are returned as type scala.Tuple2, \n",
    "            # which doesn't appear to have a py4j mapping\n",
    "            points += [(float(row._1()), float(row._2()))]\n",
    "        return points\n",
    "\n",
    "    def get_curve(self, method):\n",
    "        rdd = getattr(self._java_model, method)().toJavaRDD()\n",
    "        return self._to_list(rdd)    \n",
    "    \n",
    "    \n",
    "def plot_roc(args):\n",
    "    \"\"\"\n",
    "    The function plots ROC Curve graph for the models.\n",
    "    \n",
    "    :param Model Object model: - model object after fitting the data\n",
    "    :param DataFrame predictions_df - DataFrame with label and predicted values\n",
    "    :param str label - the name of column with labels\n",
    "    :param str model_name - name of the model for printing the title\n",
    "    :param str model_type - type of the model ('tree' for DecisionTree, RandomForest and Gradient Tree Booster)\n",
    "    :return: None\n",
    "    \"\"\"\n",
    "    plt.figure(figsize=(15, 15))\n",
    "    for arg in args:\n",
    "       \n",
    "        model, predictions_df, label, model_name, model_type=arg\n",
    "\n",
    "        #  replace 0s with 2, to get correct confusion matrix\n",
    "        preds_and_labels = predictions_df.select(['prediction',label])\n",
    "        preds_and_labels = preds_and_labels.withColumn(\"prediction\",when(preds_and_labels.prediction == 0,2).otherwise(1))\n",
    "        preds_and_labels = preds_and_labels.withColumn(label,when(preds_and_labels[label] == 0,2).otherwise(1))\n",
    "\n",
    "        # cast to float\n",
    "        preds_and_labels = preds_and_labels.select(['prediction',label]).withColumn(label, pyspark.sql.functions.col(label).cast(FloatType())).orderBy('prediction')\n",
    "        preds_and_labels = preds_and_labels.select(['prediction',label]).withColumn('prediction', pyspark.sql.functions.col('prediction').cast(FloatType())).orderBy('prediction')\n",
    "\n",
    "        pred_and_labels_rdd = preds_and_labels.rdd.map(tuple)\n",
    "        metrics = BinaryClassificationMetrics(pred_and_labels_rdd)\n",
    "\n",
    "\n",
    "\n",
    "        if model_type=='tree':\n",
    "            preds = predictions_df.select('label','probability').rdd.map(lambda row: (float(row['probability'][1]), float(row['label'])))\n",
    "            points = CurveMetrics(preds).get_curve('roc')\n",
    "            x_val = [x[0] for x in points]\n",
    "            y_val = [x[1] for x in points]\n",
    "            plt.plot(x_val, y_val, label=model_name)\n",
    "\n",
    "        else:\n",
    "            # print(\"Area under PR = %s\" ,metrics.areaUnderPR)\n",
    "            # print(\"Area under ROC = %s\" ,metrics.areaUnderROC)   \n",
    "            plt.plot(model.summary.roc.select('FPR').collect(), model.summary.roc.select('TPR').collect(), label=model_name)\n",
    "    \n",
    "    plt.plot([0, 1], [0, 1], 'r--')\n",
    "    plt.xlabel('FPR')\n",
    "    plt.ylabel('TPR')\n",
    "    plt.title(f'ROC of the {model_name}')\n",
    "    plt.legend(prop={'size': 20})\n",
    "    plt.show()"
   ]
  },
  {
   "cell_type": "markdown",
   "id": "c9bf772b-ff0d-41a6-9b79-7926dd7d2fbf",
   "metadata": {},
   "source": [
    "### Metrics"
   ]
  },
  {
   "cell_type": "code",
   "execution_count": 99,
   "id": "38169ea0-2270-4e07-b6b5-7632ff0c151d",
   "metadata": {
    "tags": []
   },
   "outputs": [],
   "source": [
    "# evaluate(best_lr_model, best_lr_test_preds, 'label', 'Logistic Regression')\n",
    "# evaluate(best_gbt_model, best_gbt_predictions, 'label', 'GBT Classifier')\n",
    "# evaluate(best_lsvc_model, best_lsvc_predictions, 'label', 'Linear SVM')"
   ]
  },
  {
   "cell_type": "markdown",
   "id": "17bca19d-0195-4587-aa29-a7c78a9a35ac",
   "metadata": {},
   "source": [
    "### ROC Curve"
   ]
  },
  {
   "cell_type": "code",
   "execution_count": 115,
   "id": "0d30a8ff-02dc-4324-a8c7-0709562ea632",
   "metadata": {},
   "outputs": [
    {
     "name": "stderr",
     "output_type": "stream",
     "text": [
      "                                                                                \r"
     ]
    },
    {
     "data": {
      "image/png": "[encoded data removed]",
      "text/plain": [
       "<Figure size 1080x1080 with 1 Axes>"
      ]
     },
     "metadata": {
      "needs_background": "light"
     },
     "output_type": "display_data"
    },
    {
     "name": "stderr",
     "output_type": "stream",
     "text": [
      "----------------------------------------                            (0 + 3) / 4]\n",
      "Exception happened during processing of request from ('127.0.0.1', 53964)\n",
      "ERROR:root:Exception while sending command.\n",
      "Traceback (most recent call last):\n",
      "  File \"/usr/local/lib/python3.8/dist-packages/py4j/clientserver.py\", line 480, in send_command\n",
      "    raise Py4JNetworkError(\"Answer from Java side is empty\")\n",
      "py4j.protocol.Py4JNetworkError: Answer from Java side is empty\n",
      "\n",
      "During handling of the above exception, another exception occurred:\n",
      "\n",
      "Traceback (most recent call last):\n",
      "  File \"/usr/local/lib/python3.8/dist-packages/py4j/java_gateway.py\", line 1038, in send_command\n",
      "    response = connection.send_command(command)\n",
      "  File \"/usr/local/lib/python3.8/dist-packages/py4j/clientserver.py\", line 503, in send_command\n",
      "    raise Py4JNetworkError(\n",
      "py4j.protocol.Py4JNetworkError: Error while sending or receiving\n",
      "Traceback (most recent call last):\n",
      "  File \"/usr/lib/python3.8/socketserver.py\", line 316, in _handle_request_noblock\n",
      "    self.process_request(request, client_address)\n",
      "  File \"/usr/lib/python3.8/socketserver.py\", line 347, in process_request\n",
      "    self.finish_request(request, client_address)\n",
      "  File \"/usr/lib/python3.8/socketserver.py\", line 360, in finish_request\n",
      "    self.RequestHandlerClass(request, client_address, self)\n",
      "  File \"/usr/lib/python3.8/socketserver.py\", line 747, in __init__\n",
      "    self.handle()\n",
      "  File \"/usr/local/lib/python3.8/dist-packages/pyspark/accumulators.py\", line 262, in handle\n",
      "    poll(accum_updates)\n",
      "  File \"/usr/local/lib/python3.8/dist-packages/pyspark/accumulators.py\", line 235, in poll\n",
      "    if func():\n",
      "  File \"/usr/local/lib/python3.8/dist-packages/pyspark/accumulators.py\", line 239, in accum_updates\n",
      "    num_updates = read_int(self.rfile)\n",
      "  File \"/usr/local/lib/python3.8/dist-packages/pyspark/serializers.py\", line 564, in read_int\n",
      "    raise EOFError\n",
      "EOFError\n",
      "----------------------------------------\n",
      "ERROR:root:Exception while sending command.\n",
      "Traceback (most recent call last):\n",
      "  File \"/usr/local/lib/python3.8/dist-packages/py4j/clientserver.py\", line 475, in send_command\n",
      "    answer = smart_decode(self.stream.readline()[:-1])\n",
      "  File \"/usr/lib/python3.8/socket.py\", line 669, in readinto\n",
      "    return self._sock.recv_into(b)\n",
      "ConnectionResetError: [Errno 104] Connection reset by peer\n",
      "\n",
      "During handling of the above exception, another exception occurred:\n",
      "\n",
      "Traceback (most recent call last):\n",
      "  File \"/usr/local/lib/python3.8/dist-packages/py4j/java_gateway.py\", line 1038, in send_command\n",
      "    response = connection.send_command(command)\n",
      "  File \"/usr/local/lib/python3.8/dist-packages/py4j/clientserver.py\", line 503, in send_command\n",
      "    raise Py4JNetworkError(\n",
      "py4j.protocol.Py4JNetworkError: Error while sending or receiving\n"
     ]
    }
   ],
   "source": [
    "\n",
    "args = [\n",
    "    [best_gbt_model, best_gbt_predictions, 'label', 'Gradient Boosted Tree Classifier', 'tree'],\n",
    "    [best_lr_model, best_lr_test_preds, 'label', 'Logistic Regression', 'lr'],\n",
    "    [best_rf_model, best_rf_predictions, 'label', 'Random forest Classifier', 'tree'],\n",
    "    [best_dtree_model, best_dtree_predictions, 'label', 'Decision Tree', 'tree']\n",
    "]\n",
    "plot_roc(args)"
   ]
  },
  {
   "cell_type": "markdown",
   "id": "425b2599-609e-45ff-8fe1-6a455dcbbe18",
   "metadata": {},
   "source": [
    "## 6. Conclusion <a class=\"anchor\" id=\"conclusion\"></a>\n",
    "Challenges & solutions  \n",
    "Insights gained  \n",
    "Future work  \n",
    "Limitations"
   ]
  },
  {
   "cell_type": "markdown",
   "id": "fb333a8d-79e1-46fe-a488-42f1bfb87747",
   "metadata": {},
   "source": [
    "## 7. Tear Down: <a class=\"anchor\" id=\"stop\"></a>"
   ]
  },
  {
   "cell_type": "code",
   "execution_count": null,
   "id": "4ee118c4-f8cd-4423-a577-19e15c4b8e59",
   "metadata": {},
   "outputs": [],
   "source": [
    "# spark.stop()"
   ]
  },
  {
   "cell_type": "code",
   "execution_count": null,
   "id": "acbf96b8-73eb-46e4-ab70-298717a20beb",
   "metadata": {},
   "outputs": [],
   "source": []
  }
 ],
 "metadata": {
  "kernelspec": {
   "display_name": "Python 3 (ipykernel)",
   "language": "python",
   "name": "python3"
  },
  "language_info": {
   "codemirror_mode": {
    "name": "ipython",
    "version": 3
   },
   "file_extension": ".py",
   "mimetype": "text/x-python",
   "name": "python",
   "nbconvert_exporter": "python",
   "pygments_lexer": "ipython3",
   "version": "3.8.10"
  }
 },
 "nbformat": 4,
 "nbformat_minor": 5
}
