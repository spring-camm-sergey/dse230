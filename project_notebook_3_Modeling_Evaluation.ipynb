{
 "cells": [
  {
   "cell_type": "markdown",
   "id": "10fe3fa3-dd8d-4e4f-b7d4-e9b155e7ce2b",
   "metadata": {
    "tags": []
   },
   "source": [
    "### DSE-230 Final Project\n",
    "## Diabetes Risk Prediction from Personal Health Indicators\n",
    "### Notebook 3: Modeling and Evaluation\n",
    "***\n",
    "#### Chunxia Tong  \n",
    "#### Camm Perera\n",
    "#### Sergey Gurvich\n",
    "\n",
    "***\n",
    "## Table of Contents:\n",
    "\n",
    "* [1. Notebook Setup](#project_description)\n",
    "    * [1.1 Imports](#imports)\n",
    "    * [1.2 Start Spark Session](#start_spark_session)\n",
    "    * [1.3 Read Data](#read_data)\n",
    "* [2. Feature Transformation](#feature_transformation)\n",
    "* [3. Modeling](#modeling)\n",
    "    * [3.1 Logistic Regression](#log_reg)\n",
    "    * [3.2 Linear SVM](#lsvm)\n",
    "    * [3.3 Decision Tree](#dtree)\n",
    "    * [3.4 Gradient Boosted Tree Classifier](#gbtc)\n",
    "    * [3.5 Random Forest Classifier](#rfc)\n",
    "* [4. Results Evaluation](#evaluation)\n",
    "    * [4.1 Selection of the Best Model](#evaluation)\n",
    "    * [4.2 ROC Curves for Train and Test Data](#roc)\n",
    "* [5. Stop Spark Session](#stop)\n",
    "***"
   ]
  },
  {
   "cell_type": "markdown",
   "id": "dbb88d72-6991-4b70-81e7-7a60353a96fb",
   "metadata": {
    "tags": []
   },
   "source": [
    "### 1. Notebook Setup <a class=\"anchor\" id=\"setup\"></a>\n",
    "Please read Readme file located in https://github.com/spring-camm-sergey/dse230/blob/main/README.txt\n",
    "\n",
    "**Prerequisite: The notebook #2 should be executed and produce the file 'df_features_transformation.csv' in HDFS root directory.**\n",
    "\n",
    "#### 1.1 Imports <a class=\"anchor\" id=\"imports\"></a>"
   ]
  },
  {
   "cell_type": "code",
   "execution_count": 1,
   "id": "72a1f27e-ffdb-4b23-8814-60b247579c23",
   "metadata": {},
   "outputs": [],
   "source": [
    "%matplotlib inline \n",
    "\n",
    "import matplotlib.pyplot as plt\n",
    "import pyspark\n",
    "# import numpy as np\n",
    "from pyspark.sql import SparkSession\n",
    "from pyspark.sql.functions import col, isnan, when, count\n",
    "from pyspark.sql.types import FloatType\n",
    "from pyspark.ml import Pipeline\n",
    "from pyspark.ml.classification import LinearSVC, LogisticRegression, DecisionTreeClassifier, GBTClassifier, RandomForestClassifier\n",
    "from pyspark.ml.feature import StandardScaler, Normalizer, OneHotEncoder, VectorAssembler, StringIndexer, VectorIndexer\n",
    "from pyspark.ml.stat import Correlation\n",
    "from pyspark.ml.evaluation import BinaryClassificationEvaluator, MulticlassClassificationEvaluator\n",
    "from pyspark.mllib.evaluation import BinaryClassificationMetrics, MulticlassMetrics\n",
    "from pyspark.ml.tuning import CrossValidator, ParamGridBuilder"
   ]
  },
  {
   "cell_type": "markdown",
   "id": "2e0c8cbb-cf30-45fd-8623-69a9dcbb4f97",
   "metadata": {},
   "source": [
    "#### 1.2 Start Spark Session <a class=\"anchor\" id=\"start_spark_session\"></a>"
   ]
  },
  {
   "cell_type": "code",
   "execution_count": 2,
   "id": "205c3bb3-36a4-40b3-bd53-3f7149fd69d6",
   "metadata": {},
   "outputs": [
    {
     "name": "stderr",
     "output_type": "stream",
     "text": [
      "WARNING: An illegal reflective access operation has occurred\n",
      "WARNING: Illegal reflective access by org.apache.spark.unsafe.Platform (file:/usr/spark-3.2.1/jars/spark-unsafe_2.12-3.2.1.jar) to constructor java.nio.DirectByteBuffer(long,int)\n",
      "WARNING: Please consider reporting this to the maintainers of org.apache.spark.unsafe.Platform\n",
      "WARNING: Use --illegal-access=warn to enable warnings of further illegal reflective access operations\n",
      "WARNING: All illegal access operations will be denied in a future release\n",
      "Setting default log level to \"WARN\".\n",
      "To adjust logging level use sc.setLogLevel(newLevel). For SparkR, use setLogLevel(newLevel).\n",
      "2022-05-31 00:12:15,068 WARN util.NativeCodeLoader: Unable to load native-hadoop library for your platform... using builtin-java classes where applicable\n"
     ]
    },
    {
     "data": {
      "text/plain": [
       "'3.2.1'"
      ]
     },
     "execution_count": 2,
     "metadata": {},
     "output_type": "execute_result"
    }
   ],
   "source": [
    "conf = pyspark.SparkConf().setAll([('spark.master', 'local[*]'),\n",
    "                                   ('spark.app.name', 'Basic Setup'),\n",
    "                                    ('spark.memory.offHeap.enabled', True),\n",
    "                                    ('spark.memory.offHeap.size','8g'),\n",
    "                                    ('spark.executor.memory', '16g'), \n",
    "                                    ('spark.driver.memory','16g')\n",
    "                                  ]\n",
    "                                  )\n",
    "spark = SparkSession.builder.config(conf=conf).getOrCreate()\n",
    "spark.sparkContext.setLogLevel('OFF')\n",
    "spark.version"
   ]
  },
  {
   "cell_type": "markdown",
   "id": "7b47beaa-f334-4790-9402-28329dc6d489",
   "metadata": {},
   "source": [
    "#### 1.3 Read Data <a class=\"anchor\" id=\"read_data\"></a>\n",
    "**Prerequisite: The notebook #2 should be executed and produce the file 'df_features_transformation.csv' in HDFS root directory.**"
   ]
  },
  {
   "cell_type": "code",
   "execution_count": 3,
   "id": "70ada890-62b2-4cbf-a801-2c87b94ec8a0",
   "metadata": {},
   "outputs": [],
   "source": [
    "# main dataset\n",
    "df_features_transformation = spark.read.option(\"header\", True).csv('hdfs:///df_features_transformation.csv', inferSchema=True)"
   ]
  },
  {
   "cell_type": "markdown",
   "id": "face7b9f-683a-4157-95c9-5b9365d9771a",
   "metadata": {
    "tags": []
   },
   "source": [
    "### 2. Feature Transformation <a class=\"anchor\" id=\"feature_transformation\"></a>"
   ]
  },
  {
   "cell_type": "code",
   "execution_count": 4,
   "id": "61e5419a-f005-46bc-9ed3-e3d41202c98c",
   "metadata": {},
   "outputs": [],
   "source": [
    "# do backup for using with models, that don't require one-hot encoding and scaling\n",
    "df_features_transformation_backup = df_features_transformation"
   ]
  },
  {
   "cell_type": "markdown",
   "id": "eb6703f7-7d69-4411-b4bf-12ee51d7f8a8",
   "metadata": {},
   "source": [
    "##### One-hot encoding"
   ]
  },
  {
   "cell_type": "code",
   "execution_count": 5,
   "id": "505448bf-e0fa-4543-b73e-0844bee581ca",
   "metadata": {},
   "outputs": [
    {
     "name": "stdout",
     "output_type": "stream",
     "text": [
      "+------+-----+------+--------+-------+-----+-------------+-------------+-------------+-------------+-------------+-------------+-------------+\n",
      "|_AGE80|_BMI5|_MICHD|_DRDXAR2|ALCDAY5|label|   GENHLTH_OH|   EMPLOY1_OH|  DIFFWALK_OH|  RMVTETH4_OH|  EXERANY2_OH|  CHECKUP1_OH|  PNEUVAC4_OH|\n",
      "+------+-----+------+--------+-------+-----+-------------+-------------+-------------+-------------+-------------+-------------+-------------+\n",
      "|    56| 1660|     0|       1|      0|    1|(7,[2],[1.0])|(8,[4],[1.0])|(7,[2],[1.0])|(7,[2],[1.0])|(7,[1],[1.0])|(7,[4],[1.0])|(7,[2],[1.0])|\n",
      "+------+-----+------+--------+-------+-----+-------------+-------------+-------------+-------------+-------------+-------------+-------------+\n",
      "only showing top 1 row\n",
      "\n"
     ]
    }
   ],
   "source": [
    "# df_features_transformation = df_features_transformation_backup\n",
    "\n",
    "# columns to transform\n",
    "one_hot_cols_inp = ['GENHLTH', 'EMPLOY1', 'DIFFWALK', 'RMVTETH4', 'EXERANY2', 'CHECKUP1', 'PNEUVAC4']\n",
    "# transformed colums will have '_OH' suffix in the name\n",
    "one_hot_cols_outp = [x+'_OH' for x in one_hot_cols_inp]\n",
    "\n",
    "# do the transformation\n",
    "encoder = OneHotEncoder(\n",
    "    inputCols=one_hot_cols_inp,  \n",
    "    outputCols=one_hot_cols_outp\n",
    ")\n",
    "model = encoder.fit(df_features_transformation)\n",
    "df_features_transformation = model.transform(df_features_transformation)\n",
    "\n",
    "# drop original columns\n",
    "df_features_transformation = df_features_transformation.drop(*one_hot_cols_inp)\n",
    "\n",
    "df_features_transformation.show(1)"
   ]
  },
  {
   "cell_type": "markdown",
   "id": "1faa9aaa-2702-4717-8b1b-6dcddbfc4b75",
   "metadata": {},
   "source": [
    "##### Logistic Regession and LSVM Models: Test/Training Data Splitting,  Scaling, Normalizing"
   ]
  },
  {
   "cell_type": "code",
   "execution_count": 6,
   "id": "27e138d1-3b58-4d57-80bb-4fc073d99e74",
   "metadata": {},
   "outputs": [
    {
     "name": "stderr",
     "output_type": "stream",
     "text": [
      "                                                                                \r"
     ]
    },
    {
     "name": "stdout",
     "output_type": "stream",
     "text": [
      "Training Dataset Count: 66732\n"
     ]
    },
    {
     "name": "stderr",
     "output_type": "stream",
     "text": [
      "                                                                                \r"
     ]
    },
    {
     "name": "stdout",
     "output_type": "stream",
     "text": [
      "Test Dataset Count: 16823\n"
     ]
    },
    {
     "name": "stderr",
     "output_type": "stream",
     "text": [
      "                                                                                \r"
     ]
    },
    {
     "name": "stdout",
     "output_type": "stream",
     "text": [
      "+------+-----+------+--------+-------+-----+-------------+-------------+-------------+-----------+-------------+-------------+-----------+--------------------+--------------------+--------------------+\n",
      "|_AGE80|_BMI5|_MICHD|_DRDXAR2|ALCDAY5|label|   GENHLTH_OH|   EMPLOY1_OH|  DIFFWALK_OH|RMVTETH4_OH|  EXERANY2_OH|  CHECKUP1_OH|PNEUVAC4_OH|   features_unscaled|     features_scaled|            features|\n",
      "+------+-----+------+--------+-------+-----+-------------+-------------+-------------+-----------+-------------+-------------+-----------+--------------------+--------------------+--------------------+\n",
      "|    18| 1481|     0|       0|      0|    0|(7,[4],[1.0])|(8,[6],[1.0])|(7,[2],[1.0])|  (7,[],[])|(7,[2],[1.0])|(7,[1],[1.0])|  (7,[],[])|(55,[0,1,9,18,22,...|[-2.4727548953379...|[-0.2711456021676...|\n",
      "+------+-----+------+--------+-------+-----+-------------+-------------+-------------+-----------+-------------+-------------+-----------+--------------------+--------------------+--------------------+\n",
      "only showing top 1 row\n",
      "\n"
     ]
    },
    {
     "name": "stderr",
     "output_type": "stream",
     "text": [
      "                                                                                \r"
     ]
    }
   ],
   "source": [
    "# assemble all features in vector\n",
    "col_feature_names = list(df_features_transformation.columns)\n",
    "col_feature_names.remove('label')\n",
    "vecAssembler = VectorAssembler(inputCols = col_feature_names, outputCol=\"features_unscaled\")\n",
    "df_features_transformation_unscaled = vecAssembler.transform(df_features_transformation)\n",
    "\n",
    "# Generalization: split to test and train dataframes\n",
    "train, test = df_features_transformation_unscaled.randomSplit([0.8, 0.2], seed=42)\n",
    "print(\"Training Dataset Count: \" + str(train.count()))\n",
    "print(\"Test Dataset Count: \" + str(test.count()))\n",
    "\n",
    "# scale data\n",
    "standardScaler = StandardScaler(inputCol='features_unscaled', outputCol='features_scaled', withMean=True, withStd=True)\n",
    "model = standardScaler.fit(train)\n",
    "scaled_train = model.transform(train)\n",
    "scaled_test= model.transform(test)\n",
    "\n",
    "# normalize data\n",
    "normalizer = Normalizer(p=2.0, inputCol='features_scaled', outputCol='features')\n",
    "scaled_train = normalizer.transform(scaled_train)\n",
    "scaled_test= normalizer.transform(scaled_test)\n",
    "\n",
    "scaled_train.show(1)"
   ]
  },
  {
   "cell_type": "markdown",
   "id": "8025a7d0-0f8c-4829-ae8c-55022c7a3e39",
   "metadata": {},
   "source": [
    "##### Tree Based Models: Test/Training Data Splitting, Feature Indexing"
   ]
  },
  {
   "cell_type": "code",
   "execution_count": 7,
   "id": "e0d2ff14-4031-498a-a06b-d89de604c06e",
   "metadata": {},
   "outputs": [],
   "source": [
    "# make backup of data for many cycles of running\n",
    "df_features_transformation_backup1 = df_features_transformation_backup\n",
    "data = df_features_transformation_backup1\n",
    "\n",
    "# assemble all features in vector\n",
    "col_feature_names = list(data.columns)\n",
    "col_feature_names.remove('label')\n",
    "vec_assembler = VectorAssembler(inputCols = col_feature_names, outputCol=\"features\")\n",
    "data = vec_assembler.transform(data)\n",
    "\n",
    "# to recognize categorical features\n",
    "feature_indexer = VectorIndexer(inputCol=\"features\", outputCol=\"indexedFeatures\", maxCategories=10)\n",
    "data = feature_indexer.fit(data).transform(data)\n",
    "\n",
    "# drop features columns\n",
    "data = data.drop(*col_feature_names, 'features')\n",
    "\n",
    "# Split the data\n",
    "(train_data, test_data) = data.randomSplit([0.8, 0.2], seed=42)"
   ]
  },
  {
   "cell_type": "markdown",
   "id": "08efb754-b7ce-44df-9a11-ba899bec9c24",
   "metadata": {
    "tags": []
   },
   "source": [
    "## 3. Modeling <a class=\"anchor\" id=\"modeling\"></a>"
   ]
  },
  {
   "cell_type": "markdown",
   "id": "20dad5a6-058f-48cb-839e-355343602b28",
   "metadata": {},
   "source": [
    "##### The function for models evaluation"
   ]
  },
  {
   "cell_type": "code",
   "execution_count": 8,
   "id": "94957620-6f25-479f-9236-2c24ca6e3d83",
   "metadata": {
    "tags": []
   },
   "outputs": [],
   "source": [
    "def evaluate(model, predictions_df, label='', model_name=''):\n",
    "    \"\"\"\n",
    "    The function calculates the evaluation metrics for the models.\n",
    "    \n",
    "    :param Model Object model: - model object after fitting the data\n",
    "    :param DataFrame predictions_df - DataFrame with label and predicted values\n",
    "    :param str label - the name of column with labels\n",
    "    :param str model_name - name of the model for priting the title\n",
    "    :return: None\n",
    "    \"\"\"\n",
    "    #  replace 0s with 2, to get correct confusion matrix\n",
    "    preds_and_labels = predictions_df.select(['prediction',label])\n",
    "    preds_and_labels = preds_and_labels.withColumn(\"prediction\",when(preds_and_labels.prediction == 0,2).otherwise(1))\n",
    "    preds_and_labels = preds_and_labels.withColumn(label,when(preds_and_labels[label] == 0,2).otherwise(1))\n",
    "\n",
    "    # cast to float\n",
    "    preds_and_labels = preds_and_labels.select(['prediction',label]).withColumn(label, pyspark.sql.functions.col(label).cast(FloatType())).orderBy('prediction')\n",
    "    preds_and_labels = preds_and_labels.select(['prediction',label]).withColumn('prediction', pyspark.sql.functions.col('prediction').cast(FloatType())).orderBy('prediction')\n",
    "\n",
    "    pred_and_labels_rdd = preds_and_labels.rdd.map(tuple)\n",
    "    \n",
    "    metrics = MulticlassMetrics(pred_and_labels_rdd)\n",
    "    metrics.confusionMatrix().toArray()\n",
    "    \n",
    "    print(f\"Evaluation of {model_name}\")\n",
    "    print(\"accuracy:\",metrics.accuracy)\n",
    "    print(\"test error:\",(1 - metrics.accuracy))\n",
    "    print(\"precision:\",metrics.precision(2))\n",
    "    print(\"recall:\",metrics.recall(2))\n",
    "    print(\"\\n confusionMatrix:\\n\",metrics.confusionMatrix().toArray(),'\\n')\n",
    "    print(\"fMeasure:\" ,metrics.fMeasure(2.0, 1.0))\n"
   ]
  },
  {
   "cell_type": "markdown",
   "id": "700a2c97-6499-4322-9617-ec43fcda6318",
   "metadata": {},
   "source": [
    "### 3.1 Logistic Regression  <a class=\"anchor\" id=\"log_reg\"></a>\n",
    "#### Tune Decision Tree Model:\n",
    "- Fit model to train data\n",
    "- Use KFold Cross Validation K=10\n",
    "- Iterate through different combinations of hyperparameters to find the best metric"
   ]
  },
  {
   "cell_type": "code",
   "execution_count": 9,
   "id": "16265cc8-232e-42cd-be33-6d62b35818cf",
   "metadata": {
    "tags": []
   },
   "outputs": [],
   "source": [
    "# This code is commented out, because it can take hours to run it. The output is provided in the next merkdown cell.\n",
    "\n",
    "# %%time\n",
    "\n",
    "# lr_model = LogisticRegression(featuresCol ='features',labelCol='label') \n",
    "\n",
    "# # Sequence stages\n",
    "# pipeline = Pipeline(stages=[lr_model])\n",
    "\n",
    "# # Hyper parameter tuning\n",
    "# lr_param_grid = ParamGridBuilder()\\\n",
    "#             .addGrid(lr_model.elasticNetParam,[0.0, 0.5, 1.0])\\\n",
    "#             .addGrid(lr_model.fitIntercept,[False, True])\\\n",
    "#             .addGrid(lr_model.maxIter,[10, 30, 50, 1000])\\\n",
    "#             .addGrid(lr_model.family, ['binomial']) \\\n",
    "#             .addGrid(lr_model.regParam, [0.0001, 0.001, 0.1, 1.0, 2.0]) \\\n",
    "#             .build()\n",
    "\n",
    "# # Cross validation\n",
    "# lr_cross_val = CrossValidator(estimator = pipeline,\n",
    "#                          estimatorParamMaps = lr_param_grid,\n",
    "#                          evaluator = BinaryClassificationEvaluator(),\n",
    "#                          numFolds = 10)\n",
    "\n",
    "# lr_fit_model = lr_cross_val.fit(scaled_train)\n",
    "\n",
    "# # Best model params:\n",
    "# best_params_idx = np.argmax(lr_fit_model.avgMetrics)\n",
    "# print(f\"{lr_param_grid[best_params_idx]} \\nAVG Metric: {lr_fit_model.avgMetrics[best_params_idx]}\\n\")"
   ]
  },
  {
   "cell_type": "markdown",
   "id": "f9742af4-45bb-4451-bc33-c5aff5861657",
   "metadata": {},
   "source": [
    "##### NOTE: THIS IS SAVED OUTPUT. RE-RUNNING THE CELL CAN TAKE HOURS:**\n",
    "\n",
    "{Param(parent='LogisticRegression_b52edbd3bc0f', name='elasticNetParam', doc='the ElasticNet mixing parameter, in range [0, 1]. For alpha = 0, the penalty is an L2 penalty. For alpha = 1, it is an L1 penalty.'): 1.0, Param(parent='LogisticRegression_b52edbd3bc0f', name='fitIntercept', doc='whether to fit an intercept term.'): False, Param(parent='LogisticRegression_b52edbd3bc0f', name='maxIter', doc='max number of iterations (>= 0).'): 30, Param(parent='LogisticRegression_b52edbd3bc0f', name='family', doc='The name of family which is a description of the label distribution to be used in the model. Supported options: auto, binomial, multinomial'): 'binomial', Param(parent='LogisticRegression_b52edbd3bc0f', name='regParam', doc='regularization parameter (>= 0).'): 0.0001} \n",
    "AVG Metric: 0.8267837084585531\n",
    "\n",
    "CPU times: user 26 s, sys: 15.3 s, total: 41.4 s\n",
    "Wall time: 45min 47s"
   ]
  },
  {
   "cell_type": "markdown",
   "id": "d821cd47-4f60-4c2a-ba15-b08d24a92ef9",
   "metadata": {},
   "source": [
    "##### Evaluate the model with unseen data and best hyperparameters combination"
   ]
  },
  {
   "cell_type": "code",
   "execution_count": 10,
   "id": "128f3a31-cd7b-4f95-a598-e61da8108b6b",
   "metadata": {},
   "outputs": [
    {
     "name": "stderr",
     "output_type": "stream",
     "text": [
      "/usr/local/lib/python3.8/dist-packages/pyspark/sql/context.py:125: FutureWarning: Deprecated in 3.0.0. Use SparkSession.builder.getOrCreate() instead.\n",
      "  warnings.warn(\n",
      "                                                                                \r"
     ]
    },
    {
     "name": "stdout",
     "output_type": "stream",
     "text": [
      "Evaluation of Logistic Regression Train Data\n",
      "accuracy: 0.7502997062878379\n",
      "test error: 0.24970029371216207\n",
      "precision: 0.7741671842819314\n",
      "recall: 0.7082485943294653\n",
      "\n",
      " confusionMatrix:\n",
      " [[26388.  6908.]\n",
      " [ 9755. 23681.]] \n",
      "\n",
      "fMeasure: 0.7397422881686841\n"
     ]
    },
    {
     "name": "stderr",
     "output_type": "stream",
     "text": [
      "/usr/local/lib/python3.8/dist-packages/pyspark/sql/context.py:125: FutureWarning: Deprecated in 3.0.0. Use SparkSession.builder.getOrCreate() instead.\n",
      "  warnings.warn(\n",
      "                                                                                \r"
     ]
    },
    {
     "name": "stdout",
     "output_type": "stream",
     "text": [
      "Evaluation of Logistic Regression Test Data\n",
      "accuracy: 0.7533139154728645\n",
      "test error: 0.24668608452713547\n",
      "precision: 0.7694884679809303\n",
      "recall: 0.7166686667466698\n",
      "\n",
      " confusionMatrix:\n",
      " [[6701. 1789.]\n",
      " [2361. 5972.]] \n",
      "\n",
      "fMeasure: 0.7421399279234496\n"
     ]
    }
   ],
   "source": [
    "# Cross validation\n",
    "best_lr_model = LogisticRegression(featuresCol ='features'\n",
    "                              ,labelCol='label',maxIter=30, regParam=0.0001, family= 'binomial'\n",
    "                              ,fitIntercept=False , elasticNetParam=1.0).fit(scaled_train)\n",
    "\n",
    "best_lr_preds_train = best_lr_model.transform(scaled_train)\n",
    "best_lr_preds_test = best_lr_model.transform(scaled_test)\n",
    "\n",
    "evaluate(best_lr_model, best_lr_preds_train, 'label', 'Logistic Regression Train Data')\n",
    "evaluate(best_lr_model, best_lr_preds_test, 'label', 'Logistic Regression Test Data')"
   ]
  },
  {
   "cell_type": "markdown",
   "id": "55abf313-8dbf-4fb7-9471-80bde493ad66",
   "metadata": {},
   "source": [
    "### 3.2 Linear SVM  <a class=\"anchor\" id=\"lsvm\"></a>\n",
    "#### Tune Linear SVM  Model:\n",
    "- Fit model to train data\n",
    "- Use KFold Cross Validation K=10\n",
    "- Iterate through different combinations of hyperparameters to find the best metric"
   ]
  },
  {
   "cell_type": "code",
   "execution_count": 11,
   "id": "4cab26f7-681a-4487-b070-39b0da8bb0ff",
   "metadata": {},
   "outputs": [],
   "source": [
    "# This code is commented out, because it can take hours to run it. The output is provided in the next merkdown cell.\n",
    "\n",
    "# %%time\n",
    "# lsvc_model = LinearSVC(featuresCol ='features',labelCol='label')\n",
    "\n",
    "# # Sequence stages\n",
    "# pipeline = Pipeline(stages=[lsvc_model])\n",
    "\n",
    "# # Hyper parameter tuning\n",
    "# lsvc_param_grid = ParamGridBuilder()\\\n",
    "#             .addGrid(lsvc_model.threshold,[0.0,0.1, 0.2])\\\n",
    "#             .addGrid(lsvc_model.aggregationDepth, [2,4,6])\\\n",
    "#             .addGrid(lsvc_model.tol,[0.001, 0.1, 1.0])\\\n",
    "#             .addGrid(lsvc_model.regParam, [0.0001, 0.001, 0.1, 1.0, 10.0]) \\\n",
    "#             .addGrid(lsvc_model.fitIntercept,[False, True])\\\n",
    "#             .addGrid(lsvc_model.maxIter,[100, 1000, 10000])\\\n",
    "#             .build()\n",
    "\n",
    "# # Cross validation\n",
    "# lsvc_cross_val = CrossValidator(estimator = pipeline,\n",
    "#                          estimatorParamMaps = lsvc_param_grid,\n",
    "#                          evaluator = BinaryClassificationEvaluator(),\n",
    "#                          numFolds = 10)\n",
    "\n",
    "# lsvc_fit_model = lsvc_cross_val.fit(scaled_train)\n",
    "\n",
    "# # Best model params:\n",
    "# lsvc_best_params_idx = np.argmax(lsvc_fit_model.avgMetrics)\n",
    "# print(f\"{lsvc_param_grid[lsvc_best_params_idx]} \\nAVG Metric: {lsvc_fit_model.avgMetrics[lsvc_best_params_idx]}\\n\")"
   ]
  },
  {
   "cell_type": "markdown",
   "id": "c48f80ce-7a10-4a18-830e-1b8ff0bde7b4",
   "metadata": {},
   "source": [
    "##### NOTE: THIS IS SAVED OUTPUT. RE-RUNNING THE CELL CAN TAKE HOURS:**\n",
    "\n",
    "{Param(parent='LinearSVC_58ed1f58e665', name='threshold', doc='The threshold in binary classification applied to the linear model prediction.  This threshold can be any real number, where Inf will make all predictions 0.0 and -Inf will make all predictions 1.0.'): 0.0, Param(parent='LinearSVC_58ed1f58e665', name='aggregationDepth', doc='suggested depth for treeAggregate (>= 2).'): 6, Param(parent='LinearSVC_58ed1f58e665', name='tol', doc='the convergence tolerance for iterative algorithms (>= 0).'): 0.001, Param(parent='LinearSVC_58ed1f58e665', name='regParam', doc='regularization parameter (>= 0).'): 0.0001, Param(parent='LinearSVC_58ed1f58e665', name='fitIntercept', doc='whether to fit an intercept term.'): False, Param(parent='LinearSVC_58ed1f58e665', name='maxIter', doc='max number of iterations (>= 0).'): 1000} \n",
    "AVG Metric: 0.8259948979482298\n",
    "\n",
    "CPU times: user 2min 18s, sys: 1min 33s, total: 3min 52s\n",
    "Wall time: 2h 11s"
   ]
  },
  {
   "cell_type": "markdown",
   "id": "49e78614-84c9-41a5-9548-52ebf2d07139",
   "metadata": {},
   "source": [
    "##### Test with unseen data and best hyperparameters combination"
   ]
  },
  {
   "cell_type": "code",
   "execution_count": 12,
   "id": "67fdfd16-42df-4f0d-9f75-6da952f721a2",
   "metadata": {},
   "outputs": [
    {
     "name": "stderr",
     "output_type": "stream",
     "text": [
      "                                                                                \r"
     ]
    },
    {
     "name": "stdout",
     "output_type": "stream",
     "text": [
      "Evaluation of Linear SVM Train Data\n",
      "accuracy: 0.749715279026554\n",
      "test error: 0.250284720973446\n",
      "precision: 0.7737534354142128\n",
      "recall: 0.7072915420504845\n",
      "\n",
      " confusionMatrix:\n",
      " [[26381.  6915.]\n",
      " [ 9787. 23649.]] \n",
      "\n",
      "fMeasure: 0.73903125\n"
     ]
    },
    {
     "name": "stderr",
     "output_type": "stream",
     "text": [
      "[Stage 148:>                                                        (0 + 1) / 1]\r"
     ]
    },
    {
     "name": "stdout",
     "output_type": "stream",
     "text": [
      "Evaluation of Linear SVM Test Data\n",
      "accuracy: 0.7539677822029365\n",
      "test error: 0.24603221779706352\n",
      "precision: 0.7700231779551893\n",
      "recall: 0.717628705148206\n",
      "\n",
      " confusionMatrix:\n",
      " [[6704. 1786.]\n",
      " [2353. 5980.]] \n",
      "\n",
      "fMeasure: 0.74290328591838\n"
     ]
    },
    {
     "name": "stderr",
     "output_type": "stream",
     "text": [
      "                                                                                \r"
     ]
    }
   ],
   "source": [
    "best_lsvc_model = LinearSVC(regParam=0.0001, threshold=0, aggregationDepth=6, tol=0.001,\n",
    "                           fitIntercept=False, maxIter=1000).fit(scaled_train)\n",
    "\n",
    "best_lsvc_predictions_train = best_lsvc_model.transform(scaled_train)\n",
    "best_lsvc_predictions_test = best_lsvc_model.transform(scaled_test)\n",
    "\n",
    "evaluate(best_lsvc_model, best_lsvc_predictions_train, 'label', 'Linear SVM Train Data')\n",
    "evaluate(best_lsvc_model, best_lsvc_predictions_test, 'label', 'Linear SVM Test Data')"
   ]
  },
  {
   "cell_type": "markdown",
   "id": "6f3521b7-3f3b-4746-a8bc-fdda56146142",
   "metadata": {},
   "source": [
    "### 3.3 Decision Tree  <a class=\"anchor\" id=\"dtree\"></a>"
   ]
  },
  {
   "cell_type": "markdown",
   "id": "1246fac0-85b4-4f64-974e-24f4d79e63c3",
   "metadata": {},
   "source": [
    "#### Tune Decision Tree Model:\n",
    "- Fit model to train data\n",
    "- Use KFold Cross Validation K=10\n",
    "- Iterate through different combinations of hyperparameters to find the best metric"
   ]
  },
  {
   "cell_type": "code",
   "execution_count": 13,
   "id": "ded7d7da-5972-472d-ab3e-2289bc17fcc1",
   "metadata": {},
   "outputs": [],
   "source": [
    "# This code is commented out, because it can take hours to run it. The output is provided in the next merkdown cell.\n",
    "\n",
    "# %%time\n",
    "# # base model\n",
    "# dt_model = DecisionTreeClassifier(labelCol=\"label\", featuresCol=\"indexedFeatures\")\n",
    "\n",
    "# # Sequence stages\n",
    "# # pipeline = Pipeline(stages=[dt])\n",
    "\n",
    "# '''\n",
    "# class pyspark.ml.classification.DecisionTreeClassifier(*, featuresCol='features', labelCol='label', predictionCol='prediction', probabilityCol='probability', \n",
    "# rawPredictionCol='rawPrediction', maxDepth=5, maxBins=32, minInstancesPerNode=1, minInfoGain=0.0, maxMemoryInMB=256, cacheNodeIds=False, \n",
    "# checkpointInterval=10, impurity='gini', seed=None, weightCol=None, leafCol='', minWeightFractionPerNode=0.0)[source]\n",
    "# '''\n",
    "\n",
    "# # create combinations of hyperparameters\n",
    "# dt_param_grid = ParamGridBuilder()\\\n",
    "#             .addGrid(dt_model.maxBins,[8, 16, 32, 64])\\\n",
    "#             .addGrid(dt_model.minInstancesPerNode,[10, 100, 200, 500])\\\n",
    "#             .build()\n",
    "\n",
    "# # cross validation\n",
    "# dt_cross_val = CrossValidator(estimator = dt_model,\n",
    "#                          estimatorParamMaps = dt_param_grid,\n",
    "#                          evaluator = BinaryClassificationEvaluator(),\n",
    "#                          # evaluator = MulticlassClassificationEvaluator(),\n",
    "#                          numFolds = 10)\n",
    "\n",
    "# # run the model selection\n",
    "# cv_model = dt_cross_val.fit(train_data)\n",
    "\n",
    "# # Best model params:\n",
    "# best_params_idx = np.argmax(cv_model.avgMetrics)\n",
    "# print(f\"{dt_param_grid[best_params_idx]} \\nAVG Metric: {cv_model.avgMetrics[best_params_idx]}\\n\")"
   ]
  },
  {
   "cell_type": "markdown",
   "id": "cb9612cc-9353-4371-9d2b-a33c548244f4",
   "metadata": {},
   "source": [
    "##### NOTE: THIS IS SAVED OUTPUT. RE-RUNNING THE CELL CAN TAKE HOURS:**\n",
    "\n",
    "\n",
    "{Param(parent='DecisionTreeClassifier_4ee9c31e61a2', name='maxDepth', doc='Maximum depth of the tree. (>= 0) E.g., depth 0 means 1 leaf node; depth 1 means 1 internal node + 2 leaf nodes. Must be in range [0, 30].'): 5, Param(parent='DecisionTreeClassifier_4ee9c31e61a2', name='maxBins', doc='Max number of bins for discretizing continuous features.  Must be >=2 and >= number of categories for any categorical feature.'): 64, Param(parent='DecisionTreeClassifier_4ee9c31e61a2', name='minInstancesPerNode', doc='Minimum number of instances each child must have after split. If a split causes the left or right child to have fewer than minInstancesPerNode, the split will be discarded as invalid. Should be >= 1.'): 100} \n",
    "AVG Metric: 0.7526668075497813\n",
    "\n",
    "CPU times: user 8.68 s, sys: 6.62 s, total: 15.3 s\n",
    "Wall time: 5min 30s"
   ]
  },
  {
   "cell_type": "markdown",
   "id": "a30bcd2d-09d1-451f-87e4-a6ee2f835621",
   "metadata": {},
   "source": [
    "##### Test with unseen data and best hyperparameters combination"
   ]
  },
  {
   "cell_type": "code",
   "execution_count": 14,
   "id": "eeab9644-8ddc-4feb-8d23-34ffffa76be2",
   "metadata": {},
   "outputs": [
    {
     "name": "stderr",
     "output_type": "stream",
     "text": [
      "                                                                                \r"
     ]
    },
    {
     "name": "stdout",
     "output_type": "stream",
     "text": [
      "Evaluation of Decision Tree Train Data\n",
      "accuracy: 0.7563837439309476\n",
      "test error: 0.24361625606905235\n",
      "precision: 0.7839600158877267\n",
      "recall: 0.7088134071524764\n",
      "\n",
      " confusionMatrix:\n",
      " [[26790.  6527.]\n",
      " [ 9730. 23685.]] \n",
      "\n",
      "fMeasure: 0.7444952614456127\n"
     ]
    },
    {
     "name": "stderr",
     "output_type": "stream",
     "text": [
      "                                                                                \r"
     ]
    },
    {
     "name": "stdout",
     "output_type": "stream",
     "text": [
      "Evaluation of Decision Tree Test Data\n",
      "accuracy: 0.7419009689116091\n",
      "test error: 0.25809903108839094\n",
      "precision: 0.7642255005268704\n",
      "recall: 0.6945175963610246\n",
      "\n",
      " confusionMatrix:\n",
      " [[6679. 1790.]\n",
      " [2552. 5802.]] \n",
      "\n",
      "fMeasure: 0.7277060077762448\n"
     ]
    }
   ],
   "source": [
    "# Train a model with the best parameters\n",
    "# Note: manually found, that max_depth=15 increseases the accuracy and f-score.\n",
    "best_dtree_model = DecisionTreeClassifier(labelCol=\"label\", featuresCol=\"indexedFeatures\", maxDepth=15, maxBins=64, minInstancesPerNode=100).fit(train_data)\n",
    "\n",
    "# Make predictions.\n",
    "best_dtree_predictions_train = best_dtree_model.transform(train_data)\n",
    "best_dtree_predictions_test = best_dtree_model.transform(test_data)\n",
    "\n",
    "# evaluate\n",
    "evaluate(best_dtree_model, best_dtree_predictions_train, 'label', 'Decision Tree Train Data')\n",
    "evaluate(best_dtree_model, best_dtree_predictions_test, 'label', 'Decision Tree Test Data')"
   ]
  },
  {
   "cell_type": "markdown",
   "id": "8bea687d-8d82-4f65-a36e-ce708629e68a",
   "metadata": {},
   "source": [
    "### 3.4 Gradient Boosted Tree Classifier <a class=\"anchor\" id=\"gbtc\"></a>\n",
    "#### Tune GBT Model:\n",
    "- Fit model to train data\n",
    "- Use KFold Cross Validation K=10\n",
    "- Iterate through different combinations of hyperparameters to find the best metric"
   ]
  },
  {
   "cell_type": "code",
   "execution_count": 15,
   "id": "46b8fc72-937a-4ec5-9f86-cb0ae1a4d561",
   "metadata": {},
   "outputs": [],
   "source": [
    "# This code is commented out, because it can take hours to run it. The output is provided in the next merkdown cell.\n",
    "\n",
    "# %%time\n",
    "\n",
    "# # Train a GBT model.\n",
    "# gbt_model = GBTClassifier(labelCol=\"label\", featuresCol=\"indexedFeatures\")\n",
    "\n",
    "# '''\n",
    "# class pyspark.ml.classification.GBTClassifier(*, featuresCol='features', labelCol='label', predictionCol='prediction', maxDepth=5, maxBins=32, \n",
    "# minInstancesPerNode=1, minInfoGain=0.0, maxMemoryInMB=256, cacheNodeIds=False, checkpointInterval=10, lossType='logistic', maxIter=20, stepSize=0.1, seed=None, \n",
    "# subsamplingRate=1.0, impurity='variance', featureSubsetStrategy='all', validationTol=0.01, validationIndicatorCol=None, leafCol='', \n",
    "# minWeightFractionPerNode=0.0, weightCol=None)[source]\n",
    "# '''\n",
    "\n",
    "# # create combinations of hyperparameters\n",
    "# param_grid = ParamGridBuilder()\\\n",
    "#             .addGrid(gbt_model.maxDepth,[10, 30])\\\n",
    "#             .addGrid(gbt_model.minInstancesPerNode,[100, 200, 300, 400, 500, 1000])\\\n",
    "#             .addGrid(gbt_model.maxBins,[10])\\\n",
    "#             .addGrid(gbt_model.maxIter, [20,30,40,50,100])\\\n",
    "#             .build()\n",
    "\n",
    "# # cross validation\n",
    "# gbt_cross_val = CrossValidator(estimator = gbt_model,\n",
    "#                          estimatorParamMaps = param_grid,\n",
    "#                          evaluator = BinaryClassificationEvaluator(),\n",
    "#                          # evaluator = MulticlassClassificationEvaluator(),\n",
    "#                          numFolds = 10)\n",
    "\n",
    "# # run the model selection\n",
    "# cv_model = gbt_cross_val.fit(train_data)\n",
    "\n",
    "# # Best model params:\n",
    "# best_params_idx = np.argmax(cv_model.avgMetrics)\n",
    "# print(f\"{param_grid[best_params_idx]} \\nAVG Metric: {cv_model.avgMetrics[best_params_idx]}\\n\")"
   ]
  },
  {
   "cell_type": "markdown",
   "id": "60e39d9d-8207-4adf-8f9e-420fd4d9dea6",
   "metadata": {},
   "source": [
    "##### NOTE: THIS IS SAVED OUTPUT. RE-RUNNING THE CELL CAN TAKE HOURS:**\n",
    "\n",
    "{Param(parent='GBTClassifier_742a8b407c15', name='maxDepth', doc='Maximum depth of the tree. (>= 0) E.g., depth 0 means 1 leaf node; depth 1 means 1 internal node + 2 leaf nodes. Must be in range [0, 30].'): 30, Param(parent='GBTClassifier_742a8b407c15', name='minInstancesPerNode', doc='Minimum number of instances each child must have after split. If a split causes the left or right child to have fewer than minInstancesPerNode, the split will be discarded as invalid. Should be >= 1.'): 1000, Param(parent='GBTClassifier_742a8b407c15', name='maxBins', doc='Max number of bins for discretizing continuous features.  Must be >=2 and >= number of categories for any categorical feature.'): 10, Param(parent='GBTClassifier_742a8b407c15', name='maxIter', doc='max number of iterations (>= 0).'): 100} \n",
    "AVG Metric: 0.832474376023306\n",
    "\n",
    "CPU times: user 700 ms, sys: 292 ms, total: 993 ms\n",
    "Wall time: 11min 18s"
   ]
  },
  {
   "cell_type": "markdown",
   "id": "f504f7b2-9683-4d66-839a-9cbdd0f28bd9",
   "metadata": {},
   "source": [
    "##### Test with unseen data and best hyperparameters combination"
   ]
  },
  {
   "cell_type": "code",
   "execution_count": 16,
   "id": "202a50f6-3815-4c97-99db-4427b42b6c9a",
   "metadata": {},
   "outputs": [
    {
     "name": "stderr",
     "output_type": "stream",
     "text": [
      "                                                                                \r"
     ]
    },
    {
     "name": "stdout",
     "output_type": "stream",
     "text": [
      "Evaluation of GBT Classifier Train Data\n",
      "accuracy: 0.7660792423425044\n",
      "test error: 0.23392075765749565\n",
      "precision: 0.7936471286736815\n",
      "recall: 0.7200658386951968\n",
      "\n",
      " confusionMatrix:\n",
      " [[27061.  6256.]\n",
      " [ 9354. 24061.]] \n",
      "\n",
      "fMeasure: 0.7550680976589469\n"
     ]
    },
    {
     "name": "stderr",
     "output_type": "stream",
     "text": [
      "[Stage 2977:>                                                       (0 + 1) / 1]\r"
     ]
    },
    {
     "name": "stdout",
     "output_type": "stream",
     "text": [
      "Evaluation of GBT Classifier Test Data\n",
      "accuracy: 0.7524222790227665\n",
      "test error: 0.24757772097723352\n",
      "precision: 0.7764286656988254\n",
      "recall: 0.7042135503950203\n",
      "\n",
      " confusionMatrix:\n",
      " [[6775. 1694.]\n",
      " [2471. 5883.]] \n",
      "\n",
      "fMeasure: 0.7385600401732471\n"
     ]
    },
    {
     "name": "stderr",
     "output_type": "stream",
     "text": [
      "                                                                                \r"
     ]
    }
   ],
   "source": [
    "# Train a model with the best parameters\n",
    "best_gbt_model = GBTClassifier(labelCol=\"label\", featuresCol=\"indexedFeatures\", maxDepth=30, maxBins=10, minInstancesPerNode=1000, maxIter=100).fit(train_data)\n",
    "\n",
    "# Make predictions.\n",
    "best_gbt_predictions_train = best_gbt_model.transform(train_data)\n",
    "best_gbt_predictions_test = best_gbt_model.transform(test_data)\n",
    "\n",
    "# evaluate\n",
    "evaluate(best_gbt_model, best_gbt_predictions_train, 'label', 'GBT Classifier Train Data')\n",
    "evaluate(best_gbt_model, best_gbt_predictions_test, 'label', 'GBT Classifier Test Data')"
   ]
  },
  {
   "cell_type": "markdown",
   "id": "ae103028-cd46-45d5-b631-020678be1baf",
   "metadata": {},
   "source": [
    "### 3.5 Random Forest Classifier <a class=\"anchor\" id=\"rfc\"></a>\n",
    "#### Tune RF Model:\n",
    "- Fit model to train data\n",
    "- Use KFold Cross Validation K=10\n",
    "- Iterate through different combinations of hyperparameters to find the best metric"
   ]
  },
  {
   "cell_type": "code",
   "execution_count": 17,
   "id": "3db2e8bb-ef4c-460b-98bb-8387a7db015b",
   "metadata": {},
   "outputs": [],
   "source": [
    "# This code is commented out, because it can take hours to run it. The output is provided in the next merkdown cell.\n",
    "\n",
    "# %%time\n",
    "\n",
    "# # Train a RandomForest model.\n",
    "# rf_model = RandomForestClassifier(labelCol=\"label\", featuresCol=\"indexedFeatures\", numTrees=30)\n",
    "\n",
    "\n",
    "# '''\n",
    "# class pyspark.ml.classification.RandomForestClassifier(*, featuresCol='features', labelCol='label', predictionCol='prediction', \n",
    "# probabilityCol='probability', rawPredictionCol='rawPrediction', maxDepth=5, maxBins=32, minInstancesPerNode=1, minInfoGain=0.0, \n",
    "# maxMemoryInMB=256, cacheNodeIds=False, checkpointInterval=10, \n",
    "# impurity='gini', numTrees=20, featureSubsetStrategy='auto', seed=None, subsamplingRate=1.0, leafCol='', minWeightFractionPerNode=0.0, weightCol=None, bootstrap=True)[source]\n",
    "# '''\n",
    "\n",
    "# # create combinations of hyperparameters\n",
    "# rf_param_grid = ParamGridBuilder()\\\n",
    "#             .addGrid(rf_model.maxDepth,[5, 10, 30])\\\n",
    "#             .addGrid(rf_model.maxBins,[8, 16])\\\n",
    "#             .addGrid(rf_model.numTrees,[5, 10, 30])\\\n",
    "#             .addGrid(rf_model.minInstancesPerNode,[10, 100, 200])\\\n",
    "#             .build()\n",
    "\n",
    "# # cross validation\n",
    "# rf_cross_val = CrossValidator(estimator = rf_model,\n",
    "#                          estimatorParamMaps = rf_param_grid,\n",
    "#                          evaluator = MulticlassClassificationEvaluator(),\n",
    "#                          numFolds = 10)\n",
    "\n",
    "# # run the model selection\n",
    "# cv_model = rf_cross_val.fit(train_data)\n",
    "\n",
    "# # Best model params:\n",
    "# best_params_idx = np.argmax(cv_model.avgMetrics)\n",
    "# print(f\"{rf_param_grid[best_params_idx]} \\nAVG Metric: {cv_model.avgMetrics[best_params_idx]}\\n\")"
   ]
  },
  {
   "cell_type": "markdown",
   "id": "362b02c1-f5b2-4df4-a596-42bcddb87eb8",
   "metadata": {},
   "source": [
    "##### NOTE: THIS IS SAVED OUTPUT. RE-RUNNING THE CELL CAN TAKE HOURS:**\n",
    "\n",
    "{Param(parent='RandomForestClassifier_3a6bc948267d', name='maxDepth', doc='Maximum depth of the tree. (>= 0) E.g., depth 0 means 1 leaf node; depth 1 means 1 internal node + 2 leaf nodes. Must be in range [0, 30].'): 10, Param(parent='RandomForestClassifier_3a6bc948267d', name='maxBins', doc='Max number of bins for discretizing continuous features.  Must be >=2 and >= number of categories for any categorical feature.'): 16, Param(parent='RandomForestClassifier_3a6bc948267d', name='numTrees', doc='Number of trees to train (>= 1).'): 30, Param(parent='RandomForestClassifier_3a6bc948267d', name='minInstancesPerNode', doc='Minimum number of instances each child must have after split. If a split causes the left or right child to have fewer than minInstancesPerNode, the split will be discarded as invalid. Should be >= 1.'): 10} \n",
    "AVG Metric: 0.7535031084760802"
   ]
  },
  {
   "cell_type": "markdown",
   "id": "ea464905-4aa9-4268-86ac-1a8c8ef607e3",
   "metadata": {},
   "source": [
    "##### Test with unseen data and best hyperparameters combination"
   ]
  },
  {
   "cell_type": "code",
   "execution_count": 18,
   "id": "929dc1da-e2cf-47e6-b890-0b36fc016e22",
   "metadata": {},
   "outputs": [
    {
     "name": "stderr",
     "output_type": "stream",
     "text": [
      "                                                                                \r"
     ]
    },
    {
     "name": "stdout",
     "output_type": "stream",
     "text": [
      "Evaluation of Random forest Classifier Train Data\n",
      "accuracy: 0.7645657255889229\n",
      "test error: 0.23543427441107712\n",
      "precision: 0.7982077887077214\n",
      "recall: 0.7090827472691905\n",
      "\n",
      " confusionMatrix:\n",
      " [[27327.  5990.]\n",
      " [ 9721. 23694.]] \n",
      "\n",
      "fMeasure: 0.7510103171207151\n"
     ]
    },
    {
     "name": "stderr",
     "output_type": "stream",
     "text": [
      "[Stage 3018:>                                                       (0 + 1) / 1]\r"
     ]
    },
    {
     "name": "stdout",
     "output_type": "stream",
     "text": [
      "Evaluation of Random forest Classifier Test Data\n",
      "accuracy: 0.751708969862688\n",
      "test error: 0.24829103013731202\n",
      "precision: 0.7796224394162539\n",
      "recall: 0.6970313622216902\n",
      "\n",
      " confusionMatrix:\n",
      " [[6823. 1646.]\n",
      " [2531. 5823.]] \n",
      "\n",
      "fMeasure: 0.7360171901662137\n"
     ]
    },
    {
     "name": "stderr",
     "output_type": "stream",
     "text": [
      "                                                                                \r"
     ]
    }
   ],
   "source": [
    "# Train a model with the best parameters\n",
    "best_rf_model = RandomForestClassifier(labelCol=\"label\", featuresCol=\"indexedFeatures\", maxDepth=10, maxBins=16, minInstancesPerNode=10, numTrees=30).fit(train_data)\n",
    "\n",
    "# Make predictions.\n",
    "best_rf_predictions_train = best_rf_model.transform(train_data)\n",
    "best_rf_predictions_test = best_rf_model.transform(test_data)\n",
    "\n",
    "# evaluate\n",
    "evaluate(best_rf_model, best_rf_predictions_train, 'label', 'Random forest Classifier Train Data')\n",
    "evaluate(best_rf_model, best_rf_predictions_test, 'label', 'Random forest Classifier Test Data')"
   ]
  },
  {
   "cell_type": "markdown",
   "id": "9f26366c-194d-44a2-b895-d68733e39b75",
   "metadata": {},
   "source": [
    "## 4. Results Evaluation <a class=\"anchor\" id=\"evaluation\"></a>\n",
    "### 4.1 Selection of the Best Model"
   ]
  },
  {
   "cell_type": "markdown",
   "id": "3940f7ae-dae4-411a-88ba-71df4dc4a206",
   "metadata": {},
   "source": [
    "\n",
    "- Healthcare Industry: the Recall metric would be the most appropriate because it is very important to identify as many individuals as possible at risk.**\n",
    "- Insurance Industry: the combination of Presicion and Accuracy metrics would be better, because insurance companies want to predict non-risk individuals as well.**\n",
    "\n",
    "**For both industries, the Gradient Boosted Tree Classifier model looks the best among all that we tried:**\n",
    "```\n",
    "Evaluation of GBT Classifier Train Data\n",
    "accuracy: 0.76619327505445\n",
    "test error: 0.23380672494555\n",
    "precision: 0.792291639493935\n",
    "recall: 0.7231332400821404\n",
    "\n",
    " confusionMatrix:\n",
    " [[27063.  6370.]\n",
    " [ 9303. 24298.]] \n",
    "\n",
    "fMeasure: 0.7561343727146835\n",
    "                                                                                \n",
    "Evaluation of GBT Classifier Test Data\n",
    "accuracy: 0.7521941771079232\n",
    "test error: 0.24780582289207675\n",
    "precision: 0.7708776595744681\n",
    "recall: 0.709720861900098\n",
    "\n",
    " confusionMatrix:\n",
    " [[6630. 1723.]\n",
    " [2371. 5797.]] \n",
    "\n",
    "fMeasure: 0.7390362060173382\n",
    "```"
   ]
  },
  {
   "cell_type": "markdown",
   "id": "4d8492f8-607e-4b78-9121-54710f0336fe",
   "metadata": {},
   "source": [
    "### 4.2 ROC Curves for Train and Test Data <a class=\"anchor\" id=\"roc\"></a>\n",
    "##### Function to plot the ROC curves for several models at once:"
   ]
  },
  {
   "cell_type": "code",
   "execution_count": 19,
   "id": "369c803b-880d-4ba9-8db3-e45f34d049fa",
   "metadata": {},
   "outputs": [],
   "source": [
    "# this code was taken and modified per our needs from:\n",
    "# https://stackoverflow.com/questions/52847408/pyspark-extract-roc-curve\n",
    "\n",
    "class CurveMetrics(BinaryClassificationMetrics):\n",
    "    def __init__(self, *args):\n",
    "        super(CurveMetrics, self).__init__(*args)\n",
    "\n",
    "    def _to_list(self, rdd):\n",
    "        points = []\n",
    "        # Note this collect could be inefficient for large datasets \n",
    "        # considering there may be one probability per datapoint (at most)\n",
    "        # The Scala version takes a numBins parameter, \n",
    "        # but it doesn't seem possible to pass this from Python to Java\n",
    "        for row in rdd.collect():\n",
    "            # Results are returned as type scala.Tuple2, \n",
    "            # which doesn't appear to have a py4j mapping\n",
    "            points += [(float(row._1()), float(row._2()))]\n",
    "        return points\n",
    "\n",
    "    def get_curve(self, method):\n",
    "        rdd = getattr(self._java_model, method)().toJavaRDD()\n",
    "        return self._to_list(rdd)    \n",
    "    \n",
    "    \n",
    "def plot_roc(args, title):\n",
    "    \"\"\"\n",
    "    The function plots ROC Curve graph for the models.\n",
    "    \n",
    "    :param list args: - list of argument lists to plot several graphs at once. Each list of arguments contains: \n",
    "        Model Object model: - model object after fitting the data\n",
    "        DataFrame predictions_df - DataFrame with label and predicted values\n",
    "        str label - the name of column with labels\n",
    "        str model_name - name of the model for printing the title\n",
    "        str model_type - type of the model ('tree' for DecisionTree, RandomForest and Gradient Tree Booster)\n",
    "        :param str title - type of the model ('tree' for DecisionTree, RandomForest and Gradient Tree Booster)\n",
    "    :return: None\n",
    "    \"\"\"\n",
    "    plt.figure(figsize=(15, 15))\n",
    "    \n",
    "    # plot each model ROC curve in one graph\n",
    "    for arg in args:\n",
    "       \n",
    "        model, predictions_df, label, model_name, model_type = arg\n",
    "\n",
    "        #  replace 0s with 2, to get correct confusion matrix\n",
    "        print('Creating plot for:', model_name)\n",
    "\n",
    "        preds_and_labels = predictions_df.select(['prediction',label])\n",
    "        preds_and_labels = preds_and_labels.withColumn(\"prediction\",when(preds_and_labels.prediction == 0,2).otherwise(1))\n",
    "        preds_and_labels = preds_and_labels.withColumn(label,when(preds_and_labels[label] == 0,2).otherwise(1))\n",
    "\n",
    "        # cast to float\n",
    "        preds_and_labels = preds_and_labels.select(['prediction',label]).withColumn(label, pyspark.sql.functions.col(label).cast(FloatType())).orderBy('prediction')\n",
    "        preds_and_labels = preds_and_labels.select(['prediction',label]).withColumn('prediction', pyspark.sql.functions.col('prediction').cast(FloatType())).orderBy('prediction')\n",
    "\n",
    "        pred_and_labels_rdd = preds_and_labels.rdd.map(tuple)\n",
    "        metrics = BinaryClassificationMetrics(pred_and_labels_rdd)\n",
    "\n",
    "\n",
    "        # special treatment for 'tree based' models\n",
    "        if model_type=='tree':\n",
    "            preds = predictions_df.select('label','probability').rdd.map(lambda row: (float(row['probability'][1]), float(row['label'])))\n",
    "            points = CurveMetrics(preds).get_curve('roc')\n",
    "            x_val = [x[0] for x in points]\n",
    "            y_val = [x[1] for x in points]\n",
    "            plt.plot(x_val, y_val, label=model_name)\n",
    "        \n",
    "        # for logistic regression\n",
    "        else:  \n",
    "            plt.plot(model.summary.roc.select('FPR').collect(), model.summary.roc.select('TPR').collect(), label=model_name)\n",
    "    \n",
    "    plt.plot([0, 1], [0, 1], 'r--')\n",
    "    plt.xlabel('FPR')\n",
    "    plt.ylabel('TPR')\n",
    "    plt.title(title, fontsize=20)\n",
    "    plt.legend(prop={'size': 20})\n",
    "    plt.show()"
   ]
  },
  {
   "cell_type": "markdown",
   "id": "17bca19d-0195-4587-aa29-a7c78a9a35ac",
   "metadata": {},
   "source": [
    "##### ROC Curves of Train Data"
   ]
  },
  {
   "cell_type": "code",
   "execution_count": 20,
   "id": "0d30a8ff-02dc-4324-a8c7-0709562ea632",
   "metadata": {},
   "outputs": [
    {
     "name": "stdout",
     "output_type": "stream",
     "text": [
      "Creating plot for: Gradient Boosted Tree Classifier\n"
     ]
    },
    {
     "name": "stderr",
     "output_type": "stream",
     "text": [
      "                                                                                \r"
     ]
    },
    {
     "name": "stdout",
     "output_type": "stream",
     "text": [
      "Creating plot for: Logistic Regression\n"
     ]
    },
    {
     "name": "stderr",
     "output_type": "stream",
     "text": [
      "                                                                                \r"
     ]
    },
    {
     "name": "stdout",
     "output_type": "stream",
     "text": [
      "Creating plot for: Random forest Classifier\n"
     ]
    },
    {
     "name": "stderr",
     "output_type": "stream",
     "text": [
      "                                                                                \r"
     ]
    },
    {
     "name": "stdout",
     "output_type": "stream",
     "text": [
      "Creating plot for: Decision Tree\n"
     ]
    },
    {
     "name": "stderr",
     "output_type": "stream",
     "text": [
      "                                                                                \r"
     ]
    },
    {
     "data": {
      "image/png": "[encoded data removed]",
      "text/plain": [
       "<Figure size 1080x1080 with 1 Axes>"
      ]
     },
     "metadata": {
      "needs_background": "light"
     },
     "output_type": "display_data"
    }
   ],
   "source": [
    "args = [\n",
    "    [best_gbt_model, best_gbt_predictions_train, 'label', 'Gradient Boosted Tree Classifier', 'tree'],\n",
    "    [best_lr_model, best_lr_preds_train, 'label', 'Logistic Regression', 'lr'],\n",
    "    [best_rf_model, best_rf_predictions_train, 'label', 'Random forest Classifier', 'tree'],\n",
    "    [best_dtree_model, best_dtree_predictions_train, 'label', 'Decision Tree', 'tree']\n",
    "]\n",
    "plot_roc(args, title=f'ROC Curves Comparison Between Models: Train Data')"
   ]
  },
  {
   "cell_type": "markdown",
   "id": "362240f3-2c2b-4b96-90b7-6d70e50206a5",
   "metadata": {},
   "source": [
    "##### ROC Curves of Test Data"
   ]
  },
  {
   "cell_type": "code",
   "execution_count": 21,
   "id": "2f029c0a-99e2-47f6-a671-994b5684cc93",
   "metadata": {},
   "outputs": [
    {
     "name": "stdout",
     "output_type": "stream",
     "text": [
      "Creating plot for: Gradient Boosted Tree Classifier\n"
     ]
    },
    {
     "name": "stderr",
     "output_type": "stream",
     "text": [
      "                                                                                \r"
     ]
    },
    {
     "name": "stdout",
     "output_type": "stream",
     "text": [
      "Creating plot for: Logistic Regression\n"
     ]
    },
    {
     "name": "stderr",
     "output_type": "stream",
     "text": [
      "                                                                                \r"
     ]
    },
    {
     "name": "stdout",
     "output_type": "stream",
     "text": [
      "Creating plot for: Random forest Classifier\n"
     ]
    },
    {
     "name": "stderr",
     "output_type": "stream",
     "text": [
      "                                                                                \r"
     ]
    },
    {
     "name": "stdout",
     "output_type": "stream",
     "text": [
      "Creating plot for: Decision Tree\n"
     ]
    },
    {
     "name": "stderr",
     "output_type": "stream",
     "text": [
      "                                                                                \r"
     ]
    },
    {
     "data": {
      "image/png": "[encoded data removed]",
      "text/plain": [
       "<Figure size 1080x1080 with 1 Axes>"
      ]
     },
     "metadata": {
      "needs_background": "light"
     },
     "output_type": "display_data"
    }
   ],
   "source": [
    "args = [\n",
    "    [best_gbt_model, best_gbt_predictions_test, 'label', 'Gradient Boosted Tree Classifier', 'tree'],\n",
    "    [best_lr_model, best_lr_preds_test, 'label', 'Logistic Regression', 'lr'],\n",
    "    [best_rf_model, best_rf_predictions_test, 'label', 'Random forest Classifier', 'tree'],\n",
    "    [best_dtree_model, best_dtree_predictions_test, 'label', 'Decision Tree', 'tree']\n",
    "]\n",
    "plot_roc(args, title=f'ROC Curves Comparison Between Models: Test Data')"
   ]
  },
  {
   "cell_type": "markdown",
   "id": "fb333a8d-79e1-46fe-a488-42f1bfb87747",
   "metadata": {},
   "source": [
    "## 5. Stop Spark Session: <a class=\"anchor\" id=\"stop\"></a>"
   ]
  },
  {
   "cell_type": "code",
   "execution_count": 22,
   "id": "4ee118c4-f8cd-4423-a577-19e15c4b8e59",
   "metadata": {},
   "outputs": [],
   "source": [
    "spark.stop()"
   ]
  },
  {
   "cell_type": "code",
   "execution_count": null,
   "id": "95ec1e80-87c6-492c-b00a-6516d3a8b471",
   "metadata": {},
   "outputs": [],
   "source": []
  }
 ],
 "metadata": {
  "kernelspec": {
   "display_name": "Python 3 (ipykernel)",
   "language": "python",
   "name": "python3"
  },
  "language_info": {
   "codemirror_mode": {
    "name": "ipython",
    "version": 3
   },
   "file_extension": ".py",
   "mimetype": "text/x-python",
   "name": "python",
   "nbconvert_exporter": "python",
   "pygments_lexer": "ipython3",
   "version": "3.8.10"
  }
 },
 "nbformat": 4,
 "nbformat_minor": 5
}
